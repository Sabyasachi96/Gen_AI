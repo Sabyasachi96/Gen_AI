{
 "cells": [
  {
   "cell_type": "code",
   "execution_count": 0,
   "metadata": {
    "application/vnd.databricks.v1+cell": {
     "cellMetadata": {
      "byteLimit": 2048000,
      "rowLimit": 10000
     },
     "inputWidgets": {},
     "nuid": "de93eecc-32e8-4671-9f94-43fd422ef162",
     "showTitle": false,
     "tableResultSettingsMap": {},
     "title": ""
    },
    "nteract": {
     "transient": {
      "deleting": false
     }
    }
   },
   "outputs": [
    {
     "output_type": "stream",
     "name": "stdout",
     "output_type": "stream",
     "text": [
      "Requirement already satisfied: openai==1.55.3 in /local_disk0/.ephemeral_nfs/envs/pythonEnv-b18f5e4a-3234-4a89-b14c-bd3f7aa6adb5/lib/python3.10/site-packages (1.55.3)\nRequirement already satisfied: httpx<1,>=0.23.0 in /local_disk0/.ephemeral_nfs/envs/pythonEnv-b18f5e4a-3234-4a89-b14c-bd3f7aa6adb5/lib/python3.10/site-packages (from openai==1.55.3) (0.28.1)\nRequirement already satisfied: distro<2,>=1.7.0 in /usr/lib/python3/dist-packages (from openai==1.55.3) (1.7.0)\nRequirement already satisfied: tqdm>4 in /local_disk0/.ephemeral_nfs/envs/pythonEnv-b18f5e4a-3234-4a89-b14c-bd3f7aa6adb5/lib/python3.10/site-packages (from openai==1.55.3) (4.67.1)\nRequirement already satisfied: sniffio in /databricks/python3/lib/python3.10/site-packages (from openai==1.55.3) (1.2.0)\nRequirement already satisfied: jiter<1,>=0.4.0 in /local_disk0/.ephemeral_nfs/envs/pythonEnv-b18f5e4a-3234-4a89-b14c-bd3f7aa6adb5/lib/python3.10/site-packages (from openai==1.55.3) (0.9.0)\nRequirement already satisfied: anyio<5,>=3.5.0 in /databricks/python3/lib/python3.10/site-packages (from openai==1.55.3) (3.5.0)\nRequirement already satisfied: typing-extensions<5,>=4.11 in /local_disk0/.ephemeral_nfs/envs/pythonEnv-b18f5e4a-3234-4a89-b14c-bd3f7aa6adb5/lib/python3.10/site-packages (from openai==1.55.3) (4.13.1)\nRequirement already satisfied: pydantic<3,>=1.9.0 in /databricks/python3/lib/python3.10/site-packages (from openai==1.55.3) (1.10.6)\nRequirement already satisfied: idna>=2.8 in /databricks/python3/lib/python3.10/site-packages (from anyio<5,>=3.5.0->openai==1.55.3) (3.4)\nRequirement already satisfied: certifi in /databricks/python3/lib/python3.10/site-packages (from httpx<1,>=0.23.0->openai==1.55.3) (2022.12.7)\nRequirement already satisfied: httpcore==1.* in /local_disk0/.ephemeral_nfs/envs/pythonEnv-b18f5e4a-3234-4a89-b14c-bd3f7aa6adb5/lib/python3.10/site-packages (from httpx<1,>=0.23.0->openai==1.55.3) (1.0.7)\nRequirement already satisfied: h11<0.15,>=0.13 in /local_disk0/.ephemeral_nfs/envs/pythonEnv-b18f5e4a-3234-4a89-b14c-bd3f7aa6adb5/lib/python3.10/site-packages (from httpcore==1.*->httpx<1,>=0.23.0->openai==1.55.3) (0.14.0)\n\u001B[43mNote: you may need to restart the kernel using %restart_python or dbutils.library.restartPython() to use updated packages.\u001B[0m\n"
     ]
    }
   ],
   "source": [
    "!pip install openai==1.55.3"
   ]
  },
  {
   "cell_type": "code",
   "execution_count": 0,
   "metadata": {
    "application/vnd.databricks.v1+cell": {
     "cellMetadata": {
      "byteLimit": 2048000,
      "rowLimit": 10000
     },
     "inputWidgets": {},
     "nuid": "d247d2b4-b8a3-4b21-92b7-875754653aaf",
     "showTitle": false,
     "tableResultSettingsMap": {},
     "title": ""
    }
   },
   "outputs": [],
   "source": [
    "dbutils.library.restartPython()"
   ]
  },
  {
   "cell_type": "code",
   "execution_count": 0,
   "metadata": {
    "application/vnd.databricks.v1+cell": {
     "cellMetadata": {
      "byteLimit": 2048000,
      "rowLimit": 10000
     },
     "inputWidgets": {},
     "nuid": "1518e8c4-2d54-438a-a898-cc58a3ee17db",
     "showTitle": false,
     "tableResultSettingsMap": {},
     "title": ""
    },
    "gather": {
     "logged": 1712333180112
    }
   },
   "outputs": [],
   "source": [
    "# Add Azure OpenAI package\n",
    "from openai import AzureOpenAI"
   ]
  },
  {
   "cell_type": "code",
   "execution_count": 0,
   "metadata": {
    "application/vnd.databricks.v1+cell": {
     "cellMetadata": {
      "byteLimit": 2048000,
      "rowLimit": 10000
     },
     "inputWidgets": {},
     "nuid": "825c957b-7e06-4e6e-a500-aa2412b10d0e",
     "showTitle": false,
     "tableResultSettingsMap": {},
     "title": ""
    },
    "gather": {
     "logged": 1712333182445
    },
    "nteract": {
     "transient": {
      "deleting": false
     }
    }
   },
   "outputs": [],
   "source": [
    "azure_oai_endpoint =\"https://pikachu.openai.azure.com/\"\n",
    "azure_oai_key =\"hJz10tU5nntfETdVUTY4cjxaT5gmvcJDQDyGRj55mbMpOKnUh3JIJQQJ99BDAC5T7U2XJ3w3AAABACOGAFnR\"\n",
    "azure_oai_deployment =\"mygptmodel\""
   ]
  },
  {
   "cell_type": "code",
   "execution_count": 0,
   "metadata": {
    "application/vnd.databricks.v1+cell": {
     "cellMetadata": {
      "byteLimit": 2048000,
      "rowLimit": 10000
     },
     "inputWidgets": {},
     "nuid": "eac050ef-ea72-4834-9f09-0155a0bceba9",
     "showTitle": false,
     "tableResultSettingsMap": {},
     "title": ""
    },
    "gather": {
     "logged": 1712333183879
    },
    "nteract": {
     "transient": {
      "deleting": false
     }
    }
   },
   "outputs": [],
   "source": [
    "# Initialize the Azure OpenAI client\n",
    "client = AzureOpenAI(\n",
    "        azure_endpoint = azure_oai_endpoint, \n",
    "        api_key=azure_oai_key,  \n",
    "        api_version=\"2024-02-15-preview\"\n",
    "        )\n",
    "\n"
   ]
  },
  {
   "cell_type": "code",
   "execution_count": 0,
   "metadata": {
    "application/vnd.databricks.v1+cell": {
     "cellMetadata": {
      "byteLimit": 2048000,
      "rowLimit": 10000
     },
     "inputWidgets": {},
     "nuid": "8ab3be8b-4e4f-4953-b474-ff002e381418",
     "showTitle": false,
     "tableResultSettingsMap": {},
     "title": ""
    },
    "gather": {
     "logged": 1712333189626
    },
    "nteract": {
     "transient": {
      "deleting": false
     }
    }
   },
   "outputs": [
    {
     "output_type": "stream",
     "name": "stdout",
     "output_type": "stream",
     "text": [
      "ChatCompletion(id='chatcmpl-BIaB9zaxxInS8TTgezDsj3Mq31ih0', choices=[Choice(finish_reason='stop', index=0, logprobs=None, message=ChatCompletionMessage(content='Absolutely! Polar bears are big fans of pizzas as well. They especially love the ones with extra fish toppings. Just be careful not to leave your pizza unattended around them, or you might end up in a sticky situation!', refusal=None, role='assistant', audio=None, function_call=None, tool_calls=None), content_filter_results={'hate': {'filtered': False, 'severity': 'safe'}, 'self_harm': {'filtered': False, 'severity': 'safe'}, 'sexual': {'filtered': False, 'severity': 'safe'}, 'violence': {'filtered': False, 'severity': 'safe'}})], created=1743768675, model='gpt-35-turbo-16k', object='chat.completion', service_tier=None, system_fingerprint='fp_0165350fbb', usage=CompletionUsage(completion_tokens=45, prompt_tokens=60, total_tokens=105, completion_tokens_details=None, prompt_tokens_details=None), prompt_filter_results=[{'prompt_index': 0, 'content_filter_results': {'hate': {'filtered': False, 'severity': 'safe'}, 'jailbreak': {'filtered': False, 'detected': False}, 'self_harm': {'filtered': False, 'severity': 'safe'}, 'sexual': {'filtered': False, 'severity': 'safe'}, 'violence': {'filtered': False, 'severity': 'safe'}}}])\n"
     ]
    }
   ],
   "source": [
    "# Add code to send request...\n",
    "# Send request to Azure OpenAI model\n",
    "response = client.chat.completions.create(\n",
    "    model=azure_oai_deployment,\n",
    "    temperature=0.7,\n",
    "    max_tokens=200,\n",
    "    messages=[\n",
    "        {\"role\": \"system\", \"content\": \"You are a helpful assistant with a lot of humor.\"},\n",
    "        {\"role\": \"user\", \"content\": \"Do penguins like pizzas?\"},\n",
    "        {\"role\": \"assistant\", \"content\": \"Yes, penguins like pizza very much. They also like chips and hummus.\"},\n",
    "        {\"role\": \"user\", \"content\": \"Do polar bears support pizzas too?\"}\n",
    "    ]\n",
    ")\n",
    "\n",
    "\n",
    "print(response)"
   ]
  },
  {
   "cell_type": "code",
   "execution_count": 0,
   "metadata": {
    "application/vnd.databricks.v1+cell": {
     "cellMetadata": {
      "byteLimit": 2048000,
      "rowLimit": 10000
     },
     "inputWidgets": {},
     "nuid": "029514c8-a290-4b42-bebc-1dd36645540d",
     "showTitle": false,
     "tableResultSettingsMap": {},
     "title": ""
    },
    "gather": {
     "logged": 1712333189871
    },
    "nteract": {
     "transient": {
      "deleting": false
     }
    }
   },
   "outputs": [
    {
     "output_type": "stream",
     "name": "stdout",
     "output_type": "stream",
     "text": [
      "Response: Absolutely! Polar bears are big fans of pizzas as well. They especially love the ones with extra fish toppings. Just be careful not to leave your pizza unattended around them, or you might end up in a sticky situation!\n\n"
     ]
    }
   ],
   "source": [
    "generated_text = response.choices[0].message.content\n",
    "\n",
    "# Print the response\n",
    "print(\"Response: \" + generated_text + \"\\n\")"
   ]
  },
  {
   "cell_type": "markdown",
   "metadata": {
    "application/vnd.databricks.v1+cell": {
     "cellMetadata": {},
     "inputWidgets": {},
     "nuid": "2db1387b-e241-4eb7-8ee9-266bb178a1d4",
     "showTitle": false,
     "tableResultSettingsMap": {},
     "title": ""
    },
    "nteract": {
     "transient": {
      "deleting": false
     }
    }
   },
   "source": [
    "**Maintain Chat History**"
   ]
  },
  {
   "cell_type": "code",
   "execution_count": 0,
   "metadata": {
    "application/vnd.databricks.v1+cell": {
     "cellMetadata": {
      "byteLimit": 2048000,
      "rowLimit": 10000
     },
     "inputWidgets": {},
     "nuid": "9280436a-ed0d-4b0e-b042-0b3f6e192ca4",
     "showTitle": false,
     "tableResultSettingsMap": {},
     "title": ""
    },
    "gather": {
     "logged": 1712333260307
    },
    "nteract": {
     "transient": {
      "deleting": false
     }
    }
   },
   "outputs": [],
   "source": [
    "# To maintain chat hisotry, we initialize messages array and append all interactions to the messages array\n",
    "messages_array = [ {\"role\": \"system\", \"content\": \"You are a helpful assistant with a lot of humor.\"},\n",
    "        {\"role\": \"user\", \"content\": \"Do penguins like pizzas?\"},\n",
    "        {\"role\": \"assistant\", \"content\": \"Yes, penguins like pizza very much. They also like chips and hummus.\"}\n",
    "        \n",
    "        ]"
   ]
  },
  {
   "cell_type": "code",
   "execution_count": 0,
   "metadata": {
    "application/vnd.databricks.v1+cell": {
     "cellMetadata": {
      "byteLimit": 2048000,
      "rowLimit": 10000
     },
     "inputWidgets": {},
     "nuid": "905b287c-1a1e-4806-acb8-6fc6d54a1791",
     "showTitle": false,
     "tableResultSettingsMap": {},
     "title": ""
    },
    "gather": {
     "logged": 1712333261573
    },
    "nteract": {
     "transient": {
      "deleting": false
     }
    }
   },
   "outputs": [],
   "source": [
    "input_text = \"Which walrus hates jalapenos the most?\""
   ]
  },
  {
   "cell_type": "code",
   "execution_count": 0,
   "metadata": {
    "application/vnd.databricks.v1+cell": {
     "cellMetadata": {
      "byteLimit": 2048000,
      "rowLimit": 10000
     },
     "inputWidgets": {},
     "nuid": "aa42f9ab-7e46-4171-b6a4-b761a7293d9b",
     "showTitle": false,
     "tableResultSettingsMap": {},
     "title": ""
    },
    "gather": {
     "logged": 1712333265598
    },
    "nteract": {
     "transient": {
      "deleting": false
     }
    }
   },
   "outputs": [
    {
     "output_type": "stream",
     "name": "stdout",
     "output_type": "stream",
     "text": [
      "Summary: Oh, that's a tricky question! I'm not sure which walrus hates jalapenos the most, but I heard Terry the Walrus is not a fan. Apparently, whenever he accidentally gets a taste of jalapenos, he lets out a walrus-sized sneeze! Poor Terry.\n\n"
     ]
    }
   ],
   "source": [
    "# Add code to send request...\n",
    "# Send request to Azure OpenAI model\n",
    "messages_array.append({\"role\": \"user\", \"content\": input_text})\n",
    "\n",
    "response = client.chat.completions.create(\n",
    "    model=azure_oai_deployment,\n",
    "    temperature=0.9,\n",
    "    max_tokens=1200,\n",
    "    messages=messages_array\n",
    ")\n",
    "generated_text = response.choices[0].message.content\n",
    "# Add generated text to messages array\n",
    "messages_array.append({\"role\": \"system\", \"content\": generated_text})\n",
    "\n",
    "# Print generated text\n",
    "print(\"Summary: \" + generated_text + \"\\n\")"
   ]
  },
  {
   "cell_type": "markdown",
   "metadata": {
    "application/vnd.databricks.v1+cell": {
     "cellMetadata": {},
     "inputWidgets": {},
     "nuid": "a04ab46d-e8e3-4f69-a2f7-93e9466f06d3",
     "showTitle": false,
     "tableResultSettingsMap": {},
     "title": ""
    },
    "nteract": {
     "transient": {
      "deleting": false
     }
    }
   },
   "source": [
    "**Let's check out the messages array**"
   ]
  },
  {
   "cell_type": "code",
   "execution_count": 0,
   "metadata": {
    "application/vnd.databricks.v1+cell": {
     "cellMetadata": {
      "byteLimit": 2048000,
      "rowLimit": 10000
     },
     "inputWidgets": {},
     "nuid": "25c5ae8a-c0d2-41d8-bd13-ca082f1c0367",
     "showTitle": false,
     "tableResultSettingsMap": {},
     "title": ""
    },
    "gather": {
     "logged": 1712333314293
    },
    "nteract": {
     "transient": {
      "deleting": false
     }
    }
   },
   "outputs": [
    {
     "output_type": "stream",
     "name": "stdout",
     "output_type": "stream",
     "text": [
      "[{'role': 'system', 'content': 'You are a helpful assistant with a lot of humor.'}, {'role': 'user', 'content': 'Do penguins like pizzas?'}, {'role': 'assistant', 'content': 'Yes, penguins like pizza very much. They also like chips and hummus.'}, {'role': 'user', 'content': 'Which walrus hates jalapenos the most?'}, {'role': 'system', 'content': \"Oh, that's a tricky question! I'm not sure which walrus hates jalapenos the most, but I heard Terry the Walrus is not a fan. Apparently, whenever he accidentally gets a taste of jalapenos, he lets out a walrus-sized sneeze! Poor Terry.\"}]\n"
     ]
    }
   ],
   "source": [
    "print(messages_array)"
   ]
  },
  {
   "cell_type": "code",
   "execution_count": 0,
   "metadata": {
    "application/vnd.databricks.v1+cell": {
     "cellMetadata": {},
     "inputWidgets": {},
     "nuid": "8ba4ecf6-d296-42ef-994e-48ed97d65c47",
     "showTitle": false,
     "tableResultSettingsMap": {},
     "title": ""
    }
   },
   "outputs": [],
   "source": []
  }
 ],
 "metadata": {
  "application/vnd.databricks.v1+notebook": {
   "computePreferences": null,
   "dashboards": [],
   "environmentMetadata": null,
   "inputWidgetPreferences": null,
   "language": "python",
   "notebookMetadata": {
    "pythonIndentUnit": 2
   },
   "notebookName": "05_Chatcompletions_OpenAI",
   "widgets": {}
  },
  "kernel_info": {
   "name": "python38-azureml"
  },
  "kernelspec": {
   "display_name": "Python 3.8 - AzureML",
   "language": "python",
   "name": "python38-azureml"
  },
  "language_info": {
   "name": "python"
  },
  "microsoft": {
   "host": {
    "AzureML": {
     "notebookHasBeenCompleted": true
    }
   },
   "ms_spell_check": {
    "ms_spell_check_language": "en"
   }
  },
  "nteract": {
   "version": "nteract-front-end@1.0.0"
  }
 },
 "nbformat": 4,
 "nbformat_minor": 0
}