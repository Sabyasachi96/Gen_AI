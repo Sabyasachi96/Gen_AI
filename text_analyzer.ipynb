{
 "cells": [
  {
   "cell_type": "markdown",
   "metadata": {
    "application/vnd.databricks.v1+cell": {
     "cellMetadata": {
      "byteLimit": 2048000,
      "rowLimit": 10000
     },
     "inputWidgets": {},
     "nuid": "b41e0c21-4d75-45f0-85cf-f3f663ac0a87",
     "showTitle": false,
     "tableResultSettingsMap": {},
     "title": ""
    }
   },
   "source": [
    "##Design and implement a scalable Natural Language Processing (NLP) pipeline \n",
    "on the Databricks using SpaCy or NLTK for extracting insights from unstructured customer feedback data.\n",
    "The goal is to preprocess, analyze, and extract meaningful patterns such as sentiment, named entities, \n",
    "and key themes that can be used to improve product strategy and customer satisfaction.\n",
    " \n",
    "Please feel free to pick any open dataset/create one instead."
   ]
  },
  {
   "cell_type": "code",
   "execution_count": 0,
   "metadata": {
    "application/vnd.databricks.v1+cell": {
     "cellMetadata": {
      "byteLimit": 2048000,
      "rowLimit": 10000
     },
     "inputWidgets": {},
     "nuid": "1aa2df31-d0ea-4124-a705-5bf4c808e0ac",
     "showTitle": false,
     "tableResultSettingsMap": {},
     "title": ""
    }
   },
   "outputs": [
    {
     "output_type": "stream",
     "name": "stdout",
     "output_type": "stream",
     "text": [
      "Collecting numpy==1.26.4\n  Downloading numpy-1.26.4-cp311-cp311-manylinux_2_17_x86_64.manylinux2014_x86_64.whl.metadata (61 kB)\nDownloading numpy-1.26.4-cp311-cp311-manylinux_2_17_x86_64.manylinux2014_x86_64.whl (18.3 MB)\n\u001B[?25l   \u001B[90m━━━━━━━━━━━━━━━━━━━━━━━━━━━━━━━━━━━━━━━━\u001B[0m \u001B[32m0.0/18.3 MB\u001B[0m \u001B[31m?\u001B[0m eta \u001B[36m-:--:--\u001B[0m\n\u001B[2K   \u001B[91m━━━━\u001B[0m\u001B[90m╺\u001B[0m\u001B[90m━━━━━━━━━━━━━━━━━━━━━━━━━━━━━━━━━━━\u001B[0m \u001B[32m1.8/18.3 MB\u001B[0m \u001B[31m10.3 MB/s\u001B[0m eta \u001B[36m0:00:02\u001B[0m\n\u001B[2K   \u001B[91m━━━━━━━━━━━━━━━\u001B[0m\u001B[91m╸\u001B[0m\u001B[90m━━━━━━━━━━━━━━━━━━━━━━━━\u001B[0m \u001B[32m7.1/18.3 MB\u001B[0m \u001B[31m19.3 MB/s\u001B[0m eta \u001B[36m0:00:01\u001B[0m\n\u001B[2K   \u001B[90m━━━━━━━━━━━━━━━━━━━━━━━━━━━━━━━━━━━━━━━━\u001B[0m \u001B[32m18.3/18.3 MB\u001B[0m \u001B[31m32.5 MB/s\u001B[0m eta \u001B[36m0:00:00\u001B[0m\n\u001B[?25hInstalling collected packages: numpy\n  Attempting uninstall: numpy\n    Found existing installation: numpy 2.2.5\n    Uninstalling numpy-2.2.5:\n      Successfully uninstalled numpy-2.2.5\n\u001B[31mERROR: pip's dependency resolver does not currently take into account all the packages that are installed. This behaviour is the source of the following dependency conflicts.\nthinc 8.3.6 requires numpy<3.0.0,>=2.0.0, but you have numpy 1.26.4 which is incompatible.\u001B[0m\u001B[31m\n\u001B[0mSuccessfully installed numpy-1.26.4\n\u001B[43mNote: you may need to restart the kernel using %restart_python or dbutils.library.restartPython() to use updated packages.\u001B[0m\n"
     ]
    },
    {
     "output_type": "display_data",
     "data": {
      "text/plain": [
       "\u001B[0;31m---------------------------------------------------------------------------\u001B[0m\n",
       "\u001B[0;31mSystemError\u001B[0m                               Traceback (most recent call last)\n",
       "File \u001B[0;32m/databricks/python_shell/lib/dbruntime/PipMagicOverrides.py:175\u001B[0m, in \u001B[0;36mPipMagicHandler.runCmd\u001B[0;34m(self, magicCmd, line)\u001B[0m\n",
       "\u001B[1;32m    172\u001B[0m         \u001B[38;5;28mself\u001B[39m\u001B[38;5;241m.\u001B[39mentry_point\u001B[38;5;241m.\u001B[39mgetLogger()\u001B[38;5;241m.\u001B[39m_logInfo(\n",
       "\u001B[1;32m    173\u001B[0m             \u001B[38;5;124mf\u001B[39m\u001B[38;5;124m\"\u001B[39m\u001B[38;5;132;01m{\u001B[39;00m\u001B[38;5;18m__name__\u001B[39m\u001B[38;5;132;01m}\u001B[39;00m\u001B[38;5;124m: Setting spark.databricks.connect.environment to \u001B[39m\u001B[38;5;132;01m{\u001B[39;00mserialized_env\u001B[38;5;132;01m}\u001B[39;00m\u001B[38;5;124m.\u001B[39m\u001B[38;5;124m\"\u001B[39m\n",
       "\u001B[1;32m    174\u001B[0m         )\n",
       "\u001B[0;32m--> 175\u001B[0m         spark\u001B[38;5;241m.\u001B[39mconf\u001B[38;5;241m.\u001B[39mset(\u001B[38;5;124m\"\u001B[39m\u001B[38;5;124mspark.databricks.connect.environment\u001B[39m\u001B[38;5;124m\"\u001B[39m, serialized_env)\n",
       "\u001B[1;32m    176\u001B[0m \u001B[38;5;28;01mexcept\u001B[39;00m \u001B[38;5;167;01mException\u001B[39;00m \u001B[38;5;28;01mas\u001B[39;00m e:\n",
       "\n",
       "File \u001B[0;32m/databricks/python_shell/lib/dbruntime/UserNamespaceInitializer.py:43\u001B[0m, in \u001B[0;36mTripWire.__getattr__\u001B[0;34m(self, item)\u001B[0m\n",
       "\u001B[1;32m     42\u001B[0m \u001B[38;5;28;01mdef\u001B[39;00m \u001B[38;5;21m__getattr__\u001B[39m(\u001B[38;5;28mself\u001B[39m, item):\n",
       "\u001B[0;32m---> 43\u001B[0m     \u001B[38;5;28mself\u001B[39m\u001B[38;5;241m.\u001B[39m_raise()\n",
       "\n",
       "File \u001B[0;32m/databricks/python_shell/lib/dbruntime/UserNamespaceInitializer.py:33\u001B[0m, in \u001B[0;36mTripWire._raise\u001B[0;34m(self)\u001B[0m\n",
       "\u001B[1;32m     32\u001B[0m \u001B[38;5;28;01mif\u001B[39;00m \u001B[38;5;28mself\u001B[39m\u001B[38;5;241m.\u001B[39mmsg \u001B[38;5;241m==\u001B[39m \u001B[38;5;124m'\u001B[39m\u001B[38;5;124mnot_implemented\u001B[39m\u001B[38;5;124m'\u001B[39m \u001B[38;5;129;01mand\u001B[39;00m \u001B[38;5;28mself\u001B[39m\u001B[38;5;241m.\u001B[39mname \u001B[38;5;241m==\u001B[39m \u001B[38;5;124m'\u001B[39m\u001B[38;5;124mspark\u001B[39m\u001B[38;5;124m'\u001B[39m:\n",
       "\u001B[0;32m---> 33\u001B[0m     \u001B[38;5;28;01mraise\u001B[39;00m \u001B[38;5;167;01mSystemError\u001B[39;00m(\u001B[38;5;28mself\u001B[39m\u001B[38;5;241m.\u001B[39m_UNINITIALIZED_INTERNAL_ERROR\u001B[38;5;241m.\u001B[39mformat(\u001B[38;5;28mself\u001B[39m\u001B[38;5;241m.\u001B[39mname))\n",
       "\u001B[1;32m     34\u001B[0m \u001B[38;5;28;01mif\u001B[39;00m \u001B[38;5;28mself\u001B[39m\u001B[38;5;241m.\u001B[39mmsg \u001B[38;5;241m==\u001B[39m \u001B[38;5;124m'\u001B[39m\u001B[38;5;124mnot_implemented\u001B[39m\u001B[38;5;124m'\u001B[39m:\n",
       "\n",
       "\u001B[0;31mSystemError\u001B[0m: Internal error: spark should be initialized with the first notebook command.\n",
       "\n",
       "The above exception was the direct cause of the following exception:\n",
       "\n",
       "\u001B[0;31mEnvironmentError\u001B[0m                          Traceback (most recent call last)\n",
       "File \u001B[0;32m<command-7132707835707168>, line 1\u001B[0m\n",
       "\u001B[0;32m----> 1\u001B[0m get_ipython()\u001B[38;5;241m.\u001B[39mrun_line_magic(\u001B[38;5;124m'\u001B[39m\u001B[38;5;124mpip\u001B[39m\u001B[38;5;124m'\u001B[39m, \u001B[38;5;124m'\u001B[39m\u001B[38;5;124minstall numpy==1.26.4\u001B[39m\u001B[38;5;124m'\u001B[39m)\n",
       "\n",
       "File \u001B[0;32m/databricks/python/lib/python3.11/site-packages/IPython/core/interactiveshell.py:2480\u001B[0m, in \u001B[0;36mInteractiveShell.run_line_magic\u001B[0;34m(self, magic_name, line, _stack_depth)\u001B[0m\n",
       "\u001B[1;32m   2478\u001B[0m     kwargs[\u001B[38;5;124m'\u001B[39m\u001B[38;5;124mlocal_ns\u001B[39m\u001B[38;5;124m'\u001B[39m] \u001B[38;5;241m=\u001B[39m \u001B[38;5;28mself\u001B[39m\u001B[38;5;241m.\u001B[39mget_local_scope(stack_depth)\n",
       "\u001B[1;32m   2479\u001B[0m \u001B[38;5;28;01mwith\u001B[39;00m \u001B[38;5;28mself\u001B[39m\u001B[38;5;241m.\u001B[39mbuiltin_trap:\n",
       "\u001B[0;32m-> 2480\u001B[0m     result \u001B[38;5;241m=\u001B[39m fn(\u001B[38;5;241m*\u001B[39margs, \u001B[38;5;241m*\u001B[39m\u001B[38;5;241m*\u001B[39mkwargs)\n",
       "\u001B[1;32m   2482\u001B[0m \u001B[38;5;66;03m# The code below prevents the output from being displayed\u001B[39;00m\n",
       "\u001B[1;32m   2483\u001B[0m \u001B[38;5;66;03m# when using magics with decorator @output_can_be_silenced\u001B[39;00m\n",
       "\u001B[1;32m   2484\u001B[0m \u001B[38;5;66;03m# when the last Python token in the expression is a ';'.\u001B[39;00m\n",
       "\u001B[1;32m   2485\u001B[0m \u001B[38;5;28;01mif\u001B[39;00m \u001B[38;5;28mgetattr\u001B[39m(fn, magic\u001B[38;5;241m.\u001B[39mMAGIC_OUTPUT_CAN_BE_SILENCED, \u001B[38;5;28;01mFalse\u001B[39;00m):\n",
       "\n",
       "File \u001B[0;32m/databricks/python_shell/lib/dbruntime/PipMagicOverrides.py:75\u001B[0m, in \u001B[0;36mPipMagicOverrides.pip\u001B[0;34m(self, line)\u001B[0m\n",
       "\u001B[1;32m     73\u001B[0m     \u001B[38;5;28mself\u001B[39m\u001B[38;5;241m.\u001B[39morig_pip_magic(line)\n",
       "\u001B[1;32m     74\u001B[0m \u001B[38;5;28;01melse\u001B[39;00m:\n",
       "\u001B[0;32m---> 75\u001B[0m     \u001B[38;5;28mself\u001B[39m\u001B[38;5;241m.\u001B[39mpipMagicHandler\u001B[38;5;241m.\u001B[39mrunCmd(\u001B[38;5;124m\"\u001B[39m\u001B[38;5;124mpip\u001B[39m\u001B[38;5;124m\"\u001B[39m, line)\n",
       "\n",
       "File \u001B[0;32m/databricks/python_shell/lib/dbruntime/PipMagicOverrides.py:177\u001B[0m, in \u001B[0;36mPipMagicHandler.runCmd\u001B[0;34m(self, magicCmd, line)\u001B[0m\n",
       "\u001B[1;32m    175\u001B[0m         spark\u001B[38;5;241m.\u001B[39mconf\u001B[38;5;241m.\u001B[39mset(\u001B[38;5;124m\"\u001B[39m\u001B[38;5;124mspark.databricks.connect.environment\u001B[39m\u001B[38;5;124m\"\u001B[39m, serialized_env)\n",
       "\u001B[1;32m    176\u001B[0m \u001B[38;5;28;01mexcept\u001B[39;00m \u001B[38;5;167;01mException\u001B[39;00m \u001B[38;5;28;01mas\u001B[39;00m e:\n",
       "\u001B[0;32m--> 177\u001B[0m     \u001B[38;5;28;01mraise\u001B[39;00m \u001B[38;5;167;01mEnvironmentError\u001B[39;00m(\n",
       "\u001B[1;32m    178\u001B[0m         \u001B[38;5;124m\"\u001B[39m\u001B[38;5;124mFailed to set environment metadata. The Spark session may be unavailable, please try again or contact Databricks support.\u001B[39m\u001B[38;5;124m\"\u001B[39m\n",
       "\u001B[1;32m    179\u001B[0m     ) \u001B[38;5;28;01mfrom\u001B[39;00m \u001B[38;5;21;01me\u001B[39;00m\n",
       "\n",
       "\u001B[0;31mEnvironmentError\u001B[0m: Failed to set environment metadata. The Spark session may be unavailable, please try again or contact Databricks support."
      ]
     },
     "metadata": {
      "application/vnd.databricks.v1+output": {
       "addedWidgets": {},
       "arguments": {},
       "datasetInfos": [],
       "jupyterProps": {
        "ename": "EnvironmentError",
        "evalue": "Failed to set environment metadata. The Spark session may be unavailable, please try again or contact Databricks support."
       },
       "metadata": {
        "errorSummary": "<span class='ansi-red-fg'>EnvironmentError</span>: Failed to set environment metadata. The Spark session may be unavailable, please try again or contact Databricks support."
       },
       "removedWidgets": [],
       "sqlProps": null,
       "stackFrames": [
        "\u001B[0;31m---------------------------------------------------------------------------\u001B[0m",
        "\u001B[0;31mSystemError\u001B[0m                               Traceback (most recent call last)",
        "File \u001B[0;32m/databricks/python_shell/lib/dbruntime/PipMagicOverrides.py:175\u001B[0m, in \u001B[0;36mPipMagicHandler.runCmd\u001B[0;34m(self, magicCmd, line)\u001B[0m\n\u001B[1;32m    172\u001B[0m         \u001B[38;5;28mself\u001B[39m\u001B[38;5;241m.\u001B[39mentry_point\u001B[38;5;241m.\u001B[39mgetLogger()\u001B[38;5;241m.\u001B[39m_logInfo(\n\u001B[1;32m    173\u001B[0m             \u001B[38;5;124mf\u001B[39m\u001B[38;5;124m\"\u001B[39m\u001B[38;5;132;01m{\u001B[39;00m\u001B[38;5;18m__name__\u001B[39m\u001B[38;5;132;01m}\u001B[39;00m\u001B[38;5;124m: Setting spark.databricks.connect.environment to \u001B[39m\u001B[38;5;132;01m{\u001B[39;00mserialized_env\u001B[38;5;132;01m}\u001B[39;00m\u001B[38;5;124m.\u001B[39m\u001B[38;5;124m\"\u001B[39m\n\u001B[1;32m    174\u001B[0m         )\n\u001B[0;32m--> 175\u001B[0m         spark\u001B[38;5;241m.\u001B[39mconf\u001B[38;5;241m.\u001B[39mset(\u001B[38;5;124m\"\u001B[39m\u001B[38;5;124mspark.databricks.connect.environment\u001B[39m\u001B[38;5;124m\"\u001B[39m, serialized_env)\n\u001B[1;32m    176\u001B[0m \u001B[38;5;28;01mexcept\u001B[39;00m \u001B[38;5;167;01mException\u001B[39;00m \u001B[38;5;28;01mas\u001B[39;00m e:\n",
        "File \u001B[0;32m/databricks/python_shell/lib/dbruntime/UserNamespaceInitializer.py:43\u001B[0m, in \u001B[0;36mTripWire.__getattr__\u001B[0;34m(self, item)\u001B[0m\n\u001B[1;32m     42\u001B[0m \u001B[38;5;28;01mdef\u001B[39;00m \u001B[38;5;21m__getattr__\u001B[39m(\u001B[38;5;28mself\u001B[39m, item):\n\u001B[0;32m---> 43\u001B[0m     \u001B[38;5;28mself\u001B[39m\u001B[38;5;241m.\u001B[39m_raise()\n",
        "File \u001B[0;32m/databricks/python_shell/lib/dbruntime/UserNamespaceInitializer.py:33\u001B[0m, in \u001B[0;36mTripWire._raise\u001B[0;34m(self)\u001B[0m\n\u001B[1;32m     32\u001B[0m \u001B[38;5;28;01mif\u001B[39;00m \u001B[38;5;28mself\u001B[39m\u001B[38;5;241m.\u001B[39mmsg \u001B[38;5;241m==\u001B[39m \u001B[38;5;124m'\u001B[39m\u001B[38;5;124mnot_implemented\u001B[39m\u001B[38;5;124m'\u001B[39m \u001B[38;5;129;01mand\u001B[39;00m \u001B[38;5;28mself\u001B[39m\u001B[38;5;241m.\u001B[39mname \u001B[38;5;241m==\u001B[39m \u001B[38;5;124m'\u001B[39m\u001B[38;5;124mspark\u001B[39m\u001B[38;5;124m'\u001B[39m:\n\u001B[0;32m---> 33\u001B[0m     \u001B[38;5;28;01mraise\u001B[39;00m \u001B[38;5;167;01mSystemError\u001B[39;00m(\u001B[38;5;28mself\u001B[39m\u001B[38;5;241m.\u001B[39m_UNINITIALIZED_INTERNAL_ERROR\u001B[38;5;241m.\u001B[39mformat(\u001B[38;5;28mself\u001B[39m\u001B[38;5;241m.\u001B[39mname))\n\u001B[1;32m     34\u001B[0m \u001B[38;5;28;01mif\u001B[39;00m \u001B[38;5;28mself\u001B[39m\u001B[38;5;241m.\u001B[39mmsg \u001B[38;5;241m==\u001B[39m \u001B[38;5;124m'\u001B[39m\u001B[38;5;124mnot_implemented\u001B[39m\u001B[38;5;124m'\u001B[39m:\n",
        "\u001B[0;31mSystemError\u001B[0m: Internal error: spark should be initialized with the first notebook command.",
        "\nThe above exception was the direct cause of the following exception:\n",
        "\u001B[0;31mEnvironmentError\u001B[0m                          Traceback (most recent call last)",
        "File \u001B[0;32m<command-7132707835707168>, line 1\u001B[0m\n\u001B[0;32m----> 1\u001B[0m get_ipython()\u001B[38;5;241m.\u001B[39mrun_line_magic(\u001B[38;5;124m'\u001B[39m\u001B[38;5;124mpip\u001B[39m\u001B[38;5;124m'\u001B[39m, \u001B[38;5;124m'\u001B[39m\u001B[38;5;124minstall numpy==1.26.4\u001B[39m\u001B[38;5;124m'\u001B[39m)\n",
        "File \u001B[0;32m/databricks/python/lib/python3.11/site-packages/IPython/core/interactiveshell.py:2480\u001B[0m, in \u001B[0;36mInteractiveShell.run_line_magic\u001B[0;34m(self, magic_name, line, _stack_depth)\u001B[0m\n\u001B[1;32m   2478\u001B[0m     kwargs[\u001B[38;5;124m'\u001B[39m\u001B[38;5;124mlocal_ns\u001B[39m\u001B[38;5;124m'\u001B[39m] \u001B[38;5;241m=\u001B[39m \u001B[38;5;28mself\u001B[39m\u001B[38;5;241m.\u001B[39mget_local_scope(stack_depth)\n\u001B[1;32m   2479\u001B[0m \u001B[38;5;28;01mwith\u001B[39;00m \u001B[38;5;28mself\u001B[39m\u001B[38;5;241m.\u001B[39mbuiltin_trap:\n\u001B[0;32m-> 2480\u001B[0m     result \u001B[38;5;241m=\u001B[39m fn(\u001B[38;5;241m*\u001B[39margs, \u001B[38;5;241m*\u001B[39m\u001B[38;5;241m*\u001B[39mkwargs)\n\u001B[1;32m   2482\u001B[0m \u001B[38;5;66;03m# The code below prevents the output from being displayed\u001B[39;00m\n\u001B[1;32m   2483\u001B[0m \u001B[38;5;66;03m# when using magics with decorator @output_can_be_silenced\u001B[39;00m\n\u001B[1;32m   2484\u001B[0m \u001B[38;5;66;03m# when the last Python token in the expression is a ';'.\u001B[39;00m\n\u001B[1;32m   2485\u001B[0m \u001B[38;5;28;01mif\u001B[39;00m \u001B[38;5;28mgetattr\u001B[39m(fn, magic\u001B[38;5;241m.\u001B[39mMAGIC_OUTPUT_CAN_BE_SILENCED, \u001B[38;5;28;01mFalse\u001B[39;00m):\n",
        "File \u001B[0;32m/databricks/python_shell/lib/dbruntime/PipMagicOverrides.py:75\u001B[0m, in \u001B[0;36mPipMagicOverrides.pip\u001B[0;34m(self, line)\u001B[0m\n\u001B[1;32m     73\u001B[0m     \u001B[38;5;28mself\u001B[39m\u001B[38;5;241m.\u001B[39morig_pip_magic(line)\n\u001B[1;32m     74\u001B[0m \u001B[38;5;28;01melse\u001B[39;00m:\n\u001B[0;32m---> 75\u001B[0m     \u001B[38;5;28mself\u001B[39m\u001B[38;5;241m.\u001B[39mpipMagicHandler\u001B[38;5;241m.\u001B[39mrunCmd(\u001B[38;5;124m\"\u001B[39m\u001B[38;5;124mpip\u001B[39m\u001B[38;5;124m\"\u001B[39m, line)\n",
        "File \u001B[0;32m/databricks/python_shell/lib/dbruntime/PipMagicOverrides.py:177\u001B[0m, in \u001B[0;36mPipMagicHandler.runCmd\u001B[0;34m(self, magicCmd, line)\u001B[0m\n\u001B[1;32m    175\u001B[0m         spark\u001B[38;5;241m.\u001B[39mconf\u001B[38;5;241m.\u001B[39mset(\u001B[38;5;124m\"\u001B[39m\u001B[38;5;124mspark.databricks.connect.environment\u001B[39m\u001B[38;5;124m\"\u001B[39m, serialized_env)\n\u001B[1;32m    176\u001B[0m \u001B[38;5;28;01mexcept\u001B[39;00m \u001B[38;5;167;01mException\u001B[39;00m \u001B[38;5;28;01mas\u001B[39;00m e:\n\u001B[0;32m--> 177\u001B[0m     \u001B[38;5;28;01mraise\u001B[39;00m \u001B[38;5;167;01mEnvironmentError\u001B[39;00m(\n\u001B[1;32m    178\u001B[0m         \u001B[38;5;124m\"\u001B[39m\u001B[38;5;124mFailed to set environment metadata. The Spark session may be unavailable, please try again or contact Databricks support.\u001B[39m\u001B[38;5;124m\"\u001B[39m\n\u001B[1;32m    179\u001B[0m     ) \u001B[38;5;28;01mfrom\u001B[39;00m \u001B[38;5;21;01me\u001B[39;00m\n",
        "\u001B[0;31mEnvironmentError\u001B[0m: Failed to set environment metadata. The Spark session may be unavailable, please try again or contact Databricks support."
       ],
       "type": "baseError"
      }
     },
     "output_type": "display_data"
    }
   ],
   "source": [
    "%pip install numpy==1.26.4\n"
   ]
  },
  {
   "cell_type": "code",
   "execution_count": 0,
   "metadata": {
    "application/vnd.databricks.v1+cell": {
     "cellMetadata": {
      "byteLimit": 2048000,
      "rowLimit": 10000
     },
     "inputWidgets": {},
     "nuid": "8fbdf20f-a7bc-42bc-bef9-00dc37ac388d",
     "showTitle": false,
     "tableResultSettingsMap": {},
     "title": ""
    }
   },
   "outputs": [
    {
     "output_type": "stream",
     "name": "stdout",
     "output_type": "stream",
     "text": [
      "Collecting en-core-web-sm==3.8.0\r\n  Downloading https://github.com/explosion/spacy-models/releases/download/en_core_web_sm-3.8.0/en_core_web_sm-3.8.0-py3-none-any.whl (12.8 MB)\r\n\u001B[?25l     \u001B[90m━━━━━━━━━━━━━━━━━━━━━━━━━━━━━━━━━━━━━━━━\u001B[0m \u001B[32m0.0/12.8 MB\u001B[0m \u001B[31m?\u001B[0m eta \u001B[36m-:--:--\u001B[0m\r\u001B[2K     \u001B[91m━━━━━━━━━━━\u001B[0m\u001B[90m╺\u001B[0m\u001B[90m━━━━━━━━━━━━━━━━━━━━━━━━━━━━\u001B[0m \u001B[32m3.7/12.8 MB\u001B[0m \u001B[31m22.4 MB/s\u001B[0m eta \u001B[36m0:00:01\u001B[0m\r\u001B[2K     \u001B[90m━━━━━━━━━━━━━━━━━━━━━━━━━━━━━━━━━━━━━━━━\u001B[0m \u001B[32m12.8/12.8 MB\u001B[0m \u001B[31m34.8 MB/s\u001B[0m eta \u001B[36m0:00:00\u001B[0m\r\n\u001B[?25hInstalling collected packages: en-core-web-sm\r\nSuccessfully installed en-core-web-sm-3.8.0\r\n\r\n\u001B[1m[\u001B[0m\u001B[34;49mnotice\u001B[0m\u001B[1;39;49m]\u001B[0m\u001B[39;49m A new release of pip is available: \u001B[0m\u001B[31;49m24.2\u001B[0m\u001B[39;49m -> \u001B[0m\u001B[32;49m25.0.1\u001B[0m\r\n\u001B[1m[\u001B[0m\u001B[34;49mnotice\u001B[0m\u001B[1;39;49m]\u001B[0m\u001B[39;49m To update, run: \u001B[0m\u001B[32;49mpip install --upgrade pip\u001B[0m\r\n\u001B[38;5;2m✔ Download and installation successful\u001B[0m\r\nYou can now load the package via spacy.load('en_core_web_sm')\r\n"
     ]
    }
   ],
   "source": [
    "!python -m spacy download en_core_web_sm\n"
   ]
  },
  {
   "cell_type": "code",
   "execution_count": 0,
   "metadata": {
    "application/vnd.databricks.v1+cell": {
     "cellMetadata": {
      "byteLimit": 2048000,
      "rowLimit": 10000
     },
     "inputWidgets": {},
     "nuid": "1b95c823-222d-4b10-afac-8440d84b33aa",
     "showTitle": false,
     "tableResultSettingsMap": {},
     "title": ""
    }
   },
   "outputs": [],
   "source": [
    "%restart_python"
   ]
  },
  {
   "cell_type": "markdown",
   "metadata": {
    "application/vnd.databricks.v1+cell": {
     "cellMetadata": {},
     "inputWidgets": {},
     "nuid": "e9b7d918-fd27-49aa-bd2c-7bc2a9c8dea1",
     "showTitle": false,
     "tableResultSettingsMap": {},
     "title": ""
    }
   },
   "source": [
    "## 1. Import and Load NLP Models"
   ]
  },
  {
   "cell_type": "code",
   "execution_count": 0,
   "metadata": {
    "application/vnd.databricks.v1+cell": {
     "cellMetadata": {
      "byteLimit": 2048000,
      "rowLimit": 10000
     },
     "inputWidgets": {},
     "nuid": "8ec0367f-7e9f-487c-8988-ad1e5ed8bacf",
     "showTitle": false,
     "tableResultSettingsMap": {},
     "title": ""
    }
   },
   "outputs": [],
   "source": [
    "import spacy\n",
    "from textblob import TextBlob\n",
    "from pyspark.sql.functions import udf\n",
    "from pyspark.sql.types import StringType, ArrayType\n",
    "\n",
    "nlp = spacy.load(\"en_core_web_sm\")\n"
   ]
  },
  {
   "cell_type": "markdown",
   "metadata": {
    "application/vnd.databricks.v1+cell": {
     "cellMetadata": {},
     "inputWidgets": {},
     "nuid": "50df89e4-5d0b-4732-900c-f1fd8b02e96d",
     "showTitle": false,
     "tableResultSettingsMap": {},
     "title": ""
    }
   },
   "source": [
    "## 2. Create Sample Feedback Data"
   ]
  },
  {
   "cell_type": "code",
   "execution_count": 0,
   "metadata": {
    "application/vnd.databricks.v1+cell": {
     "cellMetadata": {
      "byteLimit": 2048000,
      "rowLimit": 10000
     },
     "inputWidgets": {},
     "nuid": "46ef3c3d-1a43-4c41-8338-73d663c41f27",
     "showTitle": false,
     "tableResultSettingsMap": {},
     "title": ""
    }
   },
   "outputs": [],
   "source": [
    "data = [\n",
    "    (\"The app is really slow and crashes often. Support team didn’t help much.\",),\n",
    "    (\"I love the new update! The interface is sleek and very user-friendly.\",),\n",
    "    (\"Too expensive for the features offered. Considering switching to CompetitorX.\",),\n",
    "    (\"Great customer service and fast delivery. Keep up the good work!\",),\n",
    "    (\"Terrible experience. I want a refund. Product quality was poor.\",),\n",
    "    (\"The chatbot was surprisingly helpful. Solved my issue in 5 minutes!\",),\n",
    "    (\"Shipping took way too long. Not satisfied.\",),\n",
    "    (\"Amazing features and value for money. Totally worth it!\",),\n",
    "    (\"I had issues with payment but they resolved it quickly.\",),\n",
    "    (\"Never received the product. Very disappointed.\",)\n",
    "]\n",
    "\n",
    "schema = [\"feedback_text\"]\n",
    "df = spark.createDataFrame(data, schema)\n"
   ]
  },
  {
   "cell_type": "code",
   "execution_count": 0,
   "metadata": {
    "application/vnd.databricks.v1+cell": {
     "cellMetadata": {
      "byteLimit": 2048000,
      "rowLimit": 10000
     },
     "inputWidgets": {},
     "nuid": "74c94e00-0c48-4923-85d1-eccf0cdc1bea",
     "showTitle": false,
     "tableResultSettingsMap": {},
     "title": ""
    }
   },
   "outputs": [
    {
     "output_type": "display_data",
     "data": {
      "text/html": [
       "<style scoped>\n",
       "  .table-result-container {\n",
       "    max-height: 300px;\n",
       "    overflow: auto;\n",
       "  }\n",
       "  table, th, td {\n",
       "    border: 1px solid black;\n",
       "    border-collapse: collapse;\n",
       "  }\n",
       "  th, td {\n",
       "    padding: 5px;\n",
       "  }\n",
       "  th {\n",
       "    text-align: left;\n",
       "  }\n",
       "</style><div class='table-result-container'><table class='table-result'><thead style='background-color: white'><tr><th>feedback_text</th></tr></thead><tbody><tr><td>The app is really slow and crashes often. Support team didn’t help much.</td></tr><tr><td>I love the new update! The interface is sleek and very user-friendly.</td></tr><tr><td>Too expensive for the features offered. Considering switching to CompetitorX.</td></tr><tr><td>Great customer service and fast delivery. Keep up the good work!</td></tr><tr><td>Terrible experience. I want a refund. Product quality was poor.</td></tr><tr><td>The chatbot was surprisingly helpful. Solved my issue in 5 minutes!</td></tr><tr><td>Shipping took way too long. Not satisfied.</td></tr><tr><td>Amazing features and value for money. Totally worth it!</td></tr><tr><td>I had issues with payment but they resolved it quickly.</td></tr><tr><td>Never received the product. Very disappointed.</td></tr></tbody></table></div>"
      ]
     },
     "metadata": {
      "application/vnd.databricks.v1+output": {
       "addedWidgets": {},
       "aggData": [],
       "aggError": "",
       "aggOverflow": false,
       "aggSchema": [],
       "aggSeriesLimitReached": false,
       "aggType": "",
       "arguments": {},
       "columnCustomDisplayInfos": {},
       "data": [
        [
         "The app is really slow and crashes often. Support team didn’t help much."
        ],
        [
         "I love the new update! The interface is sleek and very user-friendly."
        ],
        [
         "Too expensive for the features offered. Considering switching to CompetitorX."
        ],
        [
         "Great customer service and fast delivery. Keep up the good work!"
        ],
        [
         "Terrible experience. I want a refund. Product quality was poor."
        ],
        [
         "The chatbot was surprisingly helpful. Solved my issue in 5 minutes!"
        ],
        [
         "Shipping took way too long. Not satisfied."
        ],
        [
         "Amazing features and value for money. Totally worth it!"
        ],
        [
         "I had issues with payment but they resolved it quickly."
        ],
        [
         "Never received the product. Very disappointed."
        ]
       ],
       "datasetInfos": [],
       "dbfsResultPath": null,
       "isJsonSchema": true,
       "metadata": {},
       "overflow": false,
       "plotOptions": {
        "customPlotOptions": {},
        "displayType": "table",
        "pivotAggregation": null,
        "pivotColumns": null,
        "xColumns": null,
        "yColumns": null
       },
       "removedWidgets": [],
       "schema": [
        {
         "metadata": "{}",
         "name": "feedback_text",
         "type": "\"string\""
        }
       ],
       "type": "table"
      }
     },
     "output_type": "display_data"
    }
   ],
   "source": [
    "df.display()"
   ]
  },
  {
   "cell_type": "markdown",
   "metadata": {
    "application/vnd.databricks.v1+cell": {
     "cellMetadata": {},
     "inputWidgets": {},
     "nuid": "bd65f5b4-96c8-41be-9191-27fb2fed30b2",
     "showTitle": false,
     "tableResultSettingsMap": {},
     "title": ""
    }
   },
   "source": [
    "## 3. Define UDFs for NLP"
   ]
  },
  {
   "cell_type": "markdown",
   "metadata": {
    "application/vnd.databricks.v1+cell": {
     "cellMetadata": {},
     "inputWidgets": {},
     "nuid": "8a682d27-598d-41de-8c00-d9c2e6034c55",
     "showTitle": false,
     "tableResultSettingsMap": {},
     "title": ""
    }
   },
   "source": [
    "#### Named Entity Recognition (NER)"
   ]
  },
  {
   "cell_type": "code",
   "execution_count": 0,
   "metadata": {
    "application/vnd.databricks.v1+cell": {
     "cellMetadata": {
      "byteLimit": 2048000,
      "rowLimit": 10000
     },
     "inputWidgets": {},
     "nuid": "b1b2ac59-c326-4b75-8134-ac6dd798af0f",
     "showTitle": false,
     "tableResultSettingsMap": {},
     "title": ""
    }
   },
   "outputs": [],
   "source": [
    "def extract_entities(text):\n",
    "    doc = nlp(text)\n",
    "    return [ent.text for ent in doc.ents]\n",
    "\n",
    "entity_udf = udf(extract_entities, ArrayType(StringType()))\n"
   ]
  },
  {
   "cell_type": "markdown",
   "metadata": {
    "application/vnd.databricks.v1+cell": {
     "cellMetadata": {},
     "inputWidgets": {},
     "nuid": "638700af-c667-4258-9c15-702dfc041778",
     "showTitle": false,
     "tableResultSettingsMap": {},
     "title": ""
    }
   },
   "source": [
    "#### Sentiment Analysis (TextBlob)"
   ]
  },
  {
   "cell_type": "code",
   "execution_count": 0,
   "metadata": {
    "application/vnd.databricks.v1+cell": {
     "cellMetadata": {
      "byteLimit": 2048000,
      "rowLimit": 10000
     },
     "inputWidgets": {},
     "nuid": "37738314-9716-42f5-80e3-de82a34125b2",
     "showTitle": false,
     "tableResultSettingsMap": {},
     "title": ""
    }
   },
   "outputs": [],
   "source": [
    "def extract_sentiment(text):\n",
    "    return TextBlob(text).sentiment.polarity\n",
    "\n",
    "sentiment_udf = udf(extract_sentiment, StringType())\n"
   ]
  },
  {
   "cell_type": "markdown",
   "metadata": {
    "application/vnd.databricks.v1+cell": {
     "cellMetadata": {},
     "inputWidgets": {},
     "nuid": "b89c0594-8c21-4220-8205-b52510d096fd",
     "showTitle": false,
     "tableResultSettingsMap": {},
     "title": ""
    }
   },
   "source": [
    "#### Theme Extraction (via Noun Chunks)"
   ]
  },
  {
   "cell_type": "code",
   "execution_count": 0,
   "metadata": {
    "application/vnd.databricks.v1+cell": {
     "cellMetadata": {
      "byteLimit": 2048000,
      "rowLimit": 10000
     },
     "inputWidgets": {},
     "nuid": "e9de3c98-bb29-47d1-9097-f262bb0e3c80",
     "showTitle": false,
     "tableResultSettingsMap": {},
     "title": ""
    }
   },
   "outputs": [],
   "source": [
    "def extract_noun_chunks(text):\n",
    "    doc = nlp(text)\n",
    "    return [chunk.text for chunk in doc.noun_chunks]\n",
    "\n",
    "noun_chunk_udf = udf(extract_noun_chunks, ArrayType(StringType()))\n"
   ]
  },
  {
   "cell_type": "markdown",
   "metadata": {
    "application/vnd.databricks.v1+cell": {
     "cellMetadata": {},
     "inputWidgets": {},
     "nuid": "121567ac-ea6b-40e3-9ab4-e851597315dc",
     "showTitle": false,
     "tableResultSettingsMap": {},
     "title": ""
    }
   },
   "source": [
    "## 4. Apply NLP Pipeline"
   ]
  },
  {
   "cell_type": "code",
   "execution_count": 0,
   "metadata": {
    "application/vnd.databricks.v1+cell": {
     "cellMetadata": {
      "byteLimit": 2048000,
      "rowLimit": 10000
     },
     "inputWidgets": {},
     "nuid": "acc5db6e-a805-4de6-8226-13e8c5f6f94f",
     "showTitle": false,
     "tableResultSettingsMap": {},
     "title": ""
    }
   },
   "outputs": [],
   "source": [
    "result_df = df.withColumn(\"entities\", entity_udf(\"feedback_text\")) \\\n",
    "              .withColumn(\"sentiment_score\", sentiment_udf(\"feedback_text\")) \\\n",
    "              .withColumn(\"themes\", noun_chunk_udf(\"feedback_text\"))\n"
   ]
  },
  {
   "cell_type": "code",
   "execution_count": 0,
   "metadata": {
    "application/vnd.databricks.v1+cell": {
     "cellMetadata": {
      "byteLimit": 2048000,
      "rowLimit": 10000
     },
     "inputWidgets": {},
     "nuid": "cf6948bc-bfe0-4e43-a5b0-c32f94ce6242",
     "showTitle": false,
     "tableResultSettingsMap": {},
     "title": ""
    }
   },
   "outputs": [
    {
     "output_type": "display_data",
     "data": {
      "text/html": [
       "<style scoped>\n",
       "  .table-result-container {\n",
       "    max-height: 300px;\n",
       "    overflow: auto;\n",
       "  }\n",
       "  table, th, td {\n",
       "    border: 1px solid black;\n",
       "    border-collapse: collapse;\n",
       "  }\n",
       "  th, td {\n",
       "    padding: 5px;\n",
       "  }\n",
       "  th {\n",
       "    text-align: left;\n",
       "  }\n",
       "</style><div class='table-result-container'><table class='table-result'><thead style='background-color: white'><tr><th>feedback_text</th><th>entities</th><th>sentiment_score</th><th>themes</th></tr></thead><tbody><tr><td>The app is really slow and crashes often. Support team didn’t help much.</td><td>List()</td><td>-0.05000000000000002</td><td>List(The app, Support team)</td></tr><tr><td>I love the new update! The interface is sleek and very user-friendly.</td><td>List()</td><td>0.2901515151515151</td><td>List(I, the new update, The interface)</td></tr><tr><td>Too expensive for the features offered. Considering switching to CompetitorX.</td><td>List()</td><td>-0.5</td><td>List(the features)</td></tr><tr><td>Great customer service and fast delivery. Keep up the good work!</td><td>List()</td><td>0.625</td><td>List(Great customer service, fast delivery, the good work)</td></tr><tr><td>Terrible experience. I want a refund. Product quality was poor.</td><td>List()</td><td>-0.7</td><td>List(Terrible experience, I, a refund, Product quality)</td></tr><tr><td>The chatbot was surprisingly helpful. Solved my issue in 5 minutes!</td><td>List(5 minutes)</td><td>0.875</td><td>List(The chatbot, my issue, 5 minutes)</td></tr><tr><td>Shipping took way too long. Not satisfied.</td><td>List()</td><td>-0.15</td><td>List(Shipping)</td></tr><tr><td>Amazing features and value for money. Totally worth it!</td><td>List()</td><td>0.48750000000000004</td><td>List(Amazing features, value, money)</td></tr><tr><td>I had issues with payment but they resolved it quickly.</td><td>List()</td><td>0.3333333333333333</td><td>List(I, issues, payment, they, it)</td></tr><tr><td>Never received the product. Very disappointed.</td><td>List()</td><td>-0.9750000000000001</td><td>List(the product)</td></tr></tbody></table></div>"
      ]
     },
     "metadata": {
      "application/vnd.databricks.v1+output": {
       "addedWidgets": {},
       "aggData": [],
       "aggError": "",
       "aggOverflow": false,
       "aggSchema": [],
       "aggSeriesLimitReached": false,
       "aggType": "",
       "arguments": {},
       "columnCustomDisplayInfos": {},
       "data": [
        [
         "The app is really slow and crashes often. Support team didn’t help much.",
         [],
         "-0.05000000000000002",
         [
          "The app",
          "Support team"
         ]
        ],
        [
         "I love the new update! The interface is sleek and very user-friendly.",
         [],
         "0.2901515151515151",
         [
          "I",
          "the new update",
          "The interface"
         ]
        ],
        [
         "Too expensive for the features offered. Considering switching to CompetitorX.",
         [],
         "-0.5",
         [
          "the features"
         ]
        ],
        [
         "Great customer service and fast delivery. Keep up the good work!",
         [],
         "0.625",
         [
          "Great customer service",
          "fast delivery",
          "the good work"
         ]
        ],
        [
         "Terrible experience. I want a refund. Product quality was poor.",
         [],
         "-0.7",
         [
          "Terrible experience",
          "I",
          "a refund",
          "Product quality"
         ]
        ],
        [
         "The chatbot was surprisingly helpful. Solved my issue in 5 minutes!",
         [
          "5 minutes"
         ],
         "0.875",
         [
          "The chatbot",
          "my issue",
          "5 minutes"
         ]
        ],
        [
         "Shipping took way too long. Not satisfied.",
         [],
         "-0.15",
         [
          "Shipping"
         ]
        ],
        [
         "Amazing features and value for money. Totally worth it!",
         [],
         "0.48750000000000004",
         [
          "Amazing features",
          "value",
          "money"
         ]
        ],
        [
         "I had issues with payment but they resolved it quickly.",
         [],
         "0.3333333333333333",
         [
          "I",
          "issues",
          "payment",
          "they",
          "it"
         ]
        ],
        [
         "Never received the product. Very disappointed.",
         [],
         "-0.9750000000000001",
         [
          "the product"
         ]
        ]
       ],
       "datasetInfos": [],
       "dbfsResultPath": null,
       "isJsonSchema": true,
       "metadata": {},
       "overflow": false,
       "plotOptions": {
        "customPlotOptions": {},
        "displayType": "table",
        "pivotAggregation": null,
        "pivotColumns": null,
        "xColumns": null,
        "yColumns": null
       },
       "removedWidgets": [],
       "schema": [
        {
         "metadata": "{}",
         "name": "feedback_text",
         "type": "\"string\""
        },
        {
         "metadata": "{}",
         "name": "entities",
         "type": "{\"containsNull\":true,\"elementType\":\"string\",\"type\":\"array\"}"
        },
        {
         "metadata": "{}",
         "name": "sentiment_score",
         "type": "\"string\""
        },
        {
         "metadata": "{}",
         "name": "themes",
         "type": "{\"containsNull\":true,\"elementType\":\"string\",\"type\":\"array\"}"
        }
       ],
       "type": "table"
      }
     },
     "output_type": "display_data"
    }
   ],
   "source": [
    "result_df.display()\n"
   ]
  }
 ],
 "metadata": {
  "application/vnd.databricks.v1+notebook": {
   "computePreferences": null,
   "dashboards": [],
   "environmentMetadata": {
    "base_environment": "",
    "environment_version": "2"
   },
   "inputWidgetPreferences": null,
   "language": "python",
   "notebookMetadata": {
    "pythonIndentUnit": 4
   },
   "notebookName": "text_analyzer",
   "widgets": {}
  },
  "language_info": {
   "name": "python"
  }
 },
 "nbformat": 4,
 "nbformat_minor": 0
}