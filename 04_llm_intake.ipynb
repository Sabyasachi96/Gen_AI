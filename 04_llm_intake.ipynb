{
 "cells": [
  {
   "cell_type": "markdown",
   "metadata": {
    "application/vnd.databricks.v1+cell": {
     "cellMetadata": {
      "byteLimit": 2048000,
      "rowLimit": 10000
     },
     "inputWidgets": {},
     "nuid": "4a79b419-fc63-4bb1-a334-b569280bc1b3",
     "showTitle": false,
     "tableResultSettingsMap": {},
     "title": ""
    }
   },
   "source": [
    "# <font color=\"#76b900\">**2:** LLM Architecture Intuitions</font>"
   ]
  },
  {
   "cell_type": "markdown",
   "metadata": {
    "application/vnd.databricks.v1+cell": {
     "cellMetadata": {
      "byteLimit": 2048000,
      "rowLimit": 10000
     },
     "inputWidgets": {},
     "nuid": "44c4bea8-d08b-43ea-a975-0567a00c5acd",
     "showTitle": false,
     "tableResultSettingsMap": {},
     "title": ""
    },
    "id": "g2Dhs90vKb9d"
   },
   "source": [
    "In the last notebook, you touched the surface-level interface of the HuggingFace &#x1F917; pipelines and went a single layer deeper, seeing the abstractions associated with the pipeline and looking a little under the hood to how these components might be implemented. Namely, you should now be familiar with the `preprocess -> forward -> postprocess` abstraction which hides the complexity from the user and makes it easy to work with your models. In this notebook, we'll be looking a bit deeper to try and understand what techniques are being used to facilitate this reasoning.\n",
    "\n",
    "#### **Learning Objectives:**\n",
    "\n",
    "- Tokenization and embedding intuitions, specifically relating to how the data comes into our models and what properties the network can take advantage of.\n",
    "- Transformer encoder architectures for performing sequence-level reasoning for an n-sequence-in-n-sequence-out formulation."
   ]
  },
  {
   "cell_type": "markdown",
   "metadata": {
    "application/vnd.databricks.v1+cell": {
     "cellMetadata": {
      "byteLimit": 2048000,
      "rowLimit": 10000
     },
     "inputWidgets": {},
     "nuid": "2e954628-c903-4f42-9762-822bcbd3578d",
     "showTitle": false,
     "tableResultSettingsMap": {},
     "title": ""
    },
    "id": "8ii0e8yi-u_v"
   },
   "source": [
    "## 2.1. Getting The Model Inputs\n",
    "As we saw previously, the overall pipeline has to convert to and from the tensor representation using the `preprocess` and `postprocess` functionalities. Looking a little deeper, we can see that the preprocess method relies on the tokenizer, and we can assume that the postprocess does too, so let's look at that pipeline again:"
   ]
  },
  {
   "cell_type": "code",
   "execution_count": 0,
   "metadata": {
    "application/vnd.databricks.v1+cell": {
     "cellMetadata": {
      "byteLimit": 2048000,
      "rowLimit": 10000
     },
     "inputWidgets": {},
     "nuid": "2aaa2efe-fc38-4829-bd40-a58f52560821",
     "showTitle": false,
     "tableResultSettingsMap": {},
     "title": ""
    },
    "colab": {
     "base_uri": "https://localhost:8080/"
    },
    "executionInfo": {
     "elapsed": 1864,
     "status": "ok",
     "timestamp": 1694317935956,
     "user": {
      "displayName": "Vadim Kudlay",
      "userId": "00553664172613290122"
     },
     "user_tz": 300
    },
    "id": "NzM4kxtk-uMO",
    "outputId": "5317efd6-4cf8-4611-e88b-963e11ef7f97",
    "tags": []
   },
   "outputs": [
    {
     "output_type": "stream",
     "name": "stderr",
     "output_type": "stream",
     "text": [
      "2025-04-02 12:52:47.198711: E external/local_xla/xla/stream_executor/cuda/cuda_dnn.cc:9261] Unable to register cuDNN factory: Attempting to register factory for plugin cuDNN when one has already been registered\n2025-04-02 12:52:47.198823: E external/local_xla/xla/stream_executor/cuda/cuda_fft.cc:607] Unable to register cuFFT factory: Attempting to register factory for plugin cuFFT when one has already been registered\n2025-04-02 12:52:47.200118: E external/local_xla/xla/stream_executor/cuda/cuda_blas.cc:1515] Unable to register cuBLAS factory: Attempting to register factory for plugin cuBLAS when one has already been registered\n2025-04-02 12:52:47.208106: I tensorflow/core/platform/cpu_feature_guard.cc:182] This TensorFlow binary is optimized to use available CPU instructions in performance-critical operations.\nTo enable the following instructions: AVX2 AVX512F FMA, in other operations, rebuild TensorFlow with the appropriate compiler flags.\n2025-04-02 12:52:48.297474: W tensorflow/compiler/tf2tensorrt/utils/py_utils.cc:38] TF-TRT Warning: Could not find TensorRT\n"
     ]
    },
    {
     "output_type": "display_data",
     "data": {
      "application/vnd.jupyter.widget-view+json": {
       "model_id": "d093dc3e0aae4b0d91b6421c3c17e5b2",
       "version_major": 2,
       "version_minor": 0
      },
      "text/plain": [
       "tokenizer_config.json:   0%|          | 0.00/48.0 [00:00<?, ?B/s]"
      ]
     },
     "metadata": {},
     "output_type": "display_data"
    },
    {
     "output_type": "display_data",
     "data": {
      "application/vnd.jupyter.widget-view+json": {
       "model_id": "4d64082b67b144deaa34417f3bb8e431",
       "version_major": 2,
       "version_minor": 0
      },
      "text/plain": [
       "vocab.txt:   0%|          | 0.00/232k [00:00<?, ?B/s]"
      ]
     },
     "metadata": {},
     "output_type": "display_data"
    },
    {
     "output_type": "display_data",
     "data": {
      "application/vnd.jupyter.widget-view+json": {
       "model_id": "ac6290974c2646c78b4295ebbdf1e6df",
       "version_major": 2,
       "version_minor": 0
      },
      "text/plain": [
       "tokenizer.json:   0%|          | 0.00/466k [00:00<?, ?B/s]"
      ]
     },
     "metadata": {},
     "output_type": "display_data"
    },
    {
     "output_type": "display_data",
     "data": {
      "application/vnd.jupyter.widget-view+json": {
       "model_id": "201f1307a6ee48e48acf64ab88f3d9db",
       "version_major": 2,
       "version_minor": 0
      },
      "text/plain": [
       "config.json:   0%|          | 0.00/570 [00:00<?, ?B/s]"
      ]
     },
     "metadata": {},
     "output_type": "display_data"
    },
    {
     "output_type": "stream",
     "name": "stderr",
     "output_type": "stream",
     "text": [
      "Xet Storage is enabled for this repo, but the 'hf_xet' package is not installed. Falling back to regular HTTP download. For better performance, install the package with: `pip install huggingface_hub[hf_xet]` or `pip install hf_xet`\nWARNING:huggingface_hub.file_download:Xet Storage is enabled for this repo, but the 'hf_xet' package is not installed. Falling back to regular HTTP download. For better performance, install the package with: `pip install huggingface_hub[hf_xet]` or `pip install hf_xet`\n"
     ]
    },
    {
     "output_type": "display_data",
     "data": {
      "application/vnd.jupyter.widget-view+json": {
       "model_id": "0031508621b14b15b5cf07d4a5e9e8ef",
       "version_major": 2,
       "version_minor": 0
      },
      "text/plain": [
       "model.safetensors:   0%|          | 0.00/440M [00:00<?, ?B/s]"
      ]
     },
     "metadata": {},
     "output_type": "display_data"
    },
    {
     "output_type": "stream",
     "name": "stderr",
     "output_type": "stream",
     "text": [
      "Some weights of the model checkpoint at bert-base-uncased were not used when initializing BertForMaskedLM: ['bert.pooler.dense.bias', 'bert.pooler.dense.weight', 'cls.seq_relationship.bias', 'cls.seq_relationship.weight']\n- This IS expected if you are initializing BertForMaskedLM from the checkpoint of a model trained on another task or with another architecture (e.g. initializing a BertForSequenceClassification model from a BertForPreTraining model).\n- This IS NOT expected if you are initializing BertForMaskedLM from the checkpoint of a model that you expect to be exactly identical (initializing a BertForSequenceClassification model from a BertForSequenceClassification model).\nDevice set to use cpu\n"
     ]
    },
    {
     "output_type": "execute_result",
     "data": {
      "text/plain": [
       "{'input_ids': tensor([[  101,  7592,  1010,  2720,  1012, 14324,   999,  2129,  2003,  2009,\n",
       "           103,  1029,   102]]), 'token_type_ids': tensor([[0, 0, 0, 0, 0, 0, 0, 0, 0, 0, 0, 0, 0]]), 'attention_mask': tensor([[1, 1, 1, 1, 1, 1, 1, 1, 1, 1, 1, 1, 1]])}"
      ]
     },
     "execution_count": 1,
     "metadata": {},
     "output_type": "execute_result"
    }
   ],
   "source": [
    "from transformers import BertTokenizer, BertModel, FillMaskPipeline, AutoModelForMaskedLM\n",
    "\n",
    "class MyMlmPipeline(FillMaskPipeline):\n",
    "    def __init__(self):\n",
    "        super().__init__(\n",
    "            tokenizer = BertTokenizer.from_pretrained('bert-base-uncased'),\n",
    "            model = AutoModelForMaskedLM.from_pretrained(\"bert-base-uncased\")\n",
    "        )\n",
    "\n",
    "    def __call__(self, string, verbose=False):\n",
    "        ## Verbose argument just there for our convenience\n",
    "        input_tensors = self.preprocess(string)\n",
    "        output_tensors = self.forward(input_tensors)\n",
    "        output = self.postprocess(output_tensors)\n",
    "        return output\n",
    "\n",
    "    def preprocess(self, string):\n",
    "        string = [string] if isinstance(string, str) else string\n",
    "        inputs = self.tokenizer(string, return_tensors=\"pt\")\n",
    "        return inputs\n",
    "\n",
    "    def forward(self, tensor_dict):\n",
    "        output_tensors = self.model.forward(**tensor_dict)\n",
    "        return {**output_tensors, **tensor_dict}\n",
    "\n",
    "    def postprocess(self, tensor_dict):\n",
    "        ## Very Task-specific; see FillMaskPipeline.postprocess\n",
    "        return super().postprocess(tensor_dict)\n",
    "\n",
    "\n",
    "class MyMlmSubPipeline(MyMlmPipeline):\n",
    "    def __call__(self, string, verbose=False):\n",
    "        ## Verbose argument just there for our convenience\n",
    "        input_tensors = self.preprocess(string)\n",
    "        return input_tensors\n",
    "        # output_tensors = self.forward(input_tensors)\n",
    "        # output = self.postprocess(output_tensors)\n",
    "        # return output\n",
    "\n",
    "\n",
    "unmasker = MyMlmSubPipeline()\n",
    "unmasker(\"Hello, Mr. Bert! How is it [MASK]?\", verbose=True)"
   ]
  },
  {
   "cell_type": "markdown",
   "metadata": {
    "application/vnd.databricks.v1+cell": {
     "cellMetadata": {
      "byteLimit": 2048000,
      "rowLimit": 10000
     },
     "inputWidgets": {},
     "nuid": "3b97f62e-498a-431a-aa49-1df758a94abd",
     "showTitle": false,
     "tableResultSettingsMap": {},
     "title": ""
    },
    "id": "8L6p4TKN_f_r"
   },
   "source": [
    "This shows that the tokenizer is a conversion strategy for converting the input string to a series of tokens. A token is a symbolic representation of something, and is usually reasoned about as a class. Within the scope of language modeling, a token is usually a word, or a letter, or some other substring that can be used as a fundamental building block of a sentence. This is one of the more consistent things among all of the large language models you'll encounter, and also probably one of the conceptually-simplest. Still, it's nice to know what they are and how they operate."
   ]
  },
  {
   "cell_type": "markdown",
   "metadata": {
    "application/vnd.databricks.v1+cell": {
     "cellMetadata": {
      "byteLimit": 2048000,
      "rowLimit": 10000
     },
     "inputWidgets": {},
     "nuid": "4d334d55-0080-4416-8c6b-8aa1cae2261b",
     "showTitle": false,
     "tableResultSettingsMap": {},
     "title": ""
    },
    "id": "OIAiFiYPAFyg"
   },
   "source": [
    "When given our string, the tokenizer responds with several components:\n",
    "- `input_ids`: These are just the IDs of the tokens that make up our sentence. Said tokens can be words, punctuation, letters, whatever. Just individual entries out of a set vocabulary, exactly like classes.\n",
    "    - Try the following:\n",
    "    ```python\n",
    "    msg = \"Hello world and have a great day!\"\n",
    "    unmasker.tokenizer.tokenize(msg)       ## See token boundaries\n",
    "    # x = unmasker.tokenizer.encode(msg)   ## See special tokens at end\n",
    "    # x = unmasker.tokenizer.decode(x)     ## See decoding\n",
    "    # print(x)\n",
    "    ```\n",
    "\n",
    "- `token_type_ids`: Added information that the BERT authors realized was useful. This is just an extra flag which tells BERT whether this is the first or the second sentence. This can be useful sometimes (and is a major part of the training objective of BERT specifically), but you'll probably never use it knowingly in practice.\n",
    "    - Try the following:\n",
    "    ```python\n",
    "    unmasker.tokenizer(\"Hello world!\", \"Have a great day!\")\n",
    "    ```\n",
    "\n",
    "- `attention_mask`: To be discussed later; It's a natural input to transformer components and regulates what tokens a specific token can pay attention to. For BERT, this is not necessary, but can be specified.\n",
    "\n",
    "As far as we will need to be concerned, the `input_ids` are the most important input segment for our model. Considering this, we can intuit how the LLMs approach the task of natural language processing; as reasoning about an **ordered sequence of tokens.** On one hand this should be somewhat reassuring, as classification is a common task in deep learning that you're probably well-familiar with. On the other, you may be a little less familiar with either the process of taking in classes as input or reasoning about sequences. We can go ahead and investigate the model to try to figure out what intuitions the language models might be using to make these problems tractible. "
   ]
  },
  {
   "cell_type": "code",
   "execution_count": 0,
   "metadata": {
    "application/vnd.databricks.v1+cell": {
     "cellMetadata": {
      "byteLimit": 2048000,
      "rowLimit": 10000
     },
     "inputWidgets": {},
     "nuid": "094f41d4-01a3-4714-93bd-0c201a801554",
     "showTitle": false,
     "tableResultSettingsMap": {},
     "title": ""
    },
    "executionInfo": {
     "elapsed": 21,
     "status": "ok",
     "timestamp": 1694317935957,
     "user": {
      "displayName": "Vadim Kudlay",
      "userId": "00553664172613290122"
     },
     "user_tz": 300
    },
    "id": "ya5bxKUfGXy6"
   },
   "outputs": [],
   "source": [
    "## Feel free to run some code cells here"
   ]
  },
  {
   "cell_type": "markdown",
   "metadata": {
    "application/vnd.databricks.v1+cell": {
     "cellMetadata": {
      "byteLimit": 2048000,
      "rowLimit": 10000
     },
     "inputWidgets": {},
     "nuid": "420fef2a-dd22-4722-b9ec-491c4590dd9e",
     "showTitle": false,
     "tableResultSettingsMap": {},
     "title": ""
    },
    "id": "uNGHSdojBUaa"
   },
   "source": [
    "## 2.2. Capturing Token Semantics\n",
    "\n",
    "We now know that natural language reasoning is a problem of inferring insights from an ordered sequence of tokens, so how would we approach that formulation? With regards to classes, we should already have some intuitions:\n",
    "\n",
    "- **On the output side**, we can output a probability distribution over the set of possible classes. For example, if we were predicting among `cat`, `dog`, and `bird`, we can output a 3-value vector with the intuitive meaning of `<is_cat, is_dog, is_bird>`. For ground-truth, you just use one-hot encodings where the realized instance is 1 and the other options are 0.\n",
    "- **On the input side**, we could also feed in a one-hot value if we want, but a more efficient strategy when you're primarily dealing with one-hots is to use an **Embedding Layer**, or a glorified matrix where the class index is the row to access. Whichever one you choose, you'll be keeping a record of the semantics associated with the class in your model architecture (either in the weights of the first layer or the weights of the lookup matrix).\n",
    "\n",
    "With that said, the LLM definitely has a strategy for this:"
   ]
  },
  {
   "cell_type": "code",
   "execution_count": 0,
   "metadata": {
    "application/vnd.databricks.v1+cell": {
     "cellMetadata": {
      "byteLimit": 2048000,
      "rowLimit": 10000
     },
     "inputWidgets": {},
     "nuid": "f7871b16-00fd-4ad8-8b4c-3384e27a551c",
     "showTitle": false,
     "tableResultSettingsMap": {},
     "title": ""
    },
    "colab": {
     "base_uri": "https://localhost:8080/"
    },
    "executionInfo": {
     "elapsed": 16,
     "status": "ok",
     "timestamp": 1694317935957,
     "user": {
      "displayName": "Vadim Kudlay",
      "userId": "00553664172613290122"
     },
     "user_tz": 300
    },
    "id": "iU9a00WcGRdm",
    "outputId": "ce49d963-cb97-41ec-996a-38edd5f3bb97",
    "tags": []
   },
   "outputs": [
    {
     "output_type": "execute_result",
     "data": {
      "text/plain": [
       "BertEmbeddings(\n",
       "  (word_embeddings): Embedding(30522, 768, padding_idx=0)\n",
       "  (position_embeddings): Embedding(512, 768)\n",
       "  (token_type_embeddings): Embedding(2, 768)\n",
       "  (LayerNorm): LayerNorm((768,), eps=1e-12, elementwise_affine=True)\n",
       "  (dropout): Dropout(p=0.1, inplace=False)\n",
       ")"
      ]
     },
     "execution_count": 3,
     "metadata": {},
     "output_type": "execute_result"
    }
   ],
   "source": [
    "model = unmasker.model\n",
    "# dir(model)\n",
    "# dir(model.bert)\n",
    "model.bert.embeddings\n",
    "# model.bert.embeddings.word_embeddings\n",
    "# model.bert.embeddings.position_embeddings\n",
    "# model.bert.embeddings.token_type_embeddings"
   ]
  },
  {
   "cell_type": "markdown",
   "metadata": {
    "application/vnd.databricks.v1+cell": {
     "cellMetadata": {
      "byteLimit": 2048000,
      "rowLimit": 10000
     },
     "inputWidgets": {},
     "nuid": "df272ccf-2d19-423a-b236-92d199ada015",
     "showTitle": false,
     "tableResultSettingsMap": {},
     "title": ""
    },
    "id": "DgWJ8vhbGSJE"
   },
   "source": [
    "From this, we can identify the 3 components discussed in the presentation:\n",
    "- **Word Embeddings:** Semantic vectors representing the input tokens.\n",
    "- **Position Embeddings**: Semantic vectors representing the position of the words.\n",
    "- **Token Type Embedding**: Semantic vectors representing whether the token belongs to the first or second sentence.\n",
    "\n",
    "Notice how the `Embedding` component is constructed with the format:\n",
    "\n",
    "```\n",
    "Embedding(in_channel, out_channel)\n",
    "```\n",
    "\n",
    "We can see from this that BERT uses 768-dimensional embeddings, and can speculate on how they are obtained. The word embeddings seem to be coming from a 30,522-dimensional vector (the number of unique tokens in the vocabulary), the positional ones from 512, and the token types from just a few. Let's explore these a bit further."
   ]
  },
  {
   "cell_type": "markdown",
   "metadata": {
    "application/vnd.databricks.v1+cell": {
     "cellMetadata": {
      "byteLimit": 2048000,
      "rowLimit": 10000
     },
     "inputWidgets": {},
     "nuid": "e4b50b63-ae0d-42ca-b7cf-262d1f196853",
     "showTitle": false,
     "tableResultSettingsMap": {},
     "title": ""
    },
    "id": "CiB9VTXsH8WB"
   },
   "source": [
    "### Investigating the Word Embeddings\n",
    "\n",
    "Let's go ahead and take a look at the word embeddings:"
   ]
  },
  {
   "cell_type": "code",
   "execution_count": 0,
   "metadata": {
    "application/vnd.databricks.v1+cell": {
     "cellMetadata": {
      "byteLimit": 2048000,
      "rowLimit": 10000
     },
     "inputWidgets": {},
     "nuid": "4fed8b24-c70d-41aa-a885-a1824359753b",
     "showTitle": false,
     "tableResultSettingsMap": {},
     "title": ""
    },
    "colab": {
     "base_uri": "https://localhost:8080/"
    },
    "executionInfo": {
     "elapsed": 11,
     "status": "ok",
     "timestamp": 1694317935957,
     "user": {
      "displayName": "Vadim Kudlay",
      "userId": "00553664172613290122"
     },
     "user_tz": 300
    },
    "id": "GA3gjraKH9Kk",
    "outputId": "55858ed8-d0cf-40b5-a36b-16300f2ff008",
    "tags": []
   },
   "outputs": [
    {
     "output_type": "stream",
     "name": "stdout",
     "output_type": "stream",
     "text": [
      "torch.Size([11, 768])\n"
     ]
    },
    {
     "output_type": "execute_result",
     "data": {
      "text/plain": [
       "tensor([[-0.0043, -0.0330, -0.0217,  ..., -0.0425, -0.0127, -0.0389],\n",
       "        [ 0.0244,  0.0322,  0.0024,  ..., -0.0424, -0.0054, -0.0284],\n",
       "        [-0.0247,  0.0135,  0.0061,  ...,  0.0085,  0.0115,  0.0243],\n",
       "        ...,\n",
       "        [ 0.0184,  0.0174, -0.0476,  ..., -0.0721, -0.0358, -0.0127],\n",
       "        [-0.0149,  0.0124,  0.0091,  ..., -0.0445, -0.0193,  0.0234],\n",
       "        [ 0.0298, -0.0373, -0.0356,  ...,  0.0161,  0.0192,  0.0173]],\n",
       "       grad_fn=<EmbeddingBackward0>)"
      ]
     },
     "execution_count": 4,
     "metadata": {},
     "output_type": "execute_result"
    }
   ],
   "source": [
    "import torch\n",
    "\n",
    "tokenizer = unmasker.tokenizer\n",
    "\n",
    "def get_word_embeddings(string):\n",
    "    tokens = tokenizer(string)['input_ids']\n",
    "    tokens = tokens[1:-1] ## Remove cls and sep tokens\n",
    "    tokens = torch.tensor(tokens)\n",
    "    return model.bert.embeddings.word_embeddings(tokens)\n",
    "\n",
    "## Pre-spaced to show where the tokens are. Same results without extra spaces\n",
    "string = \"Hello World From Me, my cat and my dog!\"\n",
    "tokens = [tokenizer.convert_ids_to_tokens(x) for x in tokenizer.encode(string)[1:-1]]\n",
    "embeddings = get_word_embeddings(string)\n",
    "print(embeddings.shape)\n",
    "embeddings"
   ]
  },
  {
   "cell_type": "markdown",
   "metadata": {
    "application/vnd.databricks.v1+cell": {
     "cellMetadata": {
      "byteLimit": 2048000,
      "rowLimit": 10000
     },
     "inputWidgets": {},
     "nuid": "fd35e80a-13f7-45a5-9502-f7ccf73b71a7",
     "showTitle": false,
     "tableResultSettingsMap": {},
     "title": ""
    },
    "id": "D8LjH6fYIJzO"
   },
   "source": [
    "Given what we talked about with embedding vectors, we'd expect the word embedding vectors to capture some of the meanings of the tokens that span our intended natural language. To investigate it, we can go ahead and define some helper functions:"
   ]
  },
  {
   "cell_type": "code",
   "execution_count": 0,
   "metadata": {
    "application/vnd.databricks.v1+cell": {
     "cellMetadata": {
      "byteLimit": 2048000,
      "rowLimit": 10000
     },
     "inputWidgets": {},
     "nuid": "a20ea229-6e20-4b42-a604-c879b1eee457",
     "showTitle": false,
     "tableResultSettingsMap": {},
     "title": ""
    },
    "executionInfo": {
     "elapsed": 269,
     "status": "ok",
     "timestamp": 1694317936218,
     "user": {
      "displayName": "Vadim Kudlay",
      "userId": "00553664172613290122"
     },
     "user_tz": 300
    },
    "id": "AIzRFOk_ILr0",
    "tags": []
   },
   "outputs": [],
   "source": [
    "import torch\n",
    "import matplotlib.pyplot as plt\n",
    "import seaborn as sns\n",
    "import numpy as np\n",
    "\n",
    "def cosine_similarity(x1, x2):\n",
    "    \"\"\"Compute cosine similarity between two vectors.\"\"\"\n",
    "    dot_product = x1 @ x2.T\n",
    "    norm_x1 = torch.norm(x1, dim=-1)\n",
    "    norm_x2 = torch.norm(x2, dim=-1)\n",
    "    return dot_product / (norm_x1 * norm_x2)\n",
    "\n",
    "def scaled_dp_similarity(x1, x2):\n",
    "    \"\"\"Compute dot-product similarity between two vectors.\"\"\"\n",
    "    dot_product = x1 @ x2.T\n",
    "    d = torch.sqrt(torch.tensor(x1.shape[-1]))\n",
    "    return dot_product / d\n",
    "\n",
    "def softmax_similarity(x1, x2):\n",
    "    \"\"\"Compute softmaxed dp similarity between two vectors.\"\"\"\n",
    "    out = scaled_dp_similarity(x1, x2)\n",
    "    return torch.softmax(out, dim=1)\n",
    "\n",
    "def plot_mtx(matrix, name='', tokens=[]):\n",
    "    \"\"\"Compute similarity matrix for embeddings.\"\"\"\n",
    "    # Plot similarity matrix\n",
    "    plt.figure(figsize=(10, 8))\n",
    "    label_dict = {} if tokens is None else {'xticklabels' : tokens, 'yticklabels': tokens}\n",
    "    sns.heatmap(\n",
    "        np.round(matrix.detach().numpy(), 3),\n",
    "        annot=True, cmap='coolwarm',\n",
    "        # vmin=-1, vmax=1,\n",
    "        **label_dict\n",
    "    )\n",
    "    plt.title(f\"Embedding {name} Matrix\")\n",
    "    plt.yticks(rotation=0)\n",
    "    plt.show()"
   ]
  },
  {
   "cell_type": "markdown",
   "metadata": {
    "application/vnd.databricks.v1+cell": {
     "cellMetadata": {
      "byteLimit": 2048000,
      "rowLimit": 10000
     },
     "inputWidgets": {},
     "nuid": "adf1e31e-b8bc-4b98-8354-15d8a110b838",
     "showTitle": false,
     "tableResultSettingsMap": {},
     "title": ""
    },
    "id": "uARirRUVIN-o"
   },
   "source": [
    "With these visualization and metric functions defined, we can view the similarities of the embeddings in different measurement spaces:\n",
    "\n",
    "- The following will compute the cosine similarity:\n",
    "  ```python\n",
    "  plot_mtx(cosine_similarity(embeddings, embeddings), 'Cosine Sim', tokens)\n",
    "  ```\n",
    "  You'll notice that we do get some pretty nice properties, and the result is a nice normalized matrix, but unfortunately this throws away distance-related information of the vectors.\n",
    "\n",
    "- As we'll soon see this idea being incorporated into the architecture, it's worth investigating what happens when we decide to transition to softmax-based similarity:\n",
    "  ```python\n",
    "  plot_mtx(softmax_similarity(embeddings, embeddings), 'Softmax(x1) Sim', tokens)\n",
    "  ```\n",
    "  You'll see that the matrix is no longer symetric since we're applying softmax on a per-row basis, but it does have a nice intuitive analogue when you format it as a matrix product:\n",
    "  **Relative to the others, how much does a token contribute to every other token?** This formulation will come up later as \"attention.\"\n",
    "\n",
    "  You'll also notice that the magnitudes are pretty small, but we can increase the magnitude of the embeddings and observe a much more polarizing similarity matrix.\n",
    "  ```python\n",
    "  plot_mtx(softmax_similarity(embeddings*10, embeddings*10), 'Softmax(x10) Sim', tokens)\n",
    "  ```\n",
    "  \n",
    "  Because the metric now factors magnitude into the decision process but keeps the output bounded and under control, this is a great choice when you actually want to inject similarity into optimization (again, foreshadowing).\n",
    "\n",
    "Regardless, the takehome message for word embeddings is roughly **\"learned vector representation for each token based on its meaning and usage in sentences.\"**"
   ]
  },
  {
   "cell_type": "code",
   "execution_count": 0,
   "metadata": {
    "application/vnd.databricks.v1+cell": {
     "cellMetadata": {
      "byteLimit": 2048000,
      "rowLimit": 10000
     },
     "inputWidgets": {},
     "nuid": "a8759a3a-2532-4276-8eaa-07d157a05cfa",
     "showTitle": false,
     "tableResultSettingsMap": {},
     "title": ""
    },
    "executionInfo": {
     "elapsed": 25,
     "status": "ok",
     "timestamp": 1694317936219,
     "user": {
      "displayName": "Vadim Kudlay",
      "userId": "00553664172613290122"
     },
     "user_tz": 300
    },
    "id": "Q5YPlm6PITLe",
    "tags": []
   },
   "outputs": [],
   "source": [
    "## Please run the code lines and observe what happens"
   ]
  },
  {
   "cell_type": "markdown",
   "metadata": {
    "application/vnd.databricks.v1+cell": {
     "cellMetadata": {
      "byteLimit": 2048000,
      "rowLimit": 10000
     },
     "inputWidgets": {},
     "nuid": "d1f5ce47-1abf-4226-a1e2-e8d849971232",
     "showTitle": false,
     "tableResultSettingsMap": {},
     "title": ""
    },
    "id": "sReNjJpXIlSP"
   },
   "source": [
    "### Investigating the Positional Embeddings\n",
    "\n",
    "Now that we've seen the word embeddings, we can take a look at the positional embeddings:\n",
    "\n",
    "```python\n",
    "model.bert.embeddings.position_embeddings ## -> Embedding(512, 768)\n",
    "```\n",
    "\n",
    "In contrast to the word embeddings, there is a new input dimension: 512.\n",
    "\n",
    "This actually corresponds to the number of input tokens that the BERT model can take in. All modern language models have a limited amount of tokens that can be fed in as a single input entry, and so there are only 512 possible positions to account for for our model.  \n",
    "- **NOTE:** This limit is actually not a hard limit, and is implemented on a per-model basis due to steep performance degredation. More on this when we talk about attention."
   ]
  },
  {
   "cell_type": "code",
   "execution_count": 0,
   "metadata": {
    "application/vnd.databricks.v1+cell": {
     "cellMetadata": {
      "byteLimit": 2048000,
      "rowLimit": 10000
     },
     "inputWidgets": {},
     "nuid": "40089d4f-aa0b-42cf-bee2-cfa8faa1a4d6",
     "showTitle": false,
     "tableResultSettingsMap": {},
     "title": ""
    },
    "colab": {
     "base_uri": "https://localhost:8080/"
    },
    "executionInfo": {
     "elapsed": 24,
     "status": "ok",
     "timestamp": 1694317936219,
     "user": {
      "displayName": "Vadim Kudlay",
      "userId": "00553664172613290122"
     },
     "user_tz": 300
    },
    "id": "911tmdn5Iq0Z",
    "outputId": "8fdadbf3-76fd-4339-c16d-1c5698073317",
    "tags": []
   },
   "outputs": [
    {
     "output_type": "stream",
     "name": "stdout",
     "output_type": "stream",
     "text": [
      "torch.Size([13, 768])\n"
     ]
    },
    {
     "output_type": "execute_result",
     "data": {
      "text/plain": [
       "tensor([[ 1.7505e-02, -2.5631e-02, -3.6642e-02,  ...,  3.3437e-05,\n",
       "          6.8312e-04,  1.5441e-02],\n",
       "        [ 7.7580e-03,  2.2613e-03, -1.9444e-02,  ...,  2.8910e-02,\n",
       "          2.9753e-02, -5.3247e-03],\n",
       "        [-1.1287e-02, -1.9644e-03, -1.1573e-02,  ...,  1.4908e-02,\n",
       "          1.8741e-02, -7.3140e-03],\n",
       "        ...,\n",
       "        [-9.6208e-03, -2.1375e-03, -1.1794e-02,  ...,  2.4868e-02,\n",
       "          1.2836e-02,  1.2238e-02],\n",
       "        [-1.1239e-02,  4.1275e-03, -1.6536e-02,  ...,  1.8726e-02,\n",
       "          1.4024e-02,  8.7044e-03],\n",
       "        [-1.5178e-02,  5.2001e-03, -2.7250e-03,  ...,  1.6257e-02,\n",
       "          1.9132e-04,  9.7079e-03]], grad_fn=<EmbeddingBackward0>)"
      ]
     },
     "execution_count": 7,
     "metadata": {},
     "output_type": "execute_result"
    }
   ],
   "source": [
    "def get_pos_embeddings(string):\n",
    "    ## NOTE: In the previous method, we removed surrounding tokens for illustration only.\n",
    "    ## For this one, we will not do the same since the index offset matters.\n",
    "    tokens = tokenizer(string)['input_ids']  \n",
    "    return model.bert.embeddings.position_embeddings(torch.arange(len(tokens)))\n",
    "\n",
    "## Pre-spaced to show where the tokens are. Same results without extra spaces\n",
    "string = \"Hello World From Me, my cat and my dog!\"\n",
    "pos_embeddings = get_pos_embeddings(string)\n",
    "print(pos_embeddings.shape)\n",
    "pos_embeddings"
   ]
  },
  {
   "cell_type": "markdown",
   "metadata": {
    "application/vnd.databricks.v1+cell": {
     "cellMetadata": {
      "byteLimit": 2048000,
      "rowLimit": 10000
     },
     "inputWidgets": {},
     "nuid": "9a9e4f38-42b9-429e-842a-0ad96464b240",
     "showTitle": false,
     "tableResultSettingsMap": {},
     "title": ""
    },
    "id": "cQ0n60xhIrro"
   },
   "source": [
    "The main difference you may have noticed is that instead of feeding in the tokens directly into the embedding layers, we're only feeding in a sequence of indices, literally via `torch.arange(n) = torch.tensor([0, 1, ..., n-1])`. The original \"Transformers Is All You Need\" paper used Positional \"Encoding\" which are pre-computed by a sinosoidal algorithm, but we can see that BERT just directly optimizes them instead. If it works, it works!\n",
    "\n",
    "You'll notice that the positional embedding has a more predictable and uniform cosine similarity plots compared to the word embeddings, which are all actually pretty consistent with a few key exceptions.\n",
    "\n",
    "```python\n",
    "plot_mtx(cosine_similarity(pos_embeddings, pos_embeddings), 'Cosine Sim', tokens)\n",
    "```\n",
    "\n",
    "**You're free to visualize a subset of the positional embeddings matrix below.**"
   ]
  },
  {
   "cell_type": "code",
   "execution_count": 0,
   "metadata": {
    "application/vnd.databricks.v1+cell": {
     "cellMetadata": {
      "byteLimit": 2048000,
      "rowLimit": 10000
     },
     "inputWidgets": {},
     "nuid": "7ab26b3a-6ef5-44ed-b98a-0df9b1701ab3",
     "showTitle": false,
     "tableResultSettingsMap": {},
     "title": ""
    },
    "executionInfo": {
     "elapsed": 22,
     "status": "ok",
     "timestamp": 1694317936219,
     "user": {
      "displayName": "Vadim Kudlay",
      "userId": "00553664172613290122"
     },
     "user_tz": 300
    },
    "id": "aW1lxTkoIvVx",
    "tags": []
   },
   "outputs": [],
   "source": [
    "## Please run the code lines and observe what happens"
   ]
  },
  {
   "cell_type": "markdown",
   "metadata": {
    "application/vnd.databricks.v1+cell": {
     "cellMetadata": {
      "byteLimit": 2048000,
      "rowLimit": 10000
     },
     "inputWidgets": {},
     "nuid": "f2c2b5f4-566f-4958-8bbb-1e078bc0aa33",
     "showTitle": false,
     "tableResultSettingsMap": {},
     "title": ""
    },
    "id": "EXwGMOOhI-WK"
   },
   "source": [
    "### The Tail-End of the Embedding\n",
    "\n",
    "To wrap up our embedding discussions, we do still have our **token_type_embedding** embeddings, but they follow roughly the same logic; just take in some extra semantic information about the sentence structure, and encode it in. The authors saw that this extra bit of information was necessary, so the overall embedding definition for BERT is:\n",
    "\n",
    "`embed = WordEmbed[token] + PosEmbed[pos] + TypeEmbed[pos]`"
   ]
  },
  {
   "cell_type": "code",
   "execution_count": 0,
   "metadata": {
    "application/vnd.databricks.v1+cell": {
     "cellMetadata": {
      "byteLimit": 2048000,
      "rowLimit": 10000
     },
     "inputWidgets": {},
     "nuid": "c5a804fa-708d-4821-b34d-bf8a91a18234",
     "showTitle": false,
     "tableResultSettingsMap": {},
     "title": ""
    },
    "colab": {
     "base_uri": "https://localhost:8080/"
    },
    "executionInfo": {
     "elapsed": 21,
     "status": "ok",
     "timestamp": 1694317936219,
     "user": {
      "displayName": "Vadim Kudlay",
      "userId": "00553664172613290122"
     },
     "user_tz": 300
    },
    "id": "_R3BjEOkJBhs",
    "outputId": "7b89ff1a-81a6-41ab-81bb-e54bbb8fbcfe",
    "tags": []
   },
   "outputs": [
    {
     "output_type": "execute_result",
     "data": {
      "text/plain": [
       "BertEmbeddings(\n",
       "  (word_embeddings): Embedding(30522, 768, padding_idx=0)\n",
       "  (position_embeddings): Embedding(512, 768)\n",
       "  (token_type_embeddings): Embedding(2, 768)\n",
       "  (LayerNorm): LayerNorm((768,), eps=1e-12, elementwise_affine=True)\n",
       "  (dropout): Dropout(p=0.1, inplace=False)\n",
       ")"
      ]
     },
     "execution_count": 9,
     "metadata": {},
     "output_type": "execute_result"
    }
   ],
   "source": [
    "model.bert.embeddings"
   ]
  },
  {
   "cell_type": "markdown",
   "metadata": {
    "application/vnd.databricks.v1+cell": {
     "cellMetadata": {
      "byteLimit": 2048000,
      "rowLimit": 10000
     },
     "inputWidgets": {},
     "nuid": "9d9cc137-8133-4836-9ff8-3eff40537bd0",
     "showTitle": false,
     "tableResultSettingsMap": {},
     "title": ""
    },
    "id": "3qKG1domJDdU"
   },
   "source": [
    "Then at the end, the LayerNorm section and Dropout section are also included, and these will permiate your architectures going forward. A light discussion is sufficient to motivate them:\n",
    "\n",
    "- The [LayerNorm layer](https://pytorch.org/docs/stable/generated/torch.nn.LayerNorm.html) normalizes the data flowing through it so that each minibatch subscribes to a similar distribution. You've probably seen [BatchNorm](https://pytorch.org/docs/stable/generated/torch.nn.BatchNorm2d.html) from computer vision; this has a similar logic, but now the normalization covers the layer outputs instead of the batch.\n",
    "    - [Build Better Deep Learning Models with Batch and Layer Normalization | **PineCone.io**](https://www.pinecone.io/learn/batch-layer-normalization/)\n",
    "    - [**PowerNorm** paper](https://arxiv.org/abs/2003.07845): Contains a deeper analyzes of Batch/Layer Norm and problems for the LLM use-case\n",
    "- The [Dropout layer](https://pytorch.org/docs/stable/generated/torch.nn.Dropout.html) just masks out some of the values during training. You've probably seen this before, and the logic is the same as usual; prevent over-reliance on a selection of features and distribute the logic throughout the network.\n",
    "\n",
    "From here, it is useful to remind you that HuggingFace is an open-source platform! Though it is quite large, its logic becomes transparent when you know where to look. In this case, we can see the code for how all of these things come together in [`transformers/models/bert/modeling_bert.py`](https://github.com/huggingface/transformers/blob/0a365c3e6a0e174302debff4023182838607acf1/src/transformers/models/bert/modeling_bert.py#L180C11-L180C11). Perusing the source code can help answer ambiguities about technical details such as \"is this addition or concatenation\" (it's addition) or \"are there additional steps necessary to make this scheme work in practice\" (yes). Please check it out and try to appreciate how litte information is actually necessary for the model to perform its reasoning."
   ]
  },
  {
   "cell_type": "markdown",
   "metadata": {
    "application/vnd.databricks.v1+cell": {
     "cellMetadata": {
      "byteLimit": 2048000,
      "rowLimit": 10000
     },
     "inputWidgets": {},
     "nuid": "26c86f8c-f8ae-464a-8d04-71be1ad8630c",
     "showTitle": false,
     "tableResultSettingsMap": {},
     "title": ""
    },
    "id": "Lj7nG585JOnt"
   },
   "source": [
    "## 2.3. From Token-Level Reasoning to Passage-Level Reasoning\n",
    "\n",
    "**To summarize the key points of the LLM intake strategy:**\n",
    "\n",
    "- We take in a passage as an ordered sequence of tokens which we obtain by passing the string through the tokenizer.\n",
    "- We train up embeddings corresponding to the token features (meanings, positions, etc.), and incorporate them together (in this case, literally by adding them).  \n",
    "\n",
    "**With this, we have some obvious options for how to reason about our data:**\n",
    "\n",
    "- We can just take our sequence of tokens, and then reason about each one of those one-at-a-time. This is quite similar to what we did in classification tasks, so we know it does work. \n",
    "    - **Problem:** This isn't good enough for text passages since the tokens have to reason about the other tokens in the sequence.\n",
    "- On the other hand, we can try to reason about these things all at once by combining them and passing the data through dense layers\n",
    "    - **Problem:** This will create a dense neural network that is intractable to optimize.\n",
    "\n",
    "The LLM solution is to do something between those two options: Allow reasoning to be done on each token, but also allow for small opportunities in which the network can combine the token reasoning and consider the sequence as a whole! That's where the **transformer** components come in!\n",
    "\n",
    "### Transformer Attention\n",
    "\n",
    "**Transformers** are deep learning components described in the 2017 paper [*Attention Is All You Need*](https://arxiv.org/abs/1706.03762) for reasoning with language tasks, and the resulting architecture has been making its way into almost every state-of-the-art language modeling architecture since. This architecture uses an ***attention mechanism*** to create an interface where the other entries of the sequence can communicate semantic information to other tokens in the series.\n",
    "\n",
    "The formulation goes as follows: If we have semantic and positional information present in our embeddings, we can train a mapping from our embeddings into three semantic spaces $K$, $Q$, and $V$:\n",
    "\n",
    "- `Key` and `Query` are arguments to a similarity function (recall scaled softmax attention) to guage how much weight (or attention) should be given between any pair of sequence entries in the input.\n",
    "    - In practice, the inputs to a specific transformer block are latent embeddings of the original tokens.\n",
    "- `Value` is the information that should pass through to the next component, and is weighted by `SoftmaxAttention(Key, Query)` to produce an output that is positionally and semantically motivated.\n",
    "\n",
    "**In other words:** Given a semantic/position-rich sequence of $d_k$-element embeddings ($S$) and three dense layers ($K$, $Q$, and $V$) that operate per-sequence-entry, we can train a neural network to make semantic/position-driven predictions via the forward pass equation:\n",
    "\n",
    "$$\\text{Self-Attention} = \\text{SoftmaxAttention}(K_s, Q_s) \\cdot V_s$$$$= \\frac{K_s Q_s ^T}{\\sqrt{d_k}}V_s$$\n",
    "\n",
    "<div><img src=\"imgs/attention-logic.png\" width=\"1000\"/></div>\n",
    "\n",
    "**Key Observations:**\n",
    "\n",
    "- Since the embeddings have both semantic and positional information, this will be able to reason about both the general meanings and the word order of an input sequence.\n",
    "- Since scaled softmax attention is being used, the magnitude and cosine similarity of `Key` and `Query` all play a role in the decision-making process while the optimized result remains nicely-bounded.\n",
    "- Since sequence length dimension gets preserved by matrix multiplication, there is a nice interpretation to the resulting attention matrix: **\"What percentage of attention should each token pay to its surrounding tokens\"**.\n",
    "\n",
    "This flavor of attention is called **self-attention**, since all of the `Key`, `Query`, and `Value` vectors are inferred from the same sequence. Other flavors will be presented later as necessary."
   ]
  },
  {
   "cell_type": "markdown",
   "metadata": {
    "application/vnd.databricks.v1+cell": {
     "cellMetadata": {
      "byteLimit": 2048000,
      "rowLimit": 10000
     },
     "inputWidgets": {},
     "nuid": "3b0bb0b9-40c1-419c-9954-702e90181de0",
     "showTitle": false,
     "tableResultSettingsMap": {},
     "title": ""
    },
    "id": "ruqnhclbNli5"
   },
   "source": [
    "### Seeing Attention in the BERT Encoder\n",
    "\n",
    "Now that we've reviewed the logic of how self-attention works, let's look through the BERT encoder to see how our embeddings are treated:"
   ]
  },
  {
   "cell_type": "code",
   "execution_count": 0,
   "metadata": {
    "application/vnd.databricks.v1+cell": {
     "cellMetadata": {
      "byteLimit": 2048000,
      "rowLimit": 10000
     },
     "inputWidgets": {},
     "nuid": "d7443dce-67eb-465a-8b7c-5d615528b128",
     "showTitle": false,
     "tableResultSettingsMap": {},
     "title": ""
    },
    "colab": {
     "base_uri": "https://localhost:8080/"
    },
    "executionInfo": {
     "elapsed": 16,
     "status": "ok",
     "timestamp": 1694317936220,
     "user": {
      "displayName": "Vadim Kudlay",
      "userId": "00553664172613290122"
     },
     "user_tz": 300
    },
    "id": "17XfGL09NqwD",
    "outputId": "163de708-172f-4ae6-a334-29ccc447ac90"
   },
   "outputs": [
    {
     "output_type": "execute_result",
     "data": {
      "text/plain": [
       "BertEncoder(\n",
       "  (layer): ModuleList(\n",
       "    (0-11): 12 x BertLayer(\n",
       "      (attention): BertAttention(\n",
       "        (self): BertSdpaSelfAttention(\n",
       "          (query): Linear(in_features=768, out_features=768, bias=True)\n",
       "          (key): Linear(in_features=768, out_features=768, bias=True)\n",
       "          (value): Linear(in_features=768, out_features=768, bias=True)\n",
       "          (dropout): Dropout(p=0.1, inplace=False)\n",
       "        )\n",
       "        (output): BertSelfOutput(\n",
       "          (dense): Linear(in_features=768, out_features=768, bias=True)\n",
       "          (LayerNorm): LayerNorm((768,), eps=1e-12, elementwise_affine=True)\n",
       "          (dropout): Dropout(p=0.1, inplace=False)\n",
       "        )\n",
       "      )\n",
       "      (intermediate): BertIntermediate(\n",
       "        (dense): Linear(in_features=768, out_features=3072, bias=True)\n",
       "        (intermediate_act_fn): GELUActivation()\n",
       "      )\n",
       "      (output): BertOutput(\n",
       "        (dense): Linear(in_features=3072, out_features=768, bias=True)\n",
       "        (LayerNorm): LayerNorm((768,), eps=1e-12, elementwise_affine=True)\n",
       "        (dropout): Dropout(p=0.1, inplace=False)\n",
       "      )\n",
       "    )\n",
       "  )\n",
       ")"
      ]
     },
     "execution_count": 10,
     "metadata": {},
     "output_type": "execute_result"
    }
   ],
   "source": [
    "unmasker.model.bert.encoder"
   ]
  },
  {
   "cell_type": "markdown",
   "metadata": {
    "application/vnd.databricks.v1+cell": {
     "cellMetadata": {
      "byteLimit": 2048000,
      "rowLimit": 10000
     },
     "inputWidgets": {},
     "nuid": "f7a7c803-3548-4671-9581-e4d4b8d42ff6",
     "showTitle": false,
     "tableResultSettingsMap": {},
     "title": ""
    },
    "id": "D1MBqwscNlCy"
   },
   "source": [
    "Let's just talk about these components:\n",
    "- `BertAttention`: This component takes a sequence of vectors (let's call it `x`) as input and gets the `Q`, `K`, and `V` components via `query(x)`, `key(x)`, and `value(x)`, respectively. As these are all $768$-dimensional vectors - and are thereby multiplicatively compatible under transpose - the layer performs the attention computation with a few key modifications:\n",
    "    - **Multi-Headed Attention:** This is talked about in lecture, but essentially $K$, $Q$, and $V$ are all slices up along the embedding dimension such that we get 12 trios with dimension $768/12 = 64$. This will give us 12 different attention results, and hence will allow the network to distribute attention in a variety of ways. At the end, just concatenate embedding-wise and you'll be back up to 768-features vectors.\n",
    "    - **Masked Attention:** This is less useful for BERT but explains what the `attention_mask` input is doing. Essentially, it's an boolean \"should-I-add-negative-infinity-to-the-attention\" mask to keep the model from attending to things it shouldn't. For inference purposes, this is usually not important barring the presence of padding tokens. When using off-the-shelf pipelines for inference, you can ignore attention masks in most cases and can assume that the pipeline will take care of it.\n",
    "    - **Residual Connections:** To help the network keep the token-level information propagating through the network (and to improve the overall gradient flow), most architectures add residual connections around the transformer components.\n",
    "\n",
    "- `BertSelfOutput -> BertIntermediate -> BertOutput`: These are all just token-level dense layers with non-linear activations and some `LayerNorm`/`Dropout` layers mixed in for regularization. Each element in the sequence is thereby ran through a MLP with dimension $768 \\to 768 \\to 3072 \\to 768$ to a new representation.\n",
    "\n",
    "And... there are 12 of these, stacked one after the other! Not too bad, huh?"
   ]
  },
  {
   "cell_type": "markdown",
   "metadata": {
    "application/vnd.databricks.v1+cell": {
     "cellMetadata": {
      "byteLimit": 2048000,
      "rowLimit": 10000
     },
     "inputWidgets": {},
     "nuid": "fa812d44-8158-4fa2-b040-926b301d9562",
     "showTitle": false,
     "tableResultSettingsMap": {},
     "title": ""
    }
   },
   "source": [
    "<div><img src=\"imgs/bert-construction.png\" width=\"800\"/></div>"
   ]
  },
  {
   "cell_type": "markdown",
   "metadata": {
    "application/vnd.databricks.v1+cell": {
     "cellMetadata": {
      "byteLimit": 2048000,
      "rowLimit": 10000
     },
     "inputWidgets": {},
     "nuid": "dfc5f548-e0e0-4988-b331-b29548f3fbbf",
     "showTitle": false,
     "tableResultSettingsMap": {},
     "title": ""
    },
    "id": "00X5bjwcNueo"
   },
   "source": [
    "### Visualizing The Attention Mechanism In Action\n",
    "\n",
    "Recall that there are 12 `SelfAttention` layers and each one has 12 attention heads reasoning about a different properties of the sequence. As such, we can request the realized attention values computed at each `SelfAttention` layer:"
   ]
  },
  {
   "cell_type": "code",
   "execution_count": 0,
   "metadata": {
    "application/vnd.databricks.v1+cell": {
     "cellMetadata": {
      "byteLimit": 2048000,
      "rowLimit": 10000
     },
     "inputWidgets": {},
     "nuid": "5f35d072-32f8-44fe-81d8-d381c2cb536c",
     "showTitle": false,
     "tableResultSettingsMap": {},
     "title": ""
    },
    "colab": {
     "base_uri": "https://localhost:8080/"
    },
    "executionInfo": {
     "elapsed": 250,
     "status": "ok",
     "timestamp": 1694317936460,
     "user": {
      "displayName": "Vadim Kudlay",
      "userId": "00553664172613290122"
     },
     "user_tz": 300
    },
    "id": "nSYojpqSN3Qk",
    "outputId": "fd57f19f-41d1-404c-9659-d750ed24c02b",
    "tags": []
   },
   "outputs": [
    {
     "output_type": "stream",
     "name": "stderr",
     "output_type": "stream",
     "text": [
      "BertSdpaSelfAttention is used but `torch.nn.functional.scaled_dot_product_attention` does not support non-absolute `position_embedding_type` or `output_attentions=True` or `head_mask`. Falling back to the manual attention implementation, but specifying the manual implementation will be required from Transformers version v5.0.0 onwards. This warning can be removed using the argument `attn_implementation=\"eager\"` when loading the model.\n"
     ]
    },
    {
     "output_type": "stream",
     "name": "stdout",
     "output_type": "stream",
     "text": [
      "\nFrom encoder.forward():\n > 'last_hidden_state' : torch.Size([1, 12, 768])\n > 'attentions' : torch.Size([12, 1, 12, 12, 12])\n"
     ]
    }
   ],
   "source": [
    "import torch\n",
    "\n",
    "string = \"Hello Mr. Bert! How is it [MASK]?\"\n",
    "input_tensors = unmasker.preprocess(string)\n",
    "embeddings = unmasker.model.bert.embeddings(input_tensors['input_ids'])\n",
    "x = unmasker.model.bert.encoder(embeddings, input_tensors['attention_mask'], output_attentions=True)\n",
    "## NOTE, you can also feed it in as an argument on model construction\n",
    "\n",
    "print('', \"From encoder.forward():\", sep='\\n')\n",
    "for k,v in x.items():\n",
    "    if type(v) in (tuple, list):\n",
    "        print(f\" > '{k}' : {torch.stack(v).shape}\")\n",
    "    else:\n",
    "        print(f\" > '{k}' : {v.shape}\")\n"
   ]
  },
  {
   "cell_type": "markdown",
   "metadata": {
    "application/vnd.databricks.v1+cell": {
     "cellMetadata": {
      "byteLimit": 2048000,
      "rowLimit": 10000
     },
     "inputWidgets": {},
     "nuid": "802b0598-28c9-461c-b2a4-b20b91e0b85e",
     "showTitle": false,
     "tableResultSettingsMap": {},
     "title": ""
    },
    "id": "BrQ5n7S5N0rt"
   },
   "source": [
    "As the transformer architecture largely avoids mixing semantics/position information outside of the attention mechanism. As such, you can claim that the attention localized at any head loosely considers the impact of the whole sequence on a particular sequence entry (aka token).\n",
    "\n",
    "To visualize this, we can use the [`BertViz` package](https://github.com/jessevig/bertviz) to display the attention associations from our last forward pass in an interactive grid! Please feel free to test this out with other input strings to see what changes.\n",
    "- See what happens to the dimensionality when you increase the number of tokens.\n",
    "- See what happens to the connections, and see if you see any patterns worth noting.\n",
    "- Why do you think the CLS and SEP tokens get so much attention in many of the attention heads?"
   ]
  },
  {
   "cell_type": "code",
   "execution_count": 0,
   "metadata": {
    "application/vnd.databricks.v1+cell": {
     "cellMetadata": {
      "byteLimit": 2048000,
      "rowLimit": 10000
     },
     "inputWidgets": {},
     "nuid": "34f7c973-e102-47a2-ac76-ef4e6348b8c4",
     "showTitle": false,
     "tableResultSettingsMap": {},
     "title": ""
    },
    "colab": {
     "base_uri": "https://localhost:8080/",
     "height": 1000
    },
    "executionInfo": {
     "elapsed": 994,
     "status": "ok",
     "timestamp": 1694317956922,
     "user": {
      "displayName": "Vadim Kudlay",
      "userId": "00553664172613290122"
     },
     "user_tz": 300
    },
    "id": "z7FjdryUN6FY",
    "outputId": "8b479087-52a2-42f8-ced7-ee768fd18d1f",
    "tags": []
   },
   "outputs": [
    {
     "output_type": "display_data",
     "data": {
      "text/plain": [
       "\u001B[0;31m---------------------------------------------------------------------------\u001B[0m\n",
       "\u001B[0;31mModuleNotFoundError\u001B[0m                       Traceback (most recent call last)\n",
       "File \u001B[0;32m<command-2415818644500667>, line 1\u001B[0m\n",
       "\u001B[0;32m----> 1\u001B[0m \u001B[38;5;28;01mfrom\u001B[39;00m \u001B[38;5;21;01mbertviz\u001B[39;00m \u001B[38;5;28;01mimport\u001B[39;00m model_view\n",
       "\u001B[1;32m      3\u001B[0m \u001B[38;5;28;01mimport\u001B[39;00m \u001B[38;5;21;01mtorch\u001B[39;00m\n",
       "\u001B[1;32m      4\u001B[0m \u001B[38;5;28;01mfrom\u001B[39;00m \u001B[38;5;21;01mtransformers\u001B[39;00m \u001B[38;5;28;01mimport\u001B[39;00m pipeline\n",
       "\n",
       "\u001B[0;31mModuleNotFoundError\u001B[0m: No module named 'bertviz'"
      ]
     },
     "metadata": {
      "application/vnd.databricks.v1+output": {
       "addedWidgets": {},
       "arguments": {},
       "datasetInfos": [],
       "jupyterProps": {
        "ename": "ModuleNotFoundError",
        "evalue": "No module named 'bertviz'"
       },
       "metadata": {
        "errorSummary": "<span class='ansi-red-fg'>ModuleNotFoundError</span>: No module named 'bertviz'"
       },
       "removedWidgets": [],
       "sqlProps": null,
       "stackFrames": [
        "\u001B[0;31m---------------------------------------------------------------------------\u001B[0m",
        "\u001B[0;31mModuleNotFoundError\u001B[0m                       Traceback (most recent call last)",
        "File \u001B[0;32m<command-2415818644500667>, line 1\u001B[0m\n\u001B[0;32m----> 1\u001B[0m \u001B[38;5;28;01mfrom\u001B[39;00m \u001B[38;5;21;01mbertviz\u001B[39;00m \u001B[38;5;28;01mimport\u001B[39;00m model_view\n\u001B[1;32m      3\u001B[0m \u001B[38;5;28;01mimport\u001B[39;00m \u001B[38;5;21;01mtorch\u001B[39;00m\n\u001B[1;32m      4\u001B[0m \u001B[38;5;28;01mfrom\u001B[39;00m \u001B[38;5;21;01mtransformers\u001B[39;00m \u001B[38;5;28;01mimport\u001B[39;00m pipeline\n",
        "\u001B[0;31mModuleNotFoundError\u001B[0m: No module named 'bertviz'"
       ],
       "type": "baseError"
      }
     },
     "output_type": "display_data"
    }
   ],
   "source": [
    "from bertviz import model_view\n",
    "\n",
    "import torch\n",
    "from transformers import pipeline\n",
    "\n",
    "string = \"Hello Mr. Bert! [MASK] should be fun!\"\n",
    "input_ids = unmasker.tokenizer.encode(string)\n",
    "input_tokens = unmasker.tokenizer.convert_ids_to_tokens(input_ids)\n",
    "\n",
    "input_tensors = unmasker.preprocess(string)\n",
    "embeddings = unmasker.model.bert.embeddings(input_tensors['input_ids'])\n",
    "x = unmasker.model.bert.encoder(embeddings, input_tensors['attention_mask'], output_attentions=True)\n",
    "\n",
    "model_view(x['attentions'], input_tokens)  # Display model view"
   ]
  },
  {
   "cell_type": "markdown",
   "metadata": {
    "application/vnd.databricks.v1+cell": {
     "cellMetadata": {
      "byteLimit": 2048000,
      "rowLimit": 10000
     },
     "inputWidgets": {},
     "nuid": "bfbc8b93-023f-49ec-bdd8-ae5bc434f87a",
     "showTitle": false,
     "tableResultSettingsMap": {},
     "title": ""
    },
    "id": "qihft1FJO7a2"
   },
   "source": [
    "## 2.4. Wrapping Up\n",
    "\n",
    "At this point, we've shows the core intuitions of how these models reason about text:\n",
    "\n",
    "- Embed the semantics and positions of the tokens.\n",
    "- Reason about the token components, mostly in isolation and with small and tight interfaces to consider the other tokens in the sequence.\n",
    "\n",
    "These several modifications are intuitive to understand and work well in practice, and just about every model we interact with will rely on this intuition. \n"
   ]
  }
 ],
 "metadata": {
  "application/vnd.databricks.v1+notebook": {
   "computePreferences": null,
   "dashboards": [],
   "environmentMetadata": null,
   "inputWidgetPreferences": null,
   "language": "python",
   "notebookMetadata": {
    "pythonIndentUnit": 4
   },
   "notebookName": "04_llm_intake",
   "widgets": {}
  },
  "colab": {
   "authorship_tag": "ABX9TyNrHvUEGbmmFHp3hETBA4dk",
   "provenance": [
    {
     "file_id": "16SWgOvVC9HUbtGzlmYWABbO2WXQaWN_w",
     "timestamp": 1694313364012
    }
   ]
  },
  "kernelspec": {
   "display_name": "Python 3 (ipykernel)",
   "language": "python",
   "name": "python3"
  },
  "language_info": {
   "name": "python"
  }
 },
 "nbformat": 4,
 "nbformat_minor": 0
}