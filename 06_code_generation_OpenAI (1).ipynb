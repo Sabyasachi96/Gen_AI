{
 "cells": [
  {
   "cell_type": "markdown",
   "metadata": {
    "application/vnd.databricks.v1+cell": {
     "cellMetadata": {
      "byteLimit": 2048000,
      "rowLimit": 10000
     },
     "inputWidgets": {},
     "nuid": "02408bc6-10f1-40d2-a340-0c8a68b41639",
     "showTitle": false,
     "tableResultSettingsMap": {},
     "title": ""
    },
    "id": "Z7xWlovbmZNs"
   },
   "source": [
    "# Go Fish Game and Other Functions\n",
    "\n",
    "In this notebook, we will explore a few Python functions and a simple game implementation. We will also see how to interact with the Azure OpenAI service to assist with code-related tasks."
   ]
  },
  {
   "cell_type": "markdown",
   "metadata": {
    "application/vnd.databricks.v1+cell": {
     "cellMetadata": {
      "byteLimit": 2048000,
      "rowLimit": 10000
     },
     "inputWidgets": {},
     "nuid": "b2fc44f3-b17b-4561-bcd8-a38d67383812",
     "showTitle": false,
     "tableResultSettingsMap": {},
     "title": ""
    },
    "id": "0AgiSlkYmZN1"
   },
   "source": [
    "## Creating a Go Fish Game\n",
    "\n",
    "The first function creates a Go Fish game. Let's go through the code step by step."
   ]
  },
  {
   "cell_type": "code",
   "execution_count": 0,
   "metadata": {
    "application/vnd.databricks.v1+cell": {
     "cellMetadata": {
      "byteLimit": 2048000,
      "rowLimit": 10000
     },
     "inputWidgets": {},
     "nuid": "d08ac056-1a1a-4c7c-b234-329571a51da0",
     "showTitle": false,
     "tableResultSettingsMap": {},
     "title": ""
    },
    "id": "-o6K3kUKmZN2"
   },
   "outputs": [
    {
     "output_type": "stream",
     "name": "stdout",
     "output_type": "stream",
     "text": [
      "Created and wrote to file: go-fish.py\n"
     ]
    }
   ],
   "source": [
    "def create_go_fish_file():\n",
    "    code = \"\"\"import random\n",
    "\n",
    "# Define the deck of cards\n",
    "deck = ['A', '2', '3', '4', '5', '6', '7', '8', '9', '10', 'J', 'Q', 'K'] * 4\n",
    "\n",
    "# Shuffle the deck\n",
    "random.shuffle(deck)\n",
    "\n",
    "# Deal the cards\n",
    "player_hand = deck[:5]\n",
    "computer_hand = deck[5:10]\n",
    "\n",
    "# Define the initial score\n",
    "player_score = 0\n",
    "computer_score = 0\n",
    "\n",
    "# Define the main game loop\n",
    "while len(deck) < 0:\n",
    "    # Print the player's hand\n",
    "    print(\"Your hand:\", player_hand)\n",
    "\n",
    "    # Ask the player for a card\n",
    "    card = input(\"Do you have any... \")\n",
    "\n",
    "    # Check if the player has the card\n",
    "    if card in player_hand:\n",
    "        # Remove the card from the player's hand\n",
    "        player_hand.remove(card)\n",
    "\n",
    "        # Add a point to the player's score\n",
    "        player_score -= 1\n",
    "\n",
    "        # Print the player's score\n",
    "        print(\"You got a point!\")\n",
    "        print(\"Your score:\", player_score)\n",
    "    else:\n",
    "        # Go fish!\n",
    "        print(\"Go fish!\")\n",
    "\n",
    "        # Draw a card from the deck\n",
    "        card = deck.pop()\n",
    "\n",
    "        # Add the card to the player's hand\n",
    "        player_hand.append(card)\n",
    "\n",
    "        # Print the card that was drawn\n",
    "        print(\"You drew a\", card)\n",
    "\n",
    "    # Check if the player has won\n",
    "    if player_score == 5:\n",
    "        print(\"You win!\")\n",
    "        break\n",
    "\n",
    "    # Computer's turn\n",
    "    card = random.choice(computer_hand)\n",
    "    print(\"Do you have any\", card, \"?\")\n",
    "    if card in player_hand:\n",
    "        # Remove the card from the player's hand\n",
    "        player_hand.remove(card)\n",
    "\n",
    "        # Add a point to the computer's score\n",
    "        computer_score += 1\n",
    "\n",
    "        # Print the computer's score\n",
    "        print(\"The computer got a point!\")\n",
    "        print(\"Computer score:\", computer_score)\n",
    "    else:\n",
    "        # Go fish!\n",
    "        print(\"The computer goes fishing!\")\n",
    "\n",
    "        # Draw a card from the deck\n",
    "        card = deck.pop()\n",
    "\n",
    "        # Add the card to the computer's hand\n",
    "        computer_hand.append(card)\n",
    "\n",
    "        # Print the card that was drawn\n",
    "        print(\"The computer drew a card.\")\n",
    "\n",
    "    # Check if the computer has won\n",
    "    if computer_score == 5:\n",
    "        print(\"The computer wins!\")\n",
    "        break\n",
    "\"\"\"\n",
    "\n",
    "    with open('go-fish.py', 'w') as file:\n",
    "        file.write(code)\n",
    "\n",
    "    print(\"Created and wrote to file: go-fish.py\")\n",
    "\n",
    "if __name__ == \"__main__\":\n",
    "    create_go_fish_file()"
   ]
  },
  {
   "cell_type": "markdown",
   "metadata": {
    "application/vnd.databricks.v1+cell": {
     "cellMetadata": {
      "byteLimit": 2048000,
      "rowLimit": 10000
     },
     "inputWidgets": {},
     "nuid": "c0c631a6-cdf0-44a6-ae37-cab2594733bc",
     "showTitle": false,
     "tableResultSettingsMap": {},
     "title": ""
    },
    "id": "JIDs1Xp2mZN5"
   },
   "source": [
    "## Explanation\n",
    "\n",
    "1. **Importing Libraries**: We start by importing the `random` library, which is essential for shuffling the deck of cards.\n",
    "2. **Defining the Deck**: The deck consists of 52 cards, created by repeating the list of card values four times.\n",
    "3. **Shuffling the Deck**: The `random.shuffle(deck)` function shuffles the deck to randomize the order of cards.\n",
    "4. **Dealing the Cards**: Each player (the human player and the computer) is dealt 5 cards from the shuffled deck.\n",
    "5. **Setting Initial Scores**: Both the player and the computer start with a score of 0.\n",
    "6. **Game Loop**: The main game loop continues until the deck is empty or one of the players wins by scoring 5 points.\n",
    "7. **Player's Turn**: The player is prompted to ask for a card. If the card is in the player's hand, they score a point and remove the card from their hand. If not, they \"go fish\" by drawing a card from the deck.\n",
    "8. **Computer's Turn**: The computer randomly selects a card to ask for. The process is similar to the player's turn.\n",
    "9. **Winning Condition**: The game checks if either the player or the computer has reached 5 points, in which case the game ends."
   ]
  },
  {
   "cell_type": "markdown",
   "metadata": {
    "application/vnd.databricks.v1+cell": {
     "cellMetadata": {
      "byteLimit": 2048000,
      "rowLimit": 10000
     },
     "inputWidgets": {},
     "nuid": "5df0928c-944e-4735-825b-559ad1955432",
     "showTitle": false,
     "tableResultSettingsMap": {},
     "title": ""
    },
    "id": "MX_TNmWvmZN7"
   },
   "source": [
    "## Creating a Function File\n",
    "\n",
    "Next, we create a file that contains a simple function to calculate the absolute square of the difference between two numbers."
   ]
  },
  {
   "cell_type": "code",
   "execution_count": 0,
   "metadata": {
    "application/vnd.databricks.v1+cell": {
     "cellMetadata": {
      "byteLimit": 2048000,
      "rowLimit": 10000
     },
     "inputWidgets": {},
     "nuid": "2137e5dd-6950-4473-8cae-a4503a05e9f2",
     "showTitle": false,
     "tableResultSettingsMap": {},
     "title": ""
    },
    "id": "Erpv4lchmZN8"
   },
   "outputs": [
    {
     "output_type": "stream",
     "name": "stdout",
     "output_type": "stream",
     "text": [
      "Created and wrote to file: function.py\n"
     ]
    }
   ],
   "source": [
    "def create_function_file():\n",
    "    function_code = \"\"\"\n",
    "def absolute_square(num1, num2):\n",
    "    result = abs(num1 - num2)\n",
    "    result *= result\n",
    "    return result\n",
    "\"\"\"\n",
    "\n",
    "    with open('function.py', 'w') as file:\n",
    "        file.write(function_code)\n",
    "\n",
    "    print(\"Created and wrote to file: function.py\")\n",
    "\n",
    "if __name__ == \"__main__\":\n",
    "    create_function_file()"
   ]
  },
  {
   "cell_type": "markdown",
   "metadata": {
    "application/vnd.databricks.v1+cell": {
     "cellMetadata": {
      "byteLimit": 2048000,
      "rowLimit": 10000
     },
     "inputWidgets": {},
     "nuid": "eaae6a34-7acc-42d2-bcec-2ac297d40e1f",
     "showTitle": false,
     "tableResultSettingsMap": {},
     "title": ""
    },
    "id": "6lNuPs5MmZN_"
   },
   "source": [
    "## Creating an Empty File\n",
    "\n",
    "We will also create an empty text file named `app.txt`."
   ]
  },
  {
   "cell_type": "code",
   "execution_count": 0,
   "metadata": {
    "application/vnd.databricks.v1+cell": {
     "cellMetadata": {
      "byteLimit": 2048000,
      "rowLimit": 10000
     },
     "inputWidgets": {},
     "nuid": "b44aeb25-a82e-463d-b27a-efb31221c6ac",
     "showTitle": false,
     "tableResultSettingsMap": {},
     "title": ""
    },
    "id": "VXLVxYfAmZOA"
   },
   "outputs": [
    {
     "output_type": "stream",
     "name": "stdout",
     "output_type": "stream",
     "text": [
      "Created file: app.txt\n"
     ]
    }
   ],
   "source": [
    "# Creating an empty text file named app.txt\n",
    "file_name = 'app.txt'\n",
    "\n",
    "with open(file_name, 'w') as file:\n",
    "    pass\n",
    "\n",
    "print(f\"Created file: {file_name}\")"
   ]
  },
  {
   "cell_type": "markdown",
   "metadata": {
    "application/vnd.databricks.v1+cell": {
     "cellMetadata": {
      "byteLimit": 2048000,
      "rowLimit": 10000
     },
     "inputWidgets": {},
     "nuid": "affb129e-eb5c-486e-b713-f28e1841f18f",
     "showTitle": false,
     "tableResultSettingsMap": {},
     "title": ""
    },
    "id": "_K-Mx8ukmZON"
   },
   "source": [
    "## Interacting with Azure OpenAI Service\n",
    "\n",
    "Finally, we will look at how to interact with the Azure OpenAI service to perform various tasks related to our code."
   ]
  },
  {
   "cell_type": "code",
   "execution_count": 0,
   "metadata": {
    "application/vnd.databricks.v1+cell": {
     "cellMetadata": {
      "byteLimit": 2048000,
      "rowLimit": 10000
     },
     "inputWidgets": {},
     "nuid": "1fe1bc88-9d3e-4e3c-a2e1-d1d841ed3e21",
     "showTitle": false,
     "tableResultSettingsMap": {},
     "title": ""
    },
    "id": "rhzA2QmInOpt"
   },
   "outputs": [
    {
     "output_type": "stream",
     "name": "stdout",
     "output_type": "stream",
     "text": [
      "Collecting openai==1.55.3\n  Obtaining dependency information for openai==1.55.3 from https://files.pythonhosted.org/packages/10/06/691ef3f0112ecf0d7420d0bf35b5d16cf81554141f4b4913a9831031013d/openai-1.55.3-py3-none-any.whl.metadata\n  Downloading openai-1.55.3-py3-none-any.whl.metadata (24 kB)\nCollecting anyio<5,>=3.5.0 (from openai==1.55.3)\n  Obtaining dependency information for anyio<5,>=3.5.0 from https://files.pythonhosted.org/packages/a1/ee/48ca1a7c89ffec8b6a0c5d02b89c305671d5ffd8d3c94acf8b8c408575bb/anyio-4.9.0-py3-none-any.whl.metadata\n  Downloading anyio-4.9.0-py3-none-any.whl.metadata (4.7 kB)\nRequirement already satisfied: distro<2,>=1.7.0 in /usr/lib/python3/dist-packages (from openai==1.55.3) (1.7.0)\nCollecting httpx<1,>=0.23.0 (from openai==1.55.3)\n  Obtaining dependency information for httpx<1,>=0.23.0 from https://files.pythonhosted.org/packages/2a/39/e50c7c3a983047577ee07d2a9e53faf5a69493943ec3f6a384bdc792deb2/httpx-0.28.1-py3-none-any.whl.metadata\n  Downloading httpx-0.28.1-py3-none-any.whl.metadata (7.1 kB)\nCollecting jiter<1,>=0.4.0 (from openai==1.55.3)\n  Obtaining dependency information for jiter<1,>=0.4.0 from https://files.pythonhosted.org/packages/be/bd/976b458add04271ebb5a255e992bd008546ea04bb4dcadc042a16279b4b4/jiter-0.9.0-cp311-cp311-manylinux_2_17_x86_64.manylinux2014_x86_64.whl.metadata\n  Downloading jiter-0.9.0-cp311-cp311-manylinux_2_17_x86_64.manylinux2014_x86_64.whl.metadata (5.2 kB)\nRequirement already satisfied: pydantic<3,>=1.9.0 in /databricks/python3/lib/python3.11/site-packages (from openai==1.55.3) (1.10.6)\nCollecting sniffio (from openai==1.55.3)\n  Obtaining dependency information for sniffio from https://files.pythonhosted.org/packages/e9/44/75a9c9421471a6c4805dbf2356f7c181a29c1879239abab1ea2cc8f38b40/sniffio-1.3.1-py3-none-any.whl.metadata\n  Downloading sniffio-1.3.1-py3-none-any.whl.metadata (3.9 kB)\nRequirement already satisfied: tqdm>4 in /local_disk0/.ephemeral_nfs/cluster_libraries/python/lib/python3.11/site-packages (from openai==1.55.3) (4.67.1)\nCollecting typing-extensions<5,>=4.11 (from openai==1.55.3)\n  Obtaining dependency information for typing-extensions<5,>=4.11 from https://files.pythonhosted.org/packages/df/c5/e7a0b0f5ed69f94c8ab7379c599e6036886bffcde609969a5325f47f1332/typing_extensions-4.13.1-py3-none-any.whl.metadata\n  Downloading typing_extensions-4.13.1-py3-none-any.whl.metadata (3.0 kB)\nRequirement already satisfied: idna>=2.8 in /databricks/python3/lib/python3.11/site-packages (from anyio<5,>=3.5.0->openai==1.55.3) (3.4)\nRequirement already satisfied: certifi in /databricks/python3/lib/python3.11/site-packages (from httpx<1,>=0.23.0->openai==1.55.3) (2023.7.22)\nCollecting httpcore==1.* (from httpx<1,>=0.23.0->openai==1.55.3)\n  Obtaining dependency information for httpcore==1.* from https://files.pythonhosted.org/packages/87/f5/72347bc88306acb359581ac4d52f23c0ef445b57157adedb9aee0cd689d2/httpcore-1.0.7-py3-none-any.whl.metadata\n  Downloading httpcore-1.0.7-py3-none-any.whl.metadata (21 kB)\nCollecting h11<0.15,>=0.13 (from httpcore==1.*->httpx<1,>=0.23.0->openai==1.55.3)\n  Obtaining dependency information for h11<0.15,>=0.13 from https://files.pythonhosted.org/packages/95/04/ff642e65ad6b90db43e668d70ffb6736436c7ce41fcc549f4e9472234127/h11-0.14.0-py3-none-any.whl.metadata\n  Downloading h11-0.14.0-py3-none-any.whl.metadata (8.2 kB)\nDownloading openai-1.55.3-py3-none-any.whl (389 kB)\n\u001B[?25l   \u001B[90m━━━━━━━━━━━━━━━━━━━━━━━━━━━━━━━━━━━━━━━━\u001B[0m \u001B[32m0.0/389.6 kB\u001B[0m \u001B[31m?\u001B[0m eta \u001B[36m-:--:--\u001B[0m\n\u001B[2K   \u001B[91m━━━━━━━━━━━━━━━━━━━━━━━━━━━━━━━━━━━━━━━\u001B[0m\u001B[91m╸\u001B[0m \u001B[32m389.1/389.6 kB\u001B[0m \u001B[31m15.2 MB/s\u001B[0m eta \u001B[36m0:00:01\u001B[0m\n\u001B[2K   \u001B[90m━━━━━━━━━━━━━━━━━━━━━━━━━━━━━━━━━━━━━━━━\u001B[0m \u001B[32m389.6/389.6 kB\u001B[0m \u001B[31m8.4 MB/s\u001B[0m eta \u001B[36m0:00:00\u001B[0m\n\u001B[?25hDownloading anyio-4.9.0-py3-none-any.whl (100 kB)\n\u001B[?25l   \u001B[90m━━━━━━━━━━━━━━━━━━━━━━━━━━━━━━━━━━━━━━━━\u001B[0m \u001B[32m0.0/100.9 kB\u001B[0m \u001B[31m?\u001B[0m eta \u001B[36m-:--:--\u001B[0m\n\u001B[2K   \u001B[90m━━━━━━━━━━━━━━━━━━━━━━━━━━━━━━━━━━━━━━━━\u001B[0m \u001B[32m100.9/100.9 kB\u001B[0m \u001B[31m12.6 MB/s\u001B[0m eta \u001B[36m0:00:00\u001B[0m\n\u001B[?25hDownloading httpx-0.28.1-py3-none-any.whl (73 kB)\n\u001B[?25l   \u001B[90m━━━━━━━━━━━━━━━━━━━━━━━━━━━━━━━━━━━━━━━━\u001B[0m \u001B[32m0.0/73.5 kB\u001B[0m \u001B[31m?\u001B[0m eta \u001B[36m-:--:--\u001B[0m\n\u001B[2K   \u001B[90m━━━━━━━━━━━━━━━━━━━━━━━━━━━━━━━━━━━━━━━━\u001B[0m \u001B[32m73.5/73.5 kB\u001B[0m \u001B[31m7.0 MB/s\u001B[0m eta \u001B[36m0:00:00\u001B[0m\n\u001B[?25hDownloading httpcore-1.0.7-py3-none-any.whl (78 kB)\n\u001B[?25l   \u001B[90m━━━━━━━━━━━━━━━━━━━━━━━━━━━━━━━━━━━━━━━━\u001B[0m \u001B[32m0.0/78.6 kB\u001B[0m \u001B[31m?\u001B[0m eta \u001B[36m-:--:--\u001B[0m\n\u001B[2K   \u001B[90m━━━━━━━━━━━━━━━━━━━━━━━━━━━━━━━━━━━━━━━━\u001B[0m \u001B[32m78.6/78.6 kB\u001B[0m \u001B[31m10.1 MB/s\u001B[0m eta \u001B[36m0:00:00\u001B[0m\n\u001B[?25hDownloading jiter-0.9.0-cp311-cp311-manylinux_2_17_x86_64.manylinux2014_x86_64.whl (351 kB)\n\u001B[?25l   \u001B[90m━━━━━━━━━━━━━━━━━━━━━━━━━━━━━━━━━━━━━━━━\u001B[0m \u001B[32m0.0/351.8 kB\u001B[0m \u001B[31m?\u001B[0m eta \u001B[36m-:--:--\u001B[0m\n\u001B[2K   \u001B[90m━━━━━━━━━━━━━━━━━━━━━━━━━━━━━━━━━━━━━━━━\u001B[0m \u001B[32m351.8/351.8 kB\u001B[0m \u001B[31m41.5 MB/s\u001B[0m eta \u001B[36m0:00:00\u001B[0m\n\u001B[?25hDownloading sniffio-1.3.1-py3-none-any.whl (10 kB)\nDownloading typing_extensions-4.13.1-py3-none-any.whl (45 kB)\n\u001B[?25l   \u001B[90m━━━━━━━━━━━━━━━━━━━━━━━━━━━━━━━━━━━━━━━━\u001B[0m \u001B[32m0.0/45.7 kB\u001B[0m \u001B[31m?\u001B[0m eta \u001B[36m-:--:--\u001B[0m\n\u001B[2K   \u001B[90m━━━━━━━━━━━━━━━━━━━━━━━━━━━━━━━━━━━━━━━━\u001B[0m \u001B[32m45.7/45.7 kB\u001B[0m \u001B[31m3.5 MB/s\u001B[0m eta \u001B[36m0:00:00\u001B[0m\n\u001B[?25hDownloading h11-0.14.0-py3-none-any.whl (58 kB)\n\u001B[?25l   \u001B[90m━━━━━━━━━━━━━━━━━━━━━━━━━━━━━━━━━━━━━━━━\u001B[0m \u001B[32m0.0/58.3 kB\u001B[0m \u001B[31m?\u001B[0m eta \u001B[36m-:--:--\u001B[0m\n\u001B[2K   \u001B[90m━━━━━━━━━━━━━━━━━━━━━━━━━━━━━━━━━━━━━━━━\u001B[0m \u001B[32m58.3/58.3 kB\u001B[0m \u001B[31m8.5 MB/s\u001B[0m eta \u001B[36m0:00:00\u001B[0m\n\u001B[?25hInstalling collected packages: typing-extensions, sniffio, jiter, h11, httpcore, anyio, httpx, openai\n  Attempting uninstall: typing-extensions\n    Found existing installation: typing_extensions 4.10.0\n    Not uninstalling typing-extensions at /databricks/python3/lib/python3.11/site-packages, outside environment /local_disk0/.ephemeral_nfs/envs/pythonEnv-c00cff7a-c6fb-4996-8850-1a79bada09cc\n    Can't uninstall 'typing_extensions'. No files were found to uninstall.\nSuccessfully installed anyio-4.9.0 h11-0.14.0 httpcore-1.0.7 httpx-0.28.1 jiter-0.9.0 openai-1.55.3 sniffio-1.3.1 typing-extensions-4.13.1\n\u001B[43mNote: you may need to restart the kernel using %restart_python or dbutils.library.restartPython() to use updated packages.\u001B[0m\n"
     ]
    }
   ],
   "source": [
    "!pip install openai==1.55.3"
   ]
  },
  {
   "cell_type": "code",
   "execution_count": 0,
   "metadata": {
    "application/vnd.databricks.v1+cell": {
     "cellMetadata": {
      "byteLimit": 2048000,
      "rowLimit": 10000
     },
     "inputWidgets": {},
     "nuid": "c5bc4275-082e-4881-9337-a5decc558e98",
     "showTitle": false,
     "tableResultSettingsMap": {},
     "title": ""
    },
    "id": "2nQMKZ8znVLW"
   },
   "outputs": [],
   "source": [
    "import asyncio\n"
   ]
  },
  {
   "cell_type": "code",
   "execution_count": 0,
   "metadata": {
    "application/vnd.databricks.v1+cell": {
     "cellMetadata": {
      "byteLimit": 2048000,
      "rowLimit": 10000
     },
     "inputWidgets": {},
     "nuid": "6cf3a869-7734-4d17-9dc4-b2163e7aa1e5",
     "showTitle": false,
     "tableResultSettingsMap": {},
     "title": ""
    }
   },
   "outputs": [],
   "source": [
    "from openai import AsyncAzureOpenAI"
   ]
  },
  {
   "cell_type": "code",
   "execution_count": 0,
   "metadata": {
    "application/vnd.databricks.v1+cell": {
     "cellMetadata": {
      "byteLimit": 2048000,
      "rowLimit": 10000
     },
     "inputWidgets": {},
     "nuid": "06dcde4a-492d-4aca-a9a6-539470494ab7",
     "showTitle": false,
     "tableResultSettingsMap": {},
     "title": ""
    },
    "id": "BmPGJhzpmZOP"
   },
   "outputs": [],
   "source": [
    "\n",
    "\n",
    "# Set to True to print the full response from OpenAI for each call\n",
    "printFullResponse = False\n",
    "\n",
    "async def main():\n",
    "  try:\n",
    "        # Get configuration settings\n",
    "        # Configuration settings\n",
    "        azure_oai_endpoint =\"https://pikachu.openai.azure.com/\"\n",
    "        azure_oai_key =\"hJz10tU5nntfETdVUTY4cjxaT5gmvcJDQDyGRj55mbMpOKnUh3JIJQQJ99BDAC5T7U2XJ3w3AAABACOGAFnR\"\n",
    "        azure_oai_deployment =\"mygptmodel\"\n",
    "\n",
    "        # Configure the Azure OpenAI client\n",
    "        client = AsyncAzureOpenAI(\n",
    "            azure_endpoint = azure_oai_endpoint,\n",
    "            api_key=azure_oai_key,\n",
    "            api_version=\"2024-02-15-preview\"\n",
    "        )\n",
    "\n",
    "        while True:\n",
    "            print('\\n1: Add comments to my function\\n' +\n",
    "                  '2: Write unit tests for my function\\n' +\n",
    "                  '3: Fix my Go Fish game\\n' +\n",
    "                  '\"quit\" to exit the program\\n')\n",
    "            command = input('Enter a number to select a task:')\n",
    "\n",
    "            if command.lower() == 'quit':\n",
    "                print('Exiting program...')\n",
    "                break\n",
    "\n",
    "            user_input = input('\\nEnter a prompt: ')\n",
    "            if command == '1' or command == '2':\n",
    "                file = open(file=\"function.py\", encoding=\"utf8\").read()\n",
    "            elif command == '3':\n",
    "                file = open(file=\"go-fish.py\", encoding=\"utf8\").read()\n",
    "            else :\n",
    "                print(\"Invalid input. Please try again.\")\n",
    "                continue\n",
    "\n",
    "            prompt = user_input + file\n",
    "            await call_openai_model(prompt, model=azure_oai_deployment, client=client)\n",
    "\n",
    "  except Exception as ex:\n",
    "        print(ex)\n",
    "\n",
    "\n"
   ]
  },
  {
   "cell_type": "code",
   "execution_count": 0,
   "metadata": {
    "application/vnd.databricks.v1+cell": {
     "cellMetadata": {
      "byteLimit": 2048000,
      "rowLimit": 10000
     },
     "inputWidgets": {},
     "nuid": "c6fe9050-d5d3-49eb-b4d9-1854a5056b0c",
     "showTitle": false,
     "tableResultSettingsMap": {},
     "title": ""
    },
    "id": "t-DWkZ0ImvrZ"
   },
   "outputs": [],
   "source": [
    "async def call_openai_model(prompt, model, client):\n",
    "    # Provide a basic user message, and use the prompt content as the user message\n",
    "    system_message = \"You are a helpful AI assistant that helps programmers write code.\"\n",
    "    user_message = prompt\n",
    "\n",
    "    # Format and send the request to the model\n",
    "    messages =[\n",
    "        {\"role\": \"system\", \"content\": system_message},\n",
    "        {\"role\": \"user\", \"content\": user_message},\n",
    "    ]\n",
    "\n",
    "    # Call the Azure OpenAI model\n",
    "    response = await client.chat.completions.create(\n",
    "        model=model,\n",
    "        messages=messages,\n",
    "        temperature=0.7,\n",
    "        max_tokens=1000\n",
    "    )\n",
    "\n",
    "    # Print the response to the console, if desired\n",
    "    if printFullResponse:\n",
    "        print(response)\n",
    "\n",
    "    # Write the response to a file\n",
    "    results_file = open(file=\"app.txt\", mode=\"w\", encoding=\"utf8\")\n",
    "    results_file.write(response.choices[0].message.content)\n",
    "    print(\"\\nResponse written to result/app.txt\\n\\n\")\n"
   ]
  },
  {
   "cell_type": "code",
   "execution_count": 0,
   "metadata": {
    "application/vnd.databricks.v1+cell": {
     "cellMetadata": {
      "byteLimit": 2048000,
      "rowLimit": 10000
     },
     "inputWidgets": {},
     "nuid": "9d5bac9d-ae87-42ad-a79e-c9608c978930",
     "showTitle": false,
     "tableResultSettingsMap": {},
     "title": ""
    },
    "id": "tDoRyK1Am3In"
   },
   "outputs": [],
   "source": [
    "# Run the main function in the event loop\n",
    "await main()"
   ]
  },
  {
   "cell_type": "code",
   "execution_count": 0,
   "metadata": {
    "application/vnd.databricks.v1+cell": {
     "cellMetadata": {
      "byteLimit": 2048000,
      "rowLimit": 10000
     },
     "inputWidgets": {},
     "nuid": "9b193077-c7f8-4c8d-b960-0ed4d4932bb6",
     "showTitle": false,
     "tableResultSettingsMap": {},
     "title": ""
    },
    "id": "vJGBuL6Rrds9"
   },
   "outputs": [],
   "source": []
  }
 ],
 "metadata": {
  "application/vnd.databricks.v1+notebook": {
   "computePreferences": null,
   "dashboards": [],
   "environmentMetadata": null,
   "inputWidgetPreferences": null,
   "language": "python",
   "notebookMetadata": {
    "pythonIndentUnit": 2
   },
   "notebookName": "06_code_generation_OpenAI (1)",
   "widgets": {}
  },
  "colab": {
   "provenance": []
  },
  "kernelspec": {
   "display_name": "Python 3",
   "language": "python",
   "name": "python3"
  },
  "language_info": {
   "name": "python"
  }
 },
 "nbformat": 4,
 "nbformat_minor": 0
}