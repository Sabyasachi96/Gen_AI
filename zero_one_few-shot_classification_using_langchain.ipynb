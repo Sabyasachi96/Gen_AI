{
 "cells": [
  {
   "cell_type": "code",
   "execution_count": 0,
   "metadata": {
    "application/vnd.databricks.v1+cell": {
     "cellMetadata": {
      "byteLimit": 2048000,
      "rowLimit": 10000
     },
     "collapsed": true,
     "inputWidgets": {},
     "nuid": "d18a5637-1067-4ff8-a76d-ce949da9c295",
     "showTitle": false,
     "tableResultSettingsMap": {},
     "title": ""
    }
   },
   "outputs": [
    {
     "output_type": "stream",
     "name": "stdout",
     "output_type": "stream",
     "text": [
      "Collecting databricks-langchain\n  Downloading databricks_langchain-0.4.2-py3-none-any.whl.metadata (2.7 kB)\nCollecting langchain-community\n  Downloading langchain_community-0.3.21-py3-none-any.whl.metadata (2.4 kB)\nRequirement already satisfied: langchain in /local_disk0/.ephemeral_nfs/envs/pythonEnv-eda351e5-7edf-4c6c-ab3c-e12cd70ad42f/lib/python3.11/site-packages (0.3.23)\nCollecting databricks-sql-connector\n  Downloading databricks_sql_connector-4.0.2-py3-none-any.whl.metadata (5.0 kB)\nCollecting databricks-ai-bridge>=0.4.0 (from databricks-langchain)\n  Downloading databricks_ai_bridge-0.4.1-py3-none-any.whl.metadata (6.1 kB)\nCollecting databricks-connect>=16.1.1 (from databricks-langchain)\n  Downloading databricks_connect-16.1.3-py2.py3-none-any.whl.metadata (2.6 kB)\nCollecting databricks-vectorsearch>=0.50 (from databricks-langchain)\n  Downloading databricks_vectorsearch-0.55-py3-none-any.whl.metadata (2.8 kB)\nCollecting mlflow>=2.20.1 (from databricks-langchain)\n  Downloading mlflow-2.21.3-py3-none-any.whl.metadata (30 kB)\nRequirement already satisfied: pydantic>2.10.0 in /local_disk0/.ephemeral_nfs/envs/pythonEnv-eda351e5-7edf-4c6c-ab3c-e12cd70ad42f/lib/python3.11/site-packages (from databricks-langchain) (2.11.3)\nCollecting unitycatalog-langchain>=0.2.0 (from unitycatalog-langchain[databricks]>=0.2.0->databricks-langchain)\n  Downloading unitycatalog_langchain-0.2.0-py3-none-any.whl.metadata (6.5 kB)\nRequirement already satisfied: langchain-core<1.0.0,>=0.3.51 in /local_disk0/.ephemeral_nfs/envs/pythonEnv-eda351e5-7edf-4c6c-ab3c-e12cd70ad42f/lib/python3.11/site-packages (from langchain-community) (0.3.52)\nRequirement already satisfied: SQLAlchemy<3,>=1.4 in /local_disk0/.ephemeral_nfs/envs/pythonEnv-eda351e5-7edf-4c6c-ab3c-e12cd70ad42f/lib/python3.11/site-packages (from langchain-community) (2.0.40)\nRequirement already satisfied: requests<3,>=2 in /databricks/python3/lib/python3.11/site-packages (from langchain-community) (2.31.0)\nRequirement already satisfied: PyYAML>=5.3 in /databricks/python3/lib/python3.11/site-packages (from langchain-community) (6.0)\nCollecting aiohttp<4.0.0,>=3.8.3 (from langchain-community)\n  Downloading aiohttp-3.11.16-cp311-cp311-manylinux_2_17_x86_64.manylinux2014_x86_64.whl.metadata (7.7 kB)\nRequirement already satisfied: tenacity!=8.4.0,<10,>=8.1.0 in /databricks/python3/lib/python3.11/site-packages (from langchain-community) (8.2.2)\nCollecting dataclasses-json<0.7,>=0.5.7 (from langchain-community)\n  Downloading dataclasses_json-0.6.7-py3-none-any.whl.metadata (25 kB)\nCollecting pydantic-settings<3.0.0,>=2.4.0 (from langchain-community)\n  Downloading pydantic_settings-2.8.1-py3-none-any.whl.metadata (3.5 kB)\nRequirement already satisfied: langsmith<0.4,>=0.1.125 in /local_disk0/.ephemeral_nfs/envs/pythonEnv-eda351e5-7edf-4c6c-ab3c-e12cd70ad42f/lib/python3.11/site-packages (from langchain-community) (0.3.31)\nCollecting httpx-sse<1.0.0,>=0.4.0 (from langchain-community)\n  Downloading httpx_sse-0.4.0-py3-none-any.whl.metadata (9.0 kB)\nCollecting numpy<3,>=1.26.2 (from langchain-community)\n  Downloading numpy-2.2.4-cp311-cp311-manylinux_2_17_x86_64.manylinux2014_x86_64.whl.metadata (62 kB)\nRequirement already satisfied: langchain-text-splitters<1.0.0,>=0.3.8 in /local_disk0/.ephemeral_nfs/envs/pythonEnv-eda351e5-7edf-4c6c-ab3c-e12cd70ad42f/lib/python3.11/site-packages (from langchain) (0.3.8)\nCollecting lz4<5.0.0,>=4.0.2 (from databricks-sql-connector)\n  Downloading lz4-4.4.4-cp311-cp311-manylinux_2_17_x86_64.manylinux2014_x86_64.whl.metadata (3.8 kB)\nRequirement already satisfied: oauthlib<4.0.0,>=3.1.0 in /usr/lib/python3/dist-packages (from databricks-sql-connector) (3.2.0)\nCollecting openpyxl<4.0.0,>=3.0.10 (from databricks-sql-connector)\n  Downloading openpyxl-3.1.5-py2.py3-none-any.whl.metadata (2.5 kB)\nRequirement already satisfied: pandas<2.3.0,>=1.2.5 in /databricks/python3/lib/python3.11/site-packages (from databricks-sql-connector) (1.5.3)\nRequirement already satisfied: python-dateutil<3.0.0,>=2.8.0 in /databricks/python3/lib/python3.11/site-packages (from databricks-sql-connector) (2.8.2)\nCollecting thrift<0.21.0,>=0.16.0 (from databricks-sql-connector)\n  Downloading thrift-0.20.0.tar.gz (62 kB)\n  Preparing metadata (setup.py): started\n  Preparing metadata (setup.py): finished with status 'done'\nRequirement already satisfied: urllib3>=1.26 in /databricks/python3/lib/python3.11/site-packages (from databricks-sql-connector) (1.26.16)\nCollecting aiohappyeyeballs>=2.3.0 (from aiohttp<4.0.0,>=3.8.3->langchain-community)\n  Downloading aiohappyeyeballs-2.6.1-py3-none-any.whl.metadata (5.9 kB)\nCollecting aiosignal>=1.1.2 (from aiohttp<4.0.0,>=3.8.3->langchain-community)\n  Downloading aiosignal-1.3.2-py2.py3-none-any.whl.metadata (3.8 kB)\nCollecting attrs>=17.3.0 (from aiohttp<4.0.0,>=3.8.3->langchain-community)\n  Downloading attrs-25.3.0-py3-none-any.whl.metadata (10 kB)\nCollecting frozenlist>=1.1.1 (from aiohttp<4.0.0,>=3.8.3->langchain-community)\n  Downloading frozenlist-1.5.0-cp311-cp311-manylinux_2_5_x86_64.manylinux1_x86_64.manylinux_2_17_x86_64.manylinux2014_x86_64.whl.metadata (13 kB)\nCollecting multidict<7.0,>=4.5 (from aiohttp<4.0.0,>=3.8.3->langchain-community)\n  Downloading multidict-6.4.3-cp311-cp311-manylinux_2_17_x86_64.manylinux2014_x86_64.whl.metadata (5.3 kB)\nCollecting propcache>=0.2.0 (from aiohttp<4.0.0,>=3.8.3->langchain-community)\n  Downloading propcache-0.3.1-cp311-cp311-manylinux_2_17_x86_64.manylinux2014_x86_64.whl.metadata (10 kB)\nCollecting yarl<2.0,>=1.17.0 (from aiohttp<4.0.0,>=3.8.3->langchain-community)\n  Downloading yarl-1.20.0-cp311-cp311-manylinux_2_17_x86_64.manylinux2014_x86_64.whl.metadata (72 kB)\nCollecting databricks-sdk>=0.44.1 (from databricks-ai-bridge>=0.4.0->databricks-langchain)\n  Downloading databricks_sdk-0.50.0-py3-none-any.whl.metadata (38 kB)\nCollecting mlflow-skinny>=2.19.0 (from databricks-ai-bridge>=0.4.0->databricks-langchain)\n  Downloading mlflow_skinny-2.21.3-py3-none-any.whl.metadata (31 kB)\nCollecting tabulate>=0.9.0 (from databricks-ai-bridge>=0.4.0->databricks-langchain)\n  Downloading tabulate-0.9.0-py3-none-any.whl.metadata (34 kB)\nCollecting tiktoken>=0.8.0 (from databricks-ai-bridge>=0.4.0->databricks-langchain)\n  Downloading tiktoken-0.9.0-cp311-cp311-manylinux_2_17_x86_64.manylinux2014_x86_64.whl.metadata (6.7 kB)\nRequirement already satisfied: typing-extensions in /local_disk0/.ephemeral_nfs/envs/pythonEnv-eda351e5-7edf-4c6c-ab3c-e12cd70ad42f/lib/python3.11/site-packages (from databricks-ai-bridge>=0.4.0->databricks-langchain) (4.13.2)\nRequirement already satisfied: googleapis-common-protos>=1.56.4 in /databricks/python3/lib/python3.11/site-packages (from databricks-connect>=16.1.1->databricks-langchain) (1.65.0)\nRequirement already satisfied: grpcio-status>=1.59.3 in /databricks/python3/lib/python3.11/site-packages (from databricks-connect>=16.1.1->databricks-langchain) (1.69.0)\nRequirement already satisfied: grpcio>=1.59.3 in /databricks/python3/lib/python3.11/site-packages (from databricks-connect>=16.1.1->databricks-langchain) (1.69.0)\nCollecting numpy<3,>=1.26.2 (from langchain-community)\n  Downloading numpy-1.26.4-cp311-cp311-manylinux_2_17_x86_64.manylinux2014_x86_64.whl.metadata (61 kB)\nRequirement already satisfied: packaging>=23.2 in /databricks/python3/lib/python3.11/site-packages (from databricks-connect>=16.1.1->databricks-langchain) (23.2)\nRequirement already satisfied: py4j==0.10.9.7 in /databricks/python3/lib/python3.11/site-packages (from databricks-connect>=16.1.1->databricks-langchain) (0.10.9.7)\nRequirement already satisfied: pyarrow>=4.0.0 in /databricks/python3/lib/python3.11/site-packages (from databricks-connect>=16.1.1->databricks-langchain) (14.0.1)\nRequirement already satisfied: setuptools>=68.0.0 in /databricks/python3/lib/python3.11/site-packages (from databricks-connect>=16.1.1->databricks-langchain) (75.1.0)\nRequirement already satisfied: six in /usr/lib/python3/dist-packages (from databricks-connect>=16.1.1->databricks-langchain) (1.16.0)\nRequirement already satisfied: protobuf<6,>=3.12.0 in /databricks/python3/lib/python3.11/site-packages (from databricks-vectorsearch>=0.50->databricks-langchain) (5.29.3)\nCollecting deprecation>=2 (from databricks-vectorsearch>=0.50->databricks-langchain)\n  Downloading deprecation-2.1.0-py2.py3-none-any.whl.metadata (4.6 kB)\nCollecting marshmallow<4.0.0,>=3.18.0 (from dataclasses-json<0.7,>=0.5.7->langchain-community)\n  Downloading marshmallow-3.26.1-py3-none-any.whl.metadata (7.3 kB)\nCollecting typing-inspect<1,>=0.4.0 (from dataclasses-json<0.7,>=0.5.7->langchain-community)\n  Downloading typing_inspect-0.9.0-py3-none-any.whl.metadata (1.5 kB)\nRequirement already satisfied: jsonpatch<2.0,>=1.33 in /local_disk0/.ephemeral_nfs/envs/pythonEnv-eda351e5-7edf-4c6c-ab3c-e12cd70ad42f/lib/python3.11/site-packages (from langchain-core<1.0.0,>=0.3.51->langchain-community) (1.33)\nRequirement already satisfied: httpx<1,>=0.23.0 in /local_disk0/.ephemeral_nfs/envs/pythonEnv-eda351e5-7edf-4c6c-ab3c-e12cd70ad42f/lib/python3.11/site-packages (from langsmith<0.4,>=0.1.125->langchain-community) (0.28.1)\nRequirement already satisfied: orjson<4.0.0,>=3.9.14 in /local_disk0/.ephemeral_nfs/envs/pythonEnv-eda351e5-7edf-4c6c-ab3c-e12cd70ad42f/lib/python3.11/site-packages (from langsmith<0.4,>=0.1.125->langchain-community) (3.10.16)\nRequirement already satisfied: requests-toolbelt<2.0.0,>=1.0.0 in /local_disk0/.ephemeral_nfs/envs/pythonEnv-eda351e5-7edf-4c6c-ab3c-e12cd70ad42f/lib/python3.11/site-packages (from langsmith<0.4,>=0.1.125->langchain-community) (1.0.0)\nRequirement already satisfied: zstandard<0.24.0,>=0.23.0 in /databricks/python3/lib/python3.11/site-packages (from langsmith<0.4,>=0.1.125->langchain-community) (0.23.0)\nCollecting Flask<4 (from mlflow>=2.20.1->databricks-langchain)\n  Downloading flask-3.1.0-py3-none-any.whl.metadata (2.7 kB)\nCollecting Jinja2<4,>=2.11 (from mlflow>=2.20.1->databricks-langchain)\n  Downloading jinja2-3.1.6-py3-none-any.whl.metadata (2.9 kB)\nCollecting alembic!=1.10.0,<2 (from mlflow>=2.20.1->databricks-langchain)\n  Downloading alembic-1.15.2-py3-none-any.whl.metadata (7.3 kB)\nCollecting docker<8,>=4.0.0 (from mlflow>=2.20.1->databricks-langchain)\n  Downloading docker-7.1.0-py3-none-any.whl.metadata (3.8 kB)\nCollecting graphene<4 (from mlflow>=2.20.1->databricks-langchain)\n  Downloading graphene-3.4.3-py2.py3-none-any.whl.metadata (6.9 kB)\nCollecting gunicorn<24 (from mlflow>=2.20.1->databricks-langchain)\n  Downloading gunicorn-23.0.0-py3-none-any.whl.metadata (4.4 kB)\nCollecting markdown<4,>=3.3 (from mlflow>=2.20.1->databricks-langchain)\n  Downloading markdown-3.8-py3-none-any.whl.metadata (5.1 kB)\nRequirement already satisfied: matplotlib<4 in /databricks/python3/lib/python3.11/site-packages (from mlflow>=2.20.1->databricks-langchain) (3.7.2)\nRequirement already satisfied: scikit-learn<2 in /databricks/python3/lib/python3.11/site-packages (from mlflow>=2.20.1->databricks-langchain) (1.3.0)\nRequirement already satisfied: scipy<2 in /databricks/python3/lib/python3.11/site-packages (from mlflow>=2.20.1->databricks-langchain) (1.11.1)\nRequirement already satisfied: cachetools<6,>=5.0.0 in /databricks/python3/lib/python3.11/site-packages (from mlflow-skinny>=2.19.0->databricks-ai-bridge>=0.4.0->databricks-langchain) (5.5.0)\nRequirement already satisfied: click<9,>=7.0 in /databricks/python3/lib/python3.11/site-packages (from mlflow-skinny>=2.19.0->databricks-ai-bridge>=0.4.0->databricks-langchain) (8.0.4)\nRequirement already satisfied: cloudpickle<4 in /databricks/python3/lib/python3.11/site-packages (from mlflow-skinny>=2.19.0->databricks-ai-bridge>=0.4.0->databricks-langchain) (3.0.0)\nCollecting fastapi<1 (from mlflow-skinny>=2.19.0->databricks-ai-bridge>=0.4.0->databricks-langchain)\n  Downloading fastapi-0.115.12-py3-none-any.whl.metadata (27 kB)\nRequirement already satisfied: gitpython<4,>=3.1.9 in /databricks/python3/lib/python3.11/site-packages (from mlflow-skinny>=2.19.0->databricks-ai-bridge>=0.4.0->databricks-langchain) (3.1.43)\nRequirement already satisfied: importlib_metadata!=4.7.0,<9,>=3.7.0 in /databricks/python3/lib/python3.11/site-packages (from mlflow-skinny>=2.19.0->databricks-ai-bridge>=0.4.0->databricks-langchain) (6.0.0)\nCollecting opentelemetry-api<3,>=1.9.0 (from mlflow-skinny>=2.19.0->databricks-ai-bridge>=0.4.0->databricks-langchain)\n  Downloading opentelemetry_api-1.32.1-py3-none-any.whl.metadata (1.6 kB)\nCollecting opentelemetry-sdk<3,>=1.9.0 (from mlflow-skinny>=2.19.0->databricks-ai-bridge>=0.4.0->databricks-langchain)\n  Downloading opentelemetry_sdk-1.32.1-py3-none-any.whl.metadata (1.6 kB)\nRequirement already satisfied: sqlparse<1,>=0.4.0 in /databricks/python3/lib/python3.11/site-packages (from mlflow-skinny>=2.19.0->databricks-ai-bridge>=0.4.0->databricks-langchain) (0.5.1)\nCollecting uvicorn<1 (from mlflow-skinny>=2.19.0->databricks-ai-bridge>=0.4.0->databricks-langchain)\n  Downloading uvicorn-0.34.1-py3-none-any.whl.metadata (6.5 kB)\nCollecting et-xmlfile (from openpyxl<4.0.0,>=3.0.10->databricks-sql-connector)\n  Downloading et_xmlfile-2.0.0-py3-none-any.whl.metadata (2.7 kB)\nRequirement already satisfied: pytz>=2020.1 in /databricks/python3/lib/python3.11/site-packages (from pandas<2.3.0,>=1.2.5->databricks-sql-connector) (2022.7)\nRequirement already satisfied: annotated-types>=0.6.0 in /local_disk0/.ephemeral_nfs/envs/pythonEnv-eda351e5-7edf-4c6c-ab3c-e12cd70ad42f/lib/python3.11/site-packages (from pydantic>2.10.0->databricks-langchain) (0.7.0)\nRequirement already satisfied: pydantic-core==2.33.1 in /local_disk0/.ephemeral_nfs/envs/pythonEnv-eda351e5-7edf-4c6c-ab3c-e12cd70ad42f/lib/python3.11/site-packages (from pydantic>2.10.0->databricks-langchain) (2.33.1)\nRequirement already satisfied: typing-inspection>=0.4.0 in /local_disk0/.ephemeral_nfs/envs/pythonEnv-eda351e5-7edf-4c6c-ab3c-e12cd70ad42f/lib/python3.11/site-packages (from pydantic>2.10.0->databricks-langchain) (0.4.0)\nCollecting python-dotenv>=0.21.0 (from pydantic-settings<3.0.0,>=2.4.0->langchain-community)\n  Downloading python_dotenv-1.1.0-py3-none-any.whl.metadata (24 kB)\nRequirement already satisfied: charset-normalizer<4,>=2 in /databricks/python3/lib/python3.11/site-packages (from requests<3,>=2->langchain-community) (2.0.4)\nRequirement already satisfied: idna<4,>=2.5 in /databricks/python3/lib/python3.11/site-packages (from requests<3,>=2->langchain-community) (3.4)\nRequirement already satisfied: certifi>=2017.4.17 in /databricks/python3/lib/python3.11/site-packages (from requests<3,>=2->langchain-community) (2023.7.22)\nRequirement already satisfied: greenlet>=1 in /local_disk0/.ephemeral_nfs/envs/pythonEnv-eda351e5-7edf-4c6c-ab3c-e12cd70ad42f/lib/python3.11/site-packages (from SQLAlchemy<3,>=1.4->langchain-community) (3.2.0)\nCollecting unitycatalog-ai (from unitycatalog-langchain>=0.2.0->unitycatalog-langchain[databricks]>=0.2.0->databricks-langchain)\n  Downloading unitycatalog_ai-0.3.0-py3-none-any.whl.metadata (31 kB)\nCollecting Mako (from alembic!=1.10.0,<2->mlflow>=2.20.1->databricks-langchain)\n  Downloading mako-1.3.10-py3-none-any.whl.metadata (2.9 kB)\nRequirement already satisfied: google-auth~=2.0 in /databricks/python3/lib/python3.11/site-packages (from databricks-sdk>=0.44.1->databricks-ai-bridge>=0.4.0->databricks-langchain) (2.35.0)\nCollecting Werkzeug>=3.1 (from Flask<4->mlflow>=2.20.1->databricks-langchain)\n  Downloading werkzeug-3.1.3-py3-none-any.whl.metadata (3.7 kB)\nCollecting itsdangerous>=2.2 (from Flask<4->mlflow>=2.20.1->databricks-langchain)\n  Downloading itsdangerous-2.2.0-py3-none-any.whl.metadata (1.9 kB)\nCollecting click<9,>=7.0 (from mlflow-skinny>=2.19.0->databricks-ai-bridge>=0.4.0->databricks-langchain)\n  Downloading click-8.1.8-py3-none-any.whl.metadata (2.3 kB)\nCollecting blinker>=1.9 (from Flask<4->mlflow>=2.20.1->databricks-langchain)\n  Downloading blinker-1.9.0-py3-none-any.whl.metadata (1.6 kB)\nCollecting graphql-core<3.3,>=3.1 (from graphene<4->mlflow>=2.20.1->databricks-langchain)\n  Downloading graphql_core-3.2.6-py3-none-any.whl.metadata (11 kB)\nCollecting graphql-relay<3.3,>=3.1 (from graphene<4->mlflow>=2.20.1->databricks-langchain)\n  Downloading graphql_relay-3.2.0-py3-none-any.whl.metadata (12 kB)\nRequirement already satisfied: anyio in /local_disk0/.ephemeral_nfs/envs/pythonEnv-eda351e5-7edf-4c6c-ab3c-e12cd70ad42f/lib/python3.11/site-packages (from httpx<1,>=0.23.0->langsmith<0.4,>=0.1.125->langchain-community) (4.9.0)\nRequirement already satisfied: httpcore==1.* in /local_disk0/.ephemeral_nfs/envs/pythonEnv-eda351e5-7edf-4c6c-ab3c-e12cd70ad42f/lib/python3.11/site-packages (from httpx<1,>=0.23.0->langsmith<0.4,>=0.1.125->langchain-community) (1.0.8)\nRequirement already satisfied: h11<0.15,>=0.13 in /local_disk0/.ephemeral_nfs/envs/pythonEnv-eda351e5-7edf-4c6c-ab3c-e12cd70ad42f/lib/python3.11/site-packages (from httpcore==1.*->httpx<1,>=0.23.0->langsmith<0.4,>=0.1.125->langchain-community) (0.14.0)\nCollecting MarkupSafe>=2.0 (from Jinja2<4,>=2.11->mlflow>=2.20.1->databricks-langchain)\n  Downloading MarkupSafe-3.0.2-cp311-cp311-manylinux_2_17_x86_64.manylinux2014_x86_64.whl.metadata (4.0 kB)\nRequirement already satisfied: jsonpointer>=1.9 in /local_disk0/.ephemeral_nfs/envs/pythonEnv-eda351e5-7edf-4c6c-ab3c-e12cd70ad42f/lib/python3.11/site-packages (from jsonpatch<2.0,>=1.33->langchain-core<1.0.0,>=0.3.51->langchain-community) (3.0.0)\nRequirement already satisfied: contourpy>=1.0.1 in /databricks/python3/lib/python3.11/site-packages (from matplotlib<4->mlflow>=2.20.1->databricks-langchain) (1.0.5)\nRequirement already satisfied: cycler>=0.10 in /databricks/python3/lib/python3.11/site-packages (from matplotlib<4->mlflow>=2.20.1->databricks-langchain) (0.11.0)\nRequirement already satisfied: fonttools>=4.22.0 in /databricks/python3/lib/python3.11/site-packages (from matplotlib<4->mlflow>=2.20.1->databricks-langchain) (4.25.0)\nRequirement already satisfied: kiwisolver>=1.0.1 in /databricks/python3/lib/python3.11/site-packages (from matplotlib<4->mlflow>=2.20.1->databricks-langchain) (1.4.4)\nRequirement already satisfied: pillow>=6.2.0 in /databricks/python3/lib/python3.11/site-packages (from matplotlib<4->mlflow>=2.20.1->databricks-langchain) (10.3.0)\nRequirement already satisfied: pyparsing<3.1,>=2.3.1 in /databricks/python3/lib/python3.11/site-packages (from matplotlib<4->mlflow>=2.20.1->databricks-langchain) (3.0.9)\nRequirement already satisfied: joblib>=1.1.1 in /databricks/python3/lib/python3.11/site-packages (from scikit-learn<2->mlflow>=2.20.1->databricks-langchain) (1.2.0)\nRequirement already satisfied: threadpoolctl>=2.0.0 in /databricks/python3/lib/python3.11/site-packages (from scikit-learn<2->mlflow>=2.20.1->databricks-langchain) (2.2.0)\nCollecting regex>=2022.1.18 (from tiktoken>=0.8.0->databricks-ai-bridge>=0.4.0->databricks-langchain)\n  Downloading regex-2024.11.6-cp311-cp311-manylinux_2_17_x86_64.manylinux2014_x86_64.whl.metadata (40 kB)\nRequirement already satisfied: mypy-extensions>=0.3.0 in /databricks/python3/lib/python3.11/site-packages (from typing-inspect<1,>=0.4.0->dataclasses-json<0.7,>=0.5.7->langchain-community) (0.4.3)\nRequirement already satisfied: nest-asyncio in /databricks/python3/lib/python3.11/site-packages (from unitycatalog-ai->unitycatalog-langchain>=0.2.0->unitycatalog-langchain[databricks]>=0.2.0->databricks-langchain) (1.5.6)\nCollecting unitycatalog-client (from unitycatalog-ai->unitycatalog-langchain>=0.2.0->unitycatalog-langchain[databricks]>=0.2.0->databricks-langchain)\n  Downloading unitycatalog_client-0.2.1-py3-none-any.whl.metadata (7.8 kB)\nCollecting starlette<0.47.0,>=0.40.0 (from fastapi<1->mlflow-skinny>=2.19.0->databricks-ai-bridge>=0.4.0->databricks-langchain)\n  Downloading starlette-0.46.2-py3-none-any.whl.metadata (6.2 kB)\nRequirement already satisfied: gitdb<5,>=4.0.1 in /databricks/python3/lib/python3.11/site-packages (from gitpython<4,>=3.1.9->mlflow-skinny>=2.19.0->databricks-ai-bridge>=0.4.0->databricks-langchain) (4.0.11)\nRequirement already satisfied: pyasn1-modules>=0.2.1 in /databricks/python3/lib/python3.11/site-packages (from google-auth~=2.0->databricks-sdk>=0.44.1->databricks-ai-bridge>=0.4.0->databricks-langchain) (0.2.8)\nRequirement already satisfied: rsa<5,>=3.1.4 in /databricks/python3/lib/python3.11/site-packages (from google-auth~=2.0->databricks-sdk>=0.44.1->databricks-ai-bridge>=0.4.0->databricks-langchain) (4.9)\nRequirement already satisfied: zipp>=0.5 in /databricks/python3/lib/python3.11/site-packages (from importlib_metadata!=4.7.0,<9,>=3.7.0->mlflow-skinny>=2.19.0->databricks-ai-bridge>=0.4.0->databricks-langchain) (3.11.0)\nCollecting deprecated>=1.2.6 (from opentelemetry-api<3,>=1.9.0->mlflow-skinny>=2.19.0->databricks-ai-bridge>=0.4.0->databricks-langchain)\n  Downloading Deprecated-1.2.18-py2.py3-none-any.whl.metadata (5.7 kB)\nCollecting opentelemetry-semantic-conventions==0.53b1 (from opentelemetry-sdk<3,>=1.9.0->mlflow-skinny>=2.19.0->databricks-ai-bridge>=0.4.0->databricks-langchain)\n  Downloading opentelemetry_semantic_conventions-0.53b1-py3-none-any.whl.metadata (2.5 kB)\nRequirement already satisfied: sniffio>=1.1 in /local_disk0/.ephemeral_nfs/envs/pythonEnv-eda351e5-7edf-4c6c-ab3c-e12cd70ad42f/lib/python3.11/site-packages (from anyio->httpx<1,>=0.23.0->langsmith<0.4,>=0.1.125->langchain-community) (1.3.1)\nCollecting aiohttp-retry>=2.8.3 (from unitycatalog-client->unitycatalog-ai->unitycatalog-langchain>=0.2.0->unitycatalog-langchain[databricks]>=0.2.0->databricks-langchain)\n  Downloading aiohttp_retry-2.9.1-py3-none-any.whl.metadata (8.8 kB)\nCollecting wrapt<2,>=1.10 (from deprecated>=1.2.6->opentelemetry-api<3,>=1.9.0->mlflow-skinny>=2.19.0->databricks-ai-bridge>=0.4.0->databricks-langchain)\n  Downloading wrapt-1.17.2-cp311-cp311-manylinux_2_5_x86_64.manylinux1_x86_64.manylinux_2_17_x86_64.manylinux2014_x86_64.whl.metadata (6.4 kB)\nRequirement already satisfied: smmap<6,>=3.0.1 in /databricks/python3/lib/python3.11/site-packages (from gitdb<5,>=4.0.1->gitpython<4,>=3.1.9->mlflow-skinny>=2.19.0->databricks-ai-bridge>=0.4.0->databricks-langchain) (5.0.1)\nRequirement already satisfied: pyasn1<0.5.0,>=0.4.6 in /databricks/python3/lib/python3.11/site-packages (from pyasn1-modules>=0.2.1->google-auth~=2.0->databricks-sdk>=0.44.1->databricks-ai-bridge>=0.4.0->databricks-langchain) (0.4.8)\nDownloading databricks_langchain-0.4.2-py3-none-any.whl (21 kB)\nDownloading langchain_community-0.3.21-py3-none-any.whl (2.5 MB)\n\u001B[?25l   \u001B[90m━━━━━━━━━━━━━━━━━━━━━━━━━━━━━━━━━━━━━━━━\u001B[0m \u001B[32m0.0/2.5 MB\u001B[0m \u001B[31m?\u001B[0m eta \u001B[36m-:--:--\u001B[0m\n\u001B[2K   \u001B[90m━━━━━━━━━━━━━━━━━━━━━━━━━━━━━━━━━━━━━━━━\u001B[0m \u001B[32m2.5/2.5 MB\u001B[0m \u001B[31m65.8 MB/s\u001B[0m eta \u001B[36m0:00:00\u001B[0m\n\u001B[?25hDownloading databricks_sql_connector-4.0.2-py3-none-any.whl (325 kB)\nDownloading aiohttp-3.11.16-cp311-cp311-manylinux_2_17_x86_64.manylinux2014_x86_64.whl (1.7 MB)\n\u001B[?25l   \u001B[90m━━━━━━━━━━━━━━━━━━━━━━━━━━━━━━━━━━━━━━━━\u001B[0m \u001B[32m0.0/1.7 MB\u001B[0m \u001B[31m?\u001B[0m eta \u001B[36m-:--:--\u001B[0m\n\u001B[2K   \u001B[90m━━━━━━━━━━━━━━━━━━━━━━━━━━━━━━━━━━━━━━━━\u001B[0m \u001B[32m1.7/1.7 MB\u001B[0m \u001B[31m48.4 MB/s\u001B[0m eta \u001B[36m0:00:00\u001B[0m\n\u001B[?25hDownloading databricks_ai_bridge-0.4.1-py3-none-any.whl (13 kB)\nDownloading databricks_connect-16.1.3-py2.py3-none-any.whl (2.4 MB)\n\u001B[?25l   \u001B[90m━━━━━━━━━━━━━━━━━━━━━━━━━━━━━━━━━━━━━━━━\u001B[0m \u001B[32m0.0/2.4 MB\u001B[0m \u001B[31m?\u001B[0m eta \u001B[36m-:--:--\u001B[0m\n\u001B[2K   \u001B[90m━━━━━━━━━━━━━━━━━━━━━━━━━━━━━━━━━━━━━━━━\u001B[0m \u001B[32m2.4/2.4 MB\u001B[0m \u001B[31m80.2 MB/s\u001B[0m eta \u001B[36m0:00:00\u001B[0m\n\u001B[?25hDownloading databricks_vectorsearch-0.55-py3-none-any.whl (15 kB)\nDownloading dataclasses_json-0.6.7-py3-none-any.whl (28 kB)\nDownloading httpx_sse-0.4.0-py3-none-any.whl (7.8 kB)\nDownloading lz4-4.4.4-cp311-cp311-manylinux_2_17_x86_64.manylinux2014_x86_64.whl (1.3 MB)\n\u001B[?25l   \u001B[90m━━━━━━━━━━━━━━━━━━━━━━━━━━━━━━━━━━━━━━━━\u001B[0m \u001B[32m0.0/1.3 MB\u001B[0m \u001B[31m?\u001B[0m eta \u001B[36m-:--:--\u001B[0m\n\u001B[2K   \u001B[90m━━━━━━━━━━━━━━━━━━━━━━━━━━━━━━━━━━━━━━━━\u001B[0m \u001B[32m1.3/1.3 MB\u001B[0m \u001B[31m146.2 MB/s\u001B[0m eta \u001B[36m0:00:00\u001B[0m\n\u001B[?25hDownloading mlflow-2.21.3-py3-none-any.whl (28.2 MB)\n\u001B[?25l   \u001B[90m━━━━━━━━━━━━━━━━━━━━━━━━━━━━━━━━━━━━━━━━\u001B[0m \u001B[32m0.0/28.2 MB\u001B[0m \u001B[31m?\u001B[0m eta \u001B[36m-:--:--\u001B[0m\n\u001B[2K   \u001B[90m━━━━━━━━━━━━━━━━━━━━━━━━━━━━━━━━━━━━━━━━\u001B[0m \u001B[32m28.2/28.2 MB\u001B[0m \u001B[31m172.2 MB/s\u001B[0m eta \u001B[36m0:00:00\u001B[0m\n\u001B[?25hDownloading mlflow_skinny-2.21.3-py3-none-any.whl (6.1 MB)\n\u001B[?25l   \u001B[90m━━━━━━━━━━━━━━━━━━━━━━━━━━━━━━━━━━━━━━━━\u001B[0m \u001B[32m0.0/6.1 MB\u001B[0m \u001B[31m?\u001B[0m eta \u001B[36m-:--:--\u001B[0m\n\u001B[2K   \u001B[90m━━━━━━━━━━━━━━━━━━━━━━━━━━━━━━━━━━━━━━━━\u001B[0m \u001B[32m6.1/6.1 MB\u001B[0m \u001B[31m178.2 MB/s\u001B[0m eta \u001B[36m0:00:00\u001B[0m\n\u001B[?25hDownloading numpy-1.26.4-cp311-cp311-manylinux_2_17_x86_64.manylinux2014_x86_64.whl (18.3 MB)\n\u001B[?25l   \u001B[90m━━━━━━━━━━━━━━━━━━━━━━━━━━━━━━━━━━━━━━━━\u001B[0m \u001B[32m0.0/18.3 MB\u001B[0m \u001B[31m?\u001B[0m eta \u001B[36m-:--:--\u001B[0m\n\u001B[2K   \u001B[90m━━━━━━━━━━━━━━━━━━━━━━━━━━━━━━━━━━━━━━━━\u001B[0m \u001B[32m18.3/18.3 MB\u001B[0m \u001B[31m145.7 MB/s\u001B[0m eta \u001B[36m0:00:00\u001B[0m\n\u001B[?25hDownloading openpyxl-3.1.5-py2.py3-none-any.whl (250 kB)\nDownloading pydantic_settings-2.8.1-py3-none-any.whl (30 kB)\nDownloading unitycatalog_langchain-0.2.0-py3-none-any.whl (5.4 kB)\nDownloading aiohappyeyeballs-2.6.1-py3-none-any.whl (15 kB)\nDownloading aiosignal-1.3.2-py2.py3-none-any.whl (7.6 kB)\nDownloading alembic-1.15.2-py3-none-any.whl (231 kB)\nDownloading attrs-25.3.0-py3-none-any.whl (63 kB)\nDownloading databricks_sdk-0.50.0-py3-none-any.whl (692 kB)\n\u001B[?25l   \u001B[90m━━━━━━━━━━━━━━━━━━━━━━━━━━━━━━━━━━━━━━━━\u001B[0m \u001B[32m0.0/692.3 kB\u001B[0m \u001B[31m?\u001B[0m eta \u001B[36m-:--:--\u001B[0m\n\u001B[2K   \u001B[90m━━━━━━━━━━━━━━━━━━━━━━━━━━━━━━━━━━━━━━━\u001B[0m \u001B[32m692.3/692.3 kB\u001B[0m \u001B[31m115.0 MB/s\u001B[0m eta \u001B[36m0:00:00\u001B[0m\n\u001B[?25hDownloading deprecation-2.1.0-py2.py3-none-any.whl (11 kB)\nDownloading docker-7.1.0-py3-none-any.whl (147 kB)\nDownloading flask-3.1.0-py3-none-any.whl (102 kB)\nDownloading frozenlist-1.5.0-cp311-cp311-manylinux_2_5_x86_64.manylinux1_x86_64.manylinux_2_17_x86_64.manylinux2014_x86_64.whl (274 kB)\nDownloading graphene-3.4.3-py2.py3-none-any.whl (114 kB)\nDownloading gunicorn-23.0.0-py3-none-any.whl (85 kB)\nDownloading jinja2-3.1.6-py3-none-any.whl (134 kB)\nDownloading markdown-3.8-py3-none-any.whl (106 kB)\nDownloading marshmallow-3.26.1-py3-none-any.whl (50 kB)\nDownloading multidict-6.4.3-cp311-cp311-manylinux_2_17_x86_64.manylinux2014_x86_64.whl (223 kB)\nDownloading propcache-0.3.1-cp311-cp311-manylinux_2_17_x86_64.manylinux2014_x86_64.whl (232 kB)\nDownloading python_dotenv-1.1.0-py3-none-any.whl (20 kB)\nDownloading tabulate-0.9.0-py3-none-any.whl (35 kB)\nDownloading tiktoken-0.9.0-cp311-cp311-manylinux_2_17_x86_64.manylinux2014_x86_64.whl (1.2 MB)\n\u001B[?25l   \u001B[90m━━━━━━━━━━━━━━━━━━━━━━━━━━━━━━━━━━━━━━━━\u001B[0m \u001B[32m0.0/1.2 MB\u001B[0m \u001B[31m?\u001B[0m eta \u001B[36m-:--:--\u001B[0m\n\u001B[2K   \u001B[90m━━━━━━━━━━━━━━━━━━━━━━━━━━━━━━━━━━━━━━━━\u001B[0m \u001B[32m1.2/1.2 MB\u001B[0m \u001B[31m122.4 MB/s\u001B[0m eta \u001B[36m0:00:00\u001B[0m\n\u001B[?25hDownloading typing_inspect-0.9.0-py3-none-any.whl (8.8 kB)\nDownloading yarl-1.20.0-cp311-cp311-manylinux_2_17_x86_64.manylinux2014_x86_64.whl (358 kB)\nDownloading et_xmlfile-2.0.0-py3-none-any.whl (18 kB)\nDownloading unitycatalog_ai-0.3.0-py3-none-any.whl (65 kB)\nDownloading blinker-1.9.0-py3-none-any.whl (8.5 kB)\nDownloading click-8.1.8-py3-none-any.whl (98 kB)\nDownloading fastapi-0.115.12-py3-none-any.whl (95 kB)\nDownloading graphql_core-3.2.6-py3-none-any.whl (203 kB)\nDownloading graphql_relay-3.2.0-py3-none-any.whl (16 kB)\nDownloading itsdangerous-2.2.0-py3-none-any.whl (16 kB)\nDownloading MarkupSafe-3.0.2-cp311-cp311-manylinux_2_17_x86_64.manylinux2014_x86_64.whl (23 kB)\nDownloading opentelemetry_api-1.32.1-py3-none-any.whl (65 kB)\nDownloading opentelemetry_sdk-1.32.1-py3-none-any.whl (118 kB)\nDownloading opentelemetry_semantic_conventions-0.53b1-py3-none-any.whl (188 kB)\nDownloading regex-2024.11.6-cp311-cp311-manylinux_2_17_x86_64.manylinux2014_x86_64.whl (792 kB)\n\u001B[?25l   \u001B[90m━━━━━━━━━━━━━━━━━━━━━━━━━━━━━━━━━━━━━━━━\u001B[0m \u001B[32m0.0/792.7 kB\u001B[0m \u001B[31m?\u001B[0m eta \u001B[36m-:--:--\u001B[0m\n\u001B[2K   \u001B[90m━━━━━━━━━━━━━━━━━━━━━━━━━━━━━━━━━━━━━━━━\u001B[0m \u001B[32m792.7/792.7 kB\u001B[0m \u001B[31m35.0 MB/s\u001B[0m eta \u001B[36m0:00:00\u001B[0m\n\u001B[?25hDownloading uvicorn-0.34.1-py3-none-any.whl (62 kB)\nDownloading werkzeug-3.1.3-py3-none-any.whl (224 kB)\nDownloading mako-1.3.10-py3-none-any.whl (78 kB)\nDownloading unitycatalog_client-0.2.1-py3-none-any.whl (131 kB)\nDownloading aiohttp_retry-2.9.1-py3-none-any.whl (10.0 kB)\nDownloading Deprecated-1.2.18-py2.py3-none-any.whl (10.0 kB)\nDownloading starlette-0.46.2-py3-none-any.whl (72 kB)\nDownloading wrapt-1.17.2-cp311-cp311-manylinux_2_5_x86_64.manylinux1_x86_64.manylinux_2_17_x86_64.manylinux2014_x86_64.whl (83 kB)\nBuilding wheels for collected packages: thrift\n  Building wheel for thrift (setup.py): started\n  Building wheel for thrift (setup.py): finished with status 'done'\n  Created wheel for thrift: filename=thrift-0.20.0-cp311-cp311-linux_x86_64.whl size=420373 sha256=f96a0ad56d8f793db0193665ab6b5a0125bb0c0a13934358b838cdac5b588b47\n  Stored in directory: /home/spark-eda351e5-7edf-4c6c-ab3c-e1/.cache/pip/wheels/e2/bc/11/b3431cfbf4afeb954480926b2f46fdc56082b8b234d6d4208b\nSuccessfully built thrift\nInstalling collected packages: wrapt, typing-inspect, thrift, tabulate, regex, python-dotenv, propcache, numpy, multidict, marshmallow, MarkupSafe, markdown, lz4, itsdangerous, httpx-sse, gunicorn, graphql-core, frozenlist, et-xmlfile, deprecation, click, blinker, attrs, aiohappyeyeballs, yarl, Werkzeug, uvicorn, tiktoken, starlette, openpyxl, Mako, Jinja2, graphql-relay, docker, deprecated, dataclasses-json, aiosignal, pydantic-settings, opentelemetry-api, graphene, Flask, fastapi, databricks-sql-connector, databricks-sdk, alembic, aiohttp, opentelemetry-semantic-conventions, databricks-connect, aiohttp-retry, unitycatalog-client, opentelemetry-sdk, unitycatalog-ai, mlflow-skinny, mlflow, langchain-community, databricks-vectorsearch, databricks-ai-bridge, unitycatalog-langchain, databricks-langchain\n  Attempting uninstall: numpy\n    Found existing installation: numpy 1.23.5\n    Not uninstalling numpy at /databricks/python3/lib/python3.11/site-packages, outside environment /local_disk0/.ephemeral_nfs/envs/pythonEnv-eda351e5-7edf-4c6c-ab3c-e12cd70ad42f\n    Can't uninstall 'numpy'. No files were found to uninstall.\n  Attempting uninstall: click\n    Found existing installation: click 8.0.4\n    Not uninstalling click at /databricks/python3/lib/python3.11/site-packages, outside environment /local_disk0/.ephemeral_nfs/envs/pythonEnv-eda351e5-7edf-4c6c-ab3c-e12cd70ad42f\n    Can't uninstall 'click'. No files were found to uninstall.\n  Attempting uninstall: blinker\n    Found existing installation: blinker 1.4\n    Not uninstalling blinker at /usr/lib/python3/dist-packages, outside environment /local_disk0/.ephemeral_nfs/envs/pythonEnv-eda351e5-7edf-4c6c-ab3c-e12cd70ad42f\n    Can't uninstall 'blinker'. No files were found to uninstall.\n  Attempting uninstall: databricks-sdk\n    Found existing installation: databricks-sdk 0.40.0\n    Not uninstalling databricks-sdk at /databricks/python3/lib/python3.11/site-packages, outside environment /local_disk0/.ephemeral_nfs/envs/pythonEnv-eda351e5-7edf-4c6c-ab3c-e12cd70ad42f\n    Can't uninstall 'databricks-sdk'. No files were found to uninstall.\n  Attempting uninstall: databricks-connect\n    Found existing installation: databricks-connect 15.4.2\n    Not uninstalling databricks-connect at /databricks/python3/lib/python3.11/site-packages, outside environment /local_disk0/.ephemeral_nfs/envs/pythonEnv-eda351e5-7edf-4c6c-ab3c-e12cd70ad42f\n    Can't uninstall 'databricks-connect'. No files were found to uninstall.\n  Attempting uninstall: mlflow-skinny\n    Found existing installation: mlflow-skinny 2.11.4\n    Not uninstalling mlflow-skinny at /databricks/python3/lib/python3.11/site-packages, outside environment /local_disk0/.ephemeral_nfs/envs/pythonEnv-eda351e5-7edf-4c6c-ab3c-e12cd70ad42f\n    Can't uninstall 'mlflow-skinny'. No files were found to uninstall.\nSuccessfully installed Flask-3.1.0 Jinja2-3.1.6 Mako-1.3.10 MarkupSafe-3.0.2 Werkzeug-3.1.3 aiohappyeyeballs-2.6.1 aiohttp-3.11.16 aiohttp-retry-2.9.1 aiosignal-1.3.2 alembic-1.15.2 attrs-25.3.0 blinker-1.9.0 click-8.1.8 databricks-ai-bridge-0.4.1 databricks-connect-16.1.3 databricks-langchain-0.4.2 databricks-sdk-0.50.0 databricks-sql-connector-4.0.2 databricks-vectorsearch-0.55 dataclasses-json-0.6.7 deprecated-1.2.18 deprecation-2.1.0 docker-7.1.0 et-xmlfile-2.0.0 fastapi-0.115.12 frozenlist-1.5.0 graphene-3.4.3 graphql-core-3.2.6 graphql-relay-3.2.0 gunicorn-23.0.0 httpx-sse-0.4.0 itsdangerous-2.2.0 langchain-community-0.3.21 lz4-4.4.4 markdown-3.8 marshmallow-3.26.1 mlflow-2.21.3 mlflow-skinny-2.21.3 multidict-6.4.3 numpy-1.26.4 openpyxl-3.1.5 opentelemetry-api-1.32.1 opentelemetry-sdk-1.32.1 opentelemetry-semantic-conventions-0.53b1 propcache-0.3.1 pydantic-settings-2.8.1 python-dotenv-1.1.0 regex-2024.11.6 starlette-0.46.2 tabulate-0.9.0 thrift-0.20.0 tiktoken-0.9.0 typing-inspect-0.9.0 unitycatalog-ai-0.3.0 unitycatalog-client-0.2.1 unitycatalog-langchain-0.2.0 uvicorn-0.34.1 wrapt-1.17.2 yarl-1.20.0\n\u001B[43mNote: you may need to restart the kernel using %restart_python or dbutils.library.restartPython() to use updated packages.\u001B[0m\n"
     ]
    }
   ],
   "source": [
    "%pip install --upgrade databricks-langchain langchain-community langchain databricks-sql-connector"
   ]
  },
  {
   "cell_type": "code",
   "execution_count": 0,
   "metadata": {
    "application/vnd.databricks.v1+cell": {
     "cellMetadata": {
      "byteLimit": 2048000,
      "rowLimit": 10000
     },
     "collapsed": true,
     "inputWidgets": {},
     "nuid": "e67f0a43-58da-4f85-96d2-f7a28925efdf",
     "showTitle": false,
     "tableResultSettingsMap": {},
     "title": ""
    }
   },
   "outputs": [
    {
     "output_type": "stream",
     "name": "stdout",
     "output_type": "stream",
     "text": [
      "Collecting langchain\n  Downloading langchain-0.3.23-py3-none-any.whl.metadata (7.8 kB)\nCollecting openai\n  Downloading openai-1.75.0-py3-none-any.whl.metadata (25 kB)\nCollecting langchain-core<1.0.0,>=0.3.51 (from langchain)\n  Downloading langchain_core-0.3.52-py3-none-any.whl.metadata (5.9 kB)\nCollecting langchain-text-splitters<1.0.0,>=0.3.8 (from langchain)\n  Downloading langchain_text_splitters-0.3.8-py3-none-any.whl.metadata (1.9 kB)\nCollecting langsmith<0.4,>=0.1.17 (from langchain)\n  Downloading langsmith-0.3.31-py3-none-any.whl.metadata (15 kB)\nCollecting pydantic<3.0.0,>=2.7.4 (from langchain)\n  Downloading pydantic-2.11.3-py3-none-any.whl.metadata (65 kB)\nCollecting SQLAlchemy<3,>=1.4 (from langchain)\n  Downloading sqlalchemy-2.0.40-cp311-cp311-manylinux_2_17_x86_64.manylinux2014_x86_64.whl.metadata (9.6 kB)\nRequirement already satisfied: requests<3,>=2 in /databricks/python3/lib/python3.11/site-packages (from langchain) (2.31.0)\nRequirement already satisfied: PyYAML>=5.3 in /databricks/python3/lib/python3.11/site-packages (from langchain) (6.0)\nCollecting anyio<5,>=3.5.0 (from openai)\n  Downloading anyio-4.9.0-py3-none-any.whl.metadata (4.7 kB)\nRequirement already satisfied: distro<2,>=1.7.0 in /usr/lib/python3/dist-packages (from openai) (1.7.0)\nCollecting httpx<1,>=0.23.0 (from openai)\n  Downloading httpx-0.28.1-py3-none-any.whl.metadata (7.1 kB)\nCollecting jiter<1,>=0.4.0 (from openai)\n  Downloading jiter-0.9.0-cp311-cp311-manylinux_2_17_x86_64.manylinux2014_x86_64.whl.metadata (5.2 kB)\nCollecting sniffio (from openai)\n  Downloading sniffio-1.3.1-py3-none-any.whl.metadata (3.9 kB)\nCollecting tqdm>4 (from openai)\n  Downloading tqdm-4.67.1-py3-none-any.whl.metadata (57 kB)\nCollecting typing-extensions<5,>=4.11 (from openai)\n  Downloading typing_extensions-4.13.2-py3-none-any.whl.metadata (3.0 kB)\nRequirement already satisfied: idna>=2.8 in /databricks/python3/lib/python3.11/site-packages (from anyio<5,>=3.5.0->openai) (3.4)\nRequirement already satisfied: certifi in /databricks/python3/lib/python3.11/site-packages (from httpx<1,>=0.23.0->openai) (2023.7.22)\nCollecting httpcore==1.* (from httpx<1,>=0.23.0->openai)\n  Downloading httpcore-1.0.8-py3-none-any.whl.metadata (21 kB)\nCollecting h11<0.15,>=0.13 (from httpcore==1.*->httpx<1,>=0.23.0->openai)\n  Downloading h11-0.14.0-py3-none-any.whl.metadata (8.2 kB)\nRequirement already satisfied: tenacity!=8.4.0,<10.0.0,>=8.1.0 in /databricks/python3/lib/python3.11/site-packages (from langchain-core<1.0.0,>=0.3.51->langchain) (8.2.2)\nCollecting jsonpatch<2.0,>=1.33 (from langchain-core<1.0.0,>=0.3.51->langchain)\n  Downloading jsonpatch-1.33-py2.py3-none-any.whl.metadata (3.0 kB)\nRequirement already satisfied: packaging<25,>=23.2 in /databricks/python3/lib/python3.11/site-packages (from langchain-core<1.0.0,>=0.3.51->langchain) (23.2)\nCollecting orjson<4.0.0,>=3.9.14 (from langsmith<0.4,>=0.1.17->langchain)\n  Downloading orjson-3.10.16-cp311-cp311-manylinux_2_17_x86_64.manylinux2014_x86_64.whl.metadata (41 kB)\nCollecting requests-toolbelt<2.0.0,>=1.0.0 (from langsmith<0.4,>=0.1.17->langchain)\n  Downloading requests_toolbelt-1.0.0-py2.py3-none-any.whl.metadata (14 kB)\nRequirement already satisfied: zstandard<0.24.0,>=0.23.0 in /databricks/python3/lib/python3.11/site-packages (from langsmith<0.4,>=0.1.17->langchain) (0.23.0)\nCollecting annotated-types>=0.6.0 (from pydantic<3.0.0,>=2.7.4->langchain)\n  Downloading annotated_types-0.7.0-py3-none-any.whl.metadata (15 kB)\nCollecting pydantic-core==2.33.1 (from pydantic<3.0.0,>=2.7.4->langchain)\n  Downloading pydantic_core-2.33.1-cp311-cp311-manylinux_2_17_x86_64.manylinux2014_x86_64.whl.metadata (6.8 kB)\nCollecting typing-inspection>=0.4.0 (from pydantic<3.0.0,>=2.7.4->langchain)\n  Downloading typing_inspection-0.4.0-py3-none-any.whl.metadata (2.6 kB)\nRequirement already satisfied: charset-normalizer<4,>=2 in /databricks/python3/lib/python3.11/site-packages (from requests<3,>=2->langchain) (2.0.4)\nRequirement already satisfied: urllib3<3,>=1.21.1 in /databricks/python3/lib/python3.11/site-packages (from requests<3,>=2->langchain) (1.26.16)\nCollecting greenlet>=1 (from SQLAlchemy<3,>=1.4->langchain)\n  Downloading greenlet-3.2.0-cp311-cp311-manylinux_2_24_x86_64.manylinux_2_28_x86_64.whl.metadata (4.1 kB)\nCollecting jsonpointer>=1.9 (from jsonpatch<2.0,>=1.33->langchain-core<1.0.0,>=0.3.51->langchain)\n  Downloading jsonpointer-3.0.0-py2.py3-none-any.whl.metadata (2.3 kB)\nDownloading langchain-0.3.23-py3-none-any.whl (1.0 MB)\n\u001B[?25l   \u001B[90m━━━━━━━━━━━━━━━━━━━━━━━━━━━━━━━━━━━━━━━━\u001B[0m \u001B[32m0.0/1.0 MB\u001B[0m \u001B[31m?\u001B[0m eta \u001B[36m-:--:--\u001B[0m\n\u001B[2K   \u001B[90m━━━━━━━━━━━━━━━━━━━━━━━━━━━━━━━━━━━━━━━━\u001B[0m \u001B[32m1.0/1.0 MB\u001B[0m \u001B[31m8.5 MB/s\u001B[0m eta \u001B[36m0:00:00\u001B[0m\n\u001B[?25hDownloading openai-1.75.0-py3-none-any.whl (646 kB)\n\u001B[?25l   \u001B[90m━━━━━━━━━━━━━━━━━━━━━━━━━━━━━━━━━━━━━━━━\u001B[0m \u001B[32m0.0/647.0 kB\u001B[0m \u001B[31m?\u001B[0m eta \u001B[36m-:--:--\u001B[0m\n\u001B[2K   \u001B[90m━━━━━━━━━━━━━━━━━━━━━━━━━━━━━━━━━━━━━━━━\u001B[0m \u001B[32m647.0/647.0 kB\u001B[0m \u001B[31m20.9 MB/s\u001B[0m eta \u001B[36m0:00:00\u001B[0m\n\u001B[?25hDownloading anyio-4.9.0-py3-none-any.whl (100 kB)\nDownloading httpx-0.28.1-py3-none-any.whl (73 kB)\nDownloading httpcore-1.0.8-py3-none-any.whl (78 kB)\nDownloading jiter-0.9.0-cp311-cp311-manylinux_2_17_x86_64.manylinux2014_x86_64.whl (351 kB)\nDownloading langchain_core-0.3.52-py3-none-any.whl (433 kB)\nDownloading langchain_text_splitters-0.3.8-py3-none-any.whl (32 kB)\nDownloading langsmith-0.3.31-py3-none-any.whl (358 kB)\nDownloading pydantic-2.11.3-py3-none-any.whl (443 kB)\nDownloading pydantic_core-2.33.1-cp311-cp311-manylinux_2_17_x86_64.manylinux2014_x86_64.whl (2.0 MB)\n\u001B[?25l   \u001B[90m━━━━━━━━━━━━━━━━━━━━━━━━━━━━━━━━━━━━━━━━\u001B[0m \u001B[32m0.0/2.0 MB\u001B[0m \u001B[31m?\u001B[0m eta \u001B[36m-:--:--\u001B[0m\n\u001B[2K   \u001B[90m━━━━━━━━━━━━━━━━━━━━━━━━━━━━━━━━━━━━━━━━\u001B[0m \u001B[32m2.0/2.0 MB\u001B[0m \u001B[31m85.5 MB/s\u001B[0m eta \u001B[36m0:00:00\u001B[0m\n\u001B[?25hDownloading sniffio-1.3.1-py3-none-any.whl (10 kB)\nDownloading sqlalchemy-2.0.40-cp311-cp311-manylinux_2_17_x86_64.manylinux2014_x86_64.whl (3.2 MB)\n\u001B[?25l   \u001B[90m━━━━━━━━━━━━━━━━━━━━━━━━━━━━━━━━━━━━━━━━\u001B[0m \u001B[32m0.0/3.2 MB\u001B[0m \u001B[31m?\u001B[0m eta \u001B[36m-:--:--\u001B[0m\n\u001B[2K   \u001B[90m━━━━━━━━━━━━━━━━━━━━━━━━━━━━━━━━━━━━━━━━\u001B[0m \u001B[32m3.2/3.2 MB\u001B[0m \u001B[31m126.8 MB/s\u001B[0m eta \u001B[36m0:00:00\u001B[0m\n\u001B[?25hDownloading tqdm-4.67.1-py3-none-any.whl (78 kB)\nDownloading typing_extensions-4.13.2-py3-none-any.whl (45 kB)\nDownloading annotated_types-0.7.0-py3-none-any.whl (13 kB)\nDownloading greenlet-3.2.0-cp311-cp311-manylinux_2_24_x86_64.manylinux_2_28_x86_64.whl (583 kB)\n\u001B[?25l   \u001B[90m━━━━━━━━━━━━━━━━━━━━━━━━━━━━━━━━━━━━━━━━\u001B[0m \u001B[32m0.0/583.9 kB\u001B[0m \u001B[31m?\u001B[0m eta \u001B[36m-:--:--\u001B[0m\n\u001B[2K   \u001B[90m━━━━━━━━━━━━━━━━━━━━━━━━━━━━━━━━━━━━━━━━\u001B[0m \u001B[32m583.9/583.9 kB\u001B[0m \u001B[31m36.2 MB/s\u001B[0m eta \u001B[36m0:00:00\u001B[0m\n\u001B[?25hDownloading jsonpatch-1.33-py2.py3-none-any.whl (12 kB)\nDownloading orjson-3.10.16-cp311-cp311-manylinux_2_17_x86_64.manylinux2014_x86_64.whl (132 kB)\nDownloading requests_toolbelt-1.0.0-py2.py3-none-any.whl (54 kB)\nDownloading typing_inspection-0.4.0-py3-none-any.whl (14 kB)\nDownloading h11-0.14.0-py3-none-any.whl (58 kB)\nDownloading jsonpointer-3.0.0-py2.py3-none-any.whl (7.6 kB)\nInstalling collected packages: typing-extensions, tqdm, sniffio, orjson, jsonpointer, jiter, h11, greenlet, annotated-types, typing-inspection, SQLAlchemy, requests-toolbelt, pydantic-core, jsonpatch, httpcore, anyio, pydantic, httpx, openai, langsmith, langchain-core, langchain-text-splitters, langchain\n  Attempting uninstall: typing-extensions\n    Found existing installation: typing_extensions 4.10.0\n    Not uninstalling typing-extensions at /databricks/python3/lib/python3.11/site-packages, outside environment /local_disk0/.ephemeral_nfs/envs/pythonEnv-eda351e5-7edf-4c6c-ab3c-e12cd70ad42f\n    Can't uninstall 'typing_extensions'. No files were found to uninstall.\n  Attempting uninstall: pydantic\n    Found existing installation: pydantic 1.10.6\n    Not uninstalling pydantic at /databricks/python3/lib/python3.11/site-packages, outside environment /local_disk0/.ephemeral_nfs/envs/pythonEnv-eda351e5-7edf-4c6c-ab3c-e12cd70ad42f\n    Can't uninstall 'pydantic'. No files were found to uninstall.\nSuccessfully installed SQLAlchemy-2.0.40 annotated-types-0.7.0 anyio-4.9.0 greenlet-3.2.0 h11-0.14.0 httpcore-1.0.8 httpx-0.28.1 jiter-0.9.0 jsonpatch-1.33 jsonpointer-3.0.0 langchain-0.3.23 langchain-core-0.3.52 langchain-text-splitters-0.3.8 langsmith-0.3.31 openai-1.75.0 orjson-3.10.16 pydantic-2.11.3 pydantic-core-2.33.1 requests-toolbelt-1.0.0 sniffio-1.3.1 tqdm-4.67.1 typing-extensions-4.13.2 typing-inspection-0.4.0\n\u001B[43mNote: you may need to restart the kernel using %restart_python or dbutils.library.restartPython() to use updated packages.\u001B[0m\n"
     ]
    }
   ],
   "source": [
    "%pip install langchain openai\n"
   ]
  },
  {
   "cell_type": "code",
   "execution_count": 0,
   "metadata": {
    "application/vnd.databricks.v1+cell": {
     "cellMetadata": {
      "byteLimit": 2048000,
      "rowLimit": 10000
     },
     "inputWidgets": {},
     "nuid": "4154c897-0356-4333-87c6-634738dd3ed5",
     "showTitle": false,
     "tableResultSettingsMap": {},
     "title": ""
    }
   },
   "outputs": [
    {
     "output_type": "stream",
     "name": "stdout",
     "output_type": "stream",
     "text": [
      "\u001B[43mNote: you may need to restart the kernel using %restart_python or dbutils.library.restartPython() to use updated packages.\u001B[0m\n"
     ]
    }
   ],
   "source": [
    "# Install required libraries\n",
    "%pip install -q langchain langchain-nvidia-ai-endpoints gradio\n"
   ]
  },
  {
   "cell_type": "code",
   "execution_count": 0,
   "metadata": {
    "application/vnd.databricks.v1+cell": {
     "cellMetadata": {
      "byteLimit": 2048000,
      "rowLimit": 10000
     },
     "inputWidgets": {},
     "nuid": "41d341ef-7388-4461-9c99-60987ff86c94",
     "showTitle": false,
     "tableResultSettingsMap": {},
     "title": ""
    }
   },
   "outputs": [],
   "source": [
    "%restart_python"
   ]
  },
  {
   "cell_type": "code",
   "execution_count": 0,
   "metadata": {
    "application/vnd.databricks.v1+cell": {
     "cellMetadata": {
      "byteLimit": 2048000,
      "rowLimit": 10000
     },
     "inputWidgets": {},
     "nuid": "f23a05ce-da00-4a5d-9af0-0a80272e554a",
     "showTitle": false,
     "tableResultSettingsMap": {},
     "title": ""
    }
   },
   "outputs": [],
   "source": [
    "import os\n",
    "os.environ[\"NVIDIA_API_KEY\"] = \"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\"\n",
    "\n",
    "from langchain_nvidia_ai_endpoints import ChatNVIDIA\n",
    "from langchain.prompts import PromptTemplate, FewShotPromptTemplate\n",
    "from langchain.chains import LLMChain\n",
    "from langchain_core.output_parsers import StrOutputParser\n",
    "from langchain_core.prompts import ChatPromptTemplate"
   ]
  },
  {
   "cell_type": "markdown",
   "metadata": {
    "application/vnd.databricks.v1+cell": {
     "cellMetadata": {},
     "inputWidgets": {},
     "nuid": "50d9c6d6-1063-432d-a6c3-2a8bf4709346",
     "showTitle": false,
     "tableResultSettingsMap": {},
     "title": ""
    }
   },
   "source": [
    "#### ZERO-SHOT CLASSIFICATION (NVIDIA)"
   ]
  },
  {
   "cell_type": "code",
   "execution_count": 0,
   "metadata": {
    "application/vnd.databricks.v1+cell": {
     "cellMetadata": {
      "byteLimit": 2048000,
      "rowLimit": 10000
     },
     "inputWidgets": {},
     "nuid": "3dd091f4-8706-4ae3-a3ba-391f748a9bef",
     "showTitle": false,
     "tableResultSettingsMap": {},
     "title": ""
    }
   },
   "outputs": [],
   "source": [
    "\n"
   ]
  },
  {
   "cell_type": "code",
   "execution_count": 0,
   "metadata": {
    "application/vnd.databricks.v1+cell": {
     "cellMetadata": {
      "byteLimit": 2048000,
      "rowLimit": 10000
     },
     "inputWidgets": {},
     "nuid": "2d503138-89ab-4b62-ad1b-25ffb94ea8a4",
     "showTitle": false,
     "tableResultSettingsMap": {},
     "title": ""
    }
   },
   "outputs": [
    {
     "output_type": "stream",
     "name": "stderr",
     "output_type": "stream",
     "text": [
      "/home/spark-eda351e5-7edf-4c6c-ab3c-e1/.ipykernel/87908/command-5180095510527972-3698592350:17: LangChainDeprecationWarning: The class `LLMChain` was deprecated in LangChain 0.1.17 and will be removed in 1.0. Use :meth:`~RunnableSequence, e.g., `prompt | llm`` instead.\n  chain = LLMChain(llm=llm, prompt=prompt)\n/home/spark-eda351e5-7edf-4c6c-ab3c-e1/.ipykernel/87908/command-5180095510527972-3698592350:21: LangChainDeprecationWarning: The method `Chain.run` was deprecated in langchain 0.1.0 and will be removed in 1.0. Use :meth:`~invoke` instead.\n  result = chain.run(text=text_input)\n"
     ]
    },
    {
     "output_type": "stream",
     "name": "stdout",
     "output_type": "stream",
     "text": [
      "Prediction: Technology\n"
     ]
    }
   ],
   "source": [
    "llm = ChatNVIDIA(model=\"meta/llama3-8b-instruct\", temperature=0)\n",
    "\n",
    "prompt = PromptTemplate(\n",
    "    input_variables=[\"text\"],\n",
    "    template=\"\"\"\n",
    "You are a smart assistant that classifies the input text into one of the following categories:\n",
    "- Technology\n",
    "- Sports\n",
    "- Finance\n",
    "- Health\n",
    "- Education\n",
    "\n",
    "Text: {text}\n",
    "Category:\"\"\"\n",
    ")\n",
    "\n",
    "chain = LLMChain(llm=llm, prompt=prompt)\n",
    "\n",
    "# Run\n",
    "text_input = \"Apple released a new M3 chip for laptops.\"\n",
    "result = chain.run(text=text_input)\n",
    "print(\"Prediction:\", result.strip())\n"
   ]
  },
  {
   "cell_type": "markdown",
   "metadata": {
    "application/vnd.databricks.v1+cell": {
     "cellMetadata": {},
     "inputWidgets": {},
     "nuid": "4ef95a1b-9593-40a4-901f-885627fcb351",
     "showTitle": false,
     "tableResultSettingsMap": {},
     "title": ""
    }
   },
   "source": [
    "#### ONE-SHOT CLASSIFICATION (NVIDIA)"
   ]
  },
  {
   "cell_type": "code",
   "execution_count": 0,
   "metadata": {
    "application/vnd.databricks.v1+cell": {
     "cellMetadata": {
      "byteLimit": 2048000,
      "rowLimit": 10000
     },
     "inputWidgets": {},
     "nuid": "8b7e993c-2c6f-44f5-a32f-93d236de106f",
     "showTitle": false,
     "tableResultSettingsMap": {},
     "title": ""
    }
   },
   "outputs": [
    {
     "output_type": "stream",
     "name": "stdout",
     "output_type": "stream",
     "text": [
      "Prediction: Technology\n"
     ]
    }
   ],
   "source": [
    "example = {\n",
    "    \"text\": \"Cristiano Ronaldo scored a goal for Al Nassr.\",\n",
    "    \"label\": \"Sports\"\n",
    "}\n",
    "\n",
    "prompt = PromptTemplate(\n",
    "    input_variables=[\"example_text\", \"example_label\", \"text\"],\n",
    "    template=\"\"\"\n",
    "You are a smart assistant that classifies text into:\n",
    "Technology, Sports, Finance, Health, Education\n",
    "\n",
    "Example:\n",
    "Text: {example_text}\n",
    "Category: {example_label}\n",
    "\n",
    "Now classify:\n",
    "Text: {text}\n",
    "Category:\"\"\"\n",
    ")\n",
    "\n",
    "chain = LLMChain(llm=llm, prompt=prompt)\n",
    "\n",
    "text_input = \"Google is working on quantum computing.\"\n",
    "result = chain.run(example_text=example[\"text\"], example_label=example[\"label\"], text=text_input)\n",
    "print(\"Prediction:\", result.strip())\n"
   ]
  },
  {
   "cell_type": "markdown",
   "metadata": {
    "application/vnd.databricks.v1+cell": {
     "cellMetadata": {},
     "inputWidgets": {},
     "nuid": "fc736dbd-8f2d-4f1a-b612-28bbd00691be",
     "showTitle": false,
     "tableResultSettingsMap": {},
     "title": ""
    }
   },
   "source": [
    "#### FEW-SHOT CLASSIFICATION (NVIDIA)"
   ]
  },
  {
   "cell_type": "code",
   "execution_count": 0,
   "metadata": {
    "application/vnd.databricks.v1+cell": {
     "cellMetadata": {
      "byteLimit": 2048000,
      "rowLimit": 10000
     },
     "inputWidgets": {},
     "nuid": "4da6dd9b-b3d6-4530-9fde-904b8b5458cd",
     "showTitle": false,
     "tableResultSettingsMap": {},
     "title": ""
    }
   },
   "outputs": [
    {
     "output_type": "stream",
     "name": "stdout",
     "output_type": "stream",
     "text": [
      "Prediction: Text: The Indian cricket team won the World Cup.\nCategory: Sports\n"
     ]
    }
   ],
   "source": [
    "examples = [\n",
    "    {\"text\": \"Apple unveils Vision Pro headset.\", \"label\": \"Technology\"},\n",
    "    {\"text\": \"The S&P 500 rose 2% today.\", \"label\": \"Finance\"},\n",
    "    {\"text\": \"Meditation helps reduce anxiety.\", \"label\": \"Health\"},\n",
    "]\n",
    "\n",
    "example_prompt = PromptTemplate(\n",
    "    input_variables=[\"text\", \"label\"],\n",
    "    template=\"Text: {text}\\nCategory: {label}\\n\"\n",
    ")\n",
    "\n",
    "few_shot_prompt = FewShotPromptTemplate(\n",
    "    examples=examples,\n",
    "    example_prompt=example_prompt,\n",
    "    prefix=\"Classify the following text into one of the categories: Technology, Sports, Finance, Health, Education.\\nExamples:\",\n",
    "    suffix=\"Text: {text}\\nCategory:\",\n",
    "    input_variables=[\"text\"]\n",
    ")\n",
    "\n",
    "chain = LLMChain(llm=llm, prompt=few_shot_prompt)\n",
    "\n",
    "text_input = \"The Indian cricket team won the World Cup.\"\n",
    "result = chain.run(text=text_input)\n",
    "print(\"Prediction:\", result.strip())\n"
   ]
  },
  {
   "cell_type": "code",
   "execution_count": 0,
   "metadata": {
    "application/vnd.databricks.v1+cell": {
     "cellMetadata": {},
     "inputWidgets": {},
     "nuid": "d1d623db-0620-45a1-a6b5-3ff6748d6dd0",
     "showTitle": false,
     "tableResultSettingsMap": {},
     "title": ""
    }
   },
   "outputs": [],
   "source": []
  }
 ],
 "metadata": {
  "application/vnd.databricks.v1+notebook": {
   "computePreferences": null,
   "dashboards": [],
   "environmentMetadata": {
    "base_environment": "",
    "environment_version": "2"
   },
   "inputWidgetPreferences": null,
   "language": "python",
   "notebookMetadata": {
    "pythonIndentUnit": 4
   },
   "notebookName": "zero_one_few-shot_classification_using_langchain",
   "widgets": {}
  },
  "language_info": {
   "name": "python"
  }
 },
 "nbformat": 4,
 "nbformat_minor": 0
}